{
  "cells": [
    {
      "cell_type": "code",
      "execution_count": 2,
      "metadata": {
        "id": "eu3Mha5lpA2w"
      },
      "outputs": [],
      "source": [
        "!pip install wandb -q"
      ]
    },
    {
      "cell_type": "code",
      "execution_count": 3,
      "metadata": {
        "id": "vDntst57W7Ye"
      },
      "outputs": [],
      "source": [
        "import numpy as np\n",
        "import pandas as pd\n",
        "import matplotlib.pyplot as plt\n",
        "import seaborn as sns\n",
        "\n",
        "from sklearn.pipeline import Pipeline\n",
        "from sklearn.preprocessing import PolynomialFeatures\n",
        "from sklearn.preprocessing import PowerTransformer\n",
        "from sklearn.preprocessing import StandardScaler ,MinMaxScaler,LabelEncoder,OrdinalEncoder\n",
        "#from category_encoders import TargetEncoder\n",
        "from sklearn.impute import SimpleImputer\n",
        "from sklearn.compose import ColumnTransformer\n",
        "from sklearn.linear_model import LogisticRegression\n",
        "import scipy.stats as stats\n",
        "from sklearn.metrics import confusion_matrix\n",
        "from sklearn.metrics import accuracy_score as acc\n",
        "from sklearn.metrics import f1_score as f1\n",
        "from sklearn.preprocessing import OneHotEncoder,OrdinalEncoder\n",
        "from sklearn.model_selection import GridSearchCV\n",
        "from sklearn.impute import KNNImputer\n",
        "from sklearn.base import BaseEstimator\n",
        "from sklearn.metrics import precision_score, recall_score, confusion_matrix, classification_report, roc_curve, precision_recall_curve\n",
        "import itertools\n",
        "from sklearn.model_selection import train_test_split\n",
        "import scipy.stats as stats\n",
        "from sklearn.metrics import classification_report\n",
        "from sklearn.model_selection import StratifiedKFold\n",
        "from sklearn.model_selection import cross_validate\n",
        "from sklearn.base import BaseEstimator\n",
        "from sklearn.ensemble import RandomForestClassifier\n",
        "import warnings\n",
        "warnings.filterwarnings(\"ignore\")"
      ]
    },
    {
      "cell_type": "code",
      "execution_count": 4,
      "metadata": {
        "colab": {
          "base_uri": "https://localhost:8080/"
        },
        "id": "mv6bipMKT109",
        "outputId": "9aaa81de-1659-4f2c-b455-df5ed8e7ee2b"
      },
      "outputs": [
        {
          "output_type": "stream",
          "name": "stdout",
          "text": [
            "Collecting category_encoders\n",
            "  Downloading category_encoders-2.8.0-py3-none-any.whl.metadata (7.9 kB)\n",
            "Requirement already satisfied: numpy>=1.14.0 in /usr/local/lib/python3.11/dist-packages (from category_encoders) (1.26.4)\n",
            "Requirement already satisfied: pandas>=1.0.5 in /usr/local/lib/python3.11/dist-packages (from category_encoders) (2.2.2)\n",
            "Requirement already satisfied: patsy>=0.5.1 in /usr/local/lib/python3.11/dist-packages (from category_encoders) (1.0.1)\n",
            "Requirement already satisfied: scikit-learn>=1.6.0 in /usr/local/lib/python3.11/dist-packages (from category_encoders) (1.6.1)\n",
            "Requirement already satisfied: scipy>=1.0.0 in /usr/local/lib/python3.11/dist-packages (from category_encoders) (1.13.1)\n",
            "Requirement already satisfied: statsmodels>=0.9.0 in /usr/local/lib/python3.11/dist-packages (from category_encoders) (0.14.4)\n",
            "Requirement already satisfied: python-dateutil>=2.8.2 in /usr/local/lib/python3.11/dist-packages (from pandas>=1.0.5->category_encoders) (2.8.2)\n",
            "Requirement already satisfied: pytz>=2020.1 in /usr/local/lib/python3.11/dist-packages (from pandas>=1.0.5->category_encoders) (2025.1)\n",
            "Requirement already satisfied: tzdata>=2022.7 in /usr/local/lib/python3.11/dist-packages (from pandas>=1.0.5->category_encoders) (2025.1)\n",
            "Requirement already satisfied: joblib>=1.2.0 in /usr/local/lib/python3.11/dist-packages (from scikit-learn>=1.6.0->category_encoders) (1.4.2)\n",
            "Requirement already satisfied: threadpoolctl>=3.1.0 in /usr/local/lib/python3.11/dist-packages (from scikit-learn>=1.6.0->category_encoders) (3.5.0)\n",
            "Requirement already satisfied: packaging>=21.3 in /usr/local/lib/python3.11/dist-packages (from statsmodels>=0.9.0->category_encoders) (24.2)\n",
            "Requirement already satisfied: six>=1.5 in /usr/local/lib/python3.11/dist-packages (from python-dateutil>=2.8.2->pandas>=1.0.5->category_encoders) (1.17.0)\n",
            "Downloading category_encoders-2.8.0-py3-none-any.whl (85 kB)\n",
            "\u001b[2K   \u001b[90m━━━━━━━━━━━━━━━━━━━━━━━━━━━━━━━━━━━━━━━━\u001b[0m \u001b[32m85.7/85.7 kB\u001b[0m \u001b[31m2.2 MB/s\u001b[0m eta \u001b[36m0:00:00\u001b[0m\n",
            "\u001b[?25hInstalling collected packages: category_encoders\n",
            "Successfully installed category_encoders-2.8.0\n"
          ]
        }
      ],
      "source": [
        "!pip install category_encoders"
      ]
    },
    {
      "cell_type": "code",
      "execution_count": 5,
      "metadata": {
        "colab": {
          "base_uri": "https://localhost:8080/"
        },
        "id": "VUyRTBIMTMP1",
        "outputId": "2ea2300a-dd6f-49e1-fb6c-7a777f6a1e6f"
      },
      "outputs": [
        {
          "output_type": "stream",
          "name": "stdout",
          "text": [
            "Collecting ucimlrepo\n",
            "  Downloading ucimlrepo-0.0.7-py3-none-any.whl.metadata (5.5 kB)\n",
            "Requirement already satisfied: pandas>=1.0.0 in /usr/local/lib/python3.11/dist-packages (from ucimlrepo) (2.2.2)\n",
            "Requirement already satisfied: certifi>=2020.12.5 in /usr/local/lib/python3.11/dist-packages (from ucimlrepo) (2025.1.31)\n",
            "Requirement already satisfied: numpy>=1.23.2 in /usr/local/lib/python3.11/dist-packages (from pandas>=1.0.0->ucimlrepo) (1.26.4)\n",
            "Requirement already satisfied: python-dateutil>=2.8.2 in /usr/local/lib/python3.11/dist-packages (from pandas>=1.0.0->ucimlrepo) (2.8.2)\n",
            "Requirement already satisfied: pytz>=2020.1 in /usr/local/lib/python3.11/dist-packages (from pandas>=1.0.0->ucimlrepo) (2025.1)\n",
            "Requirement already satisfied: tzdata>=2022.7 in /usr/local/lib/python3.11/dist-packages (from pandas>=1.0.0->ucimlrepo) (2025.1)\n",
            "Requirement already satisfied: six>=1.5 in /usr/local/lib/python3.11/dist-packages (from python-dateutil>=2.8.2->pandas>=1.0.0->ucimlrepo) (1.17.0)\n",
            "Downloading ucimlrepo-0.0.7-py3-none-any.whl (8.0 kB)\n",
            "Installing collected packages: ucimlrepo\n",
            "Successfully installed ucimlrepo-0.0.7\n"
          ]
        }
      ],
      "source": [
        "!pip install ucimlrepo"
      ]
    },
    {
      "cell_type": "code",
      "execution_count": 6,
      "metadata": {
        "colab": {
          "base_uri": "https://localhost:8080/",
          "height": 1000
        },
        "id": "wPXk7oAaTEdj",
        "outputId": "48793843-b0c1-4d9b-858f-caaba8108ea1"
      },
      "outputs": [
        {
          "output_type": "display_data",
          "data": {
            "text/plain": [
              "{'uci_id': 296,\n",
              " 'name': 'Diabetes 130-US Hospitals for Years 1999-2008',\n",
              " 'repository_url': 'https://archive.ics.uci.edu/dataset/296/diabetes+130-us+hospitals+for+years+1999-2008',\n",
              " 'data_url': 'https://archive.ics.uci.edu/static/public/296/data.csv',\n",
              " 'abstract': 'The dataset represents ten years (1999-2008) of clinical care at 130 US hospitals and integrated delivery networks. Each row concerns hospital records of patients diagnosed with diabetes, who underwent laboratory, medications, and stayed up to 14 days. The goal is to determine the early readmission of the patient within 30 days of discharge.\\nThe problem is important for the following reasons. Despite high-quality evidence showing improved clinical outcomes for diabetic patients who receive various preventive and therapeutic interventions, many patients do not receive them. This can be partially attributed to arbitrary diabetes management in hospital environments, which fail to attend to glycemic control. Failure to provide proper diabetes care not only increases the managing costs for the hospitals (as the patients are readmitted) but also impacts the morbidity and mortality of the patients, who may face complications associated with diabetes.\\n',\n",
              " 'area': 'Health and Medicine',\n",
              " 'tasks': ['Classification', 'Clustering'],\n",
              " 'characteristics': ['Multivariate'],\n",
              " 'num_instances': 101766,\n",
              " 'num_features': 47,\n",
              " 'feature_types': ['Categorical', 'Integer'],\n",
              " 'demographics': ['Race', 'Gender', 'Age'],\n",
              " 'target_col': ['readmitted'],\n",
              " 'index_col': ['encounter_id', 'patient_nbr'],\n",
              " 'has_missing_values': 'yes',\n",
              " 'missing_values_symbol': 'NaN',\n",
              " 'year_of_dataset_creation': 2014,\n",
              " 'last_updated': 'Tue Sep 24 2024',\n",
              " 'dataset_doi': '10.24432/C5230J',\n",
              " 'creators': ['John Clore', 'Krzysztof Cios', 'Jon DeShazo', 'Beata Strack'],\n",
              " 'intro_paper': {'ID': 225,\n",
              "  'type': 'NATIVE',\n",
              "  'title': 'Impact of HbA1c Measurement on Hospital Readmission Rates: Analysis of 70,000 Clinical Database Patient Record',\n",
              "  'authors': 'Beata Strack, Jonathan DeShazo, Chris Gennings, Juan Olmo, Sebastian Ventura, Krzysztof Cios, John Clore',\n",
              "  'venue': 'BioMed Research International, vol. 2014',\n",
              "  'year': 2014,\n",
              "  'journal': None,\n",
              "  'DOI': None,\n",
              "  'URL': 'https://www.hindawi.com/journals/bmri/2014/781670/',\n",
              "  'sha': None,\n",
              "  'corpus': None,\n",
              "  'arxiv': None,\n",
              "  'mag': None,\n",
              "  'acl': None,\n",
              "  'pmid': None,\n",
              "  'pmcid': None},\n",
              " 'additional_info': {'summary': 'The dataset represents ten years (1999-2008) of clinical care at 130 US hospitals and integrated delivery networks. It includes over 50 features representing patient and hospital outcomes. Information was extracted from the database for encounters that satisfied the following criteria.\\n(1)\\tIt is an inpatient encounter (a hospital admission).\\n(2)\\tIt is a diabetic encounter, that is, one during which any kind of diabetes was entered into the system as a diagnosis.\\n(3)\\tThe length of stay was at least 1 day and at most 14 days.\\n(4)\\tLaboratory tests were performed during the encounter.\\n(5)\\tMedications were administered during the encounter.\\n\\nThe data contains such attributes as patient number, race, gender, age, admission type, time in hospital, medical specialty of admitting physician, number of lab tests performed, HbA1c test result, diagnosis, number of medications, diabetic medications, number of outpatient, inpatient, and emergency visits in the year before the hospitalization, etc.',\n",
              "  'purpose': None,\n",
              "  'funded_by': None,\n",
              "  'instances_represent': 'The instances represent hospitalized patient records diagnosed with diabetes.',\n",
              "  'recommended_data_splits': 'No recommendation. The standard train-test split could be used. Can use three-way holdout split (i.e., train-validation-test) when doing model selection.',\n",
              "  'sensitive_data': 'Yes. The dataset contains information about the age, gender, and race of the patients.',\n",
              "  'preprocessing_description': None,\n",
              "  'variable_info': 'Detailed description of all the atrributes is provided in Table 1 Beata Strack, Jonathan P. DeShazo, Chris Gennings,  Juan L. Olmo, Sebastian Ventura,  Krzysztof J. Cios, and John N. Clore, “Impact of HbA1c Measurement on Hospital Readmission Rates: Analysis of 70,000 Clinical Database Patient Records,” BioMed Research International, vol. 2014, Article ID 781670, 11 pages, 2014.\\n\\nhttp://www.hindawi.com/journals/bmri/2014/781670/',\n",
              "  'citation': 'Please cite:\\nBeata Strack, Jonathan P. DeShazo, Chris Gennings, Juan L. Olmo, Sebastian Ventura, Krzysztof J. Cios, and John N. Clore, “Impact of HbA1c Measurement on Hospital Readmission Rates: Analysis of 70,000 Clinical Database Patient Records,” BioMed Research International, vol. 2014, Article ID 781670, 11 pages, 2014.'}}"
            ]
          },
          "metadata": {}
        },
        {
          "output_type": "stream",
          "name": "stdout",
          "text": [
            "                        name     role         type demographic  \\\n",
            "0               encounter_id       ID                     None   \n",
            "1                patient_nbr       ID                     None   \n",
            "2                       race  Feature  Categorical        Race   \n",
            "3                     gender  Feature  Categorical      Gender   \n",
            "4                        age  Feature  Categorical         Age   \n",
            "5                     weight  Feature  Categorical        None   \n",
            "6          admission_type_id  Feature  Categorical        None   \n",
            "7   discharge_disposition_id  Feature  Categorical        None   \n",
            "8        admission_source_id  Feature  Categorical        None   \n",
            "9           time_in_hospital  Feature      Integer        None   \n",
            "10                payer_code  Feature  Categorical        None   \n",
            "11         medical_specialty  Feature  Categorical        None   \n",
            "12        num_lab_procedures  Feature      Integer        None   \n",
            "13            num_procedures  Feature      Integer        None   \n",
            "14           num_medications  Feature      Integer        None   \n",
            "15         number_outpatient  Feature      Integer        None   \n",
            "16          number_emergency  Feature      Integer        None   \n",
            "17          number_inpatient  Feature      Integer        None   \n",
            "18                    diag_1  Feature  Categorical        None   \n",
            "19                    diag_2  Feature  Categorical        None   \n",
            "20                    diag_3  Feature  Categorical        None   \n",
            "21          number_diagnoses  Feature      Integer        None   \n",
            "22             max_glu_serum  Feature  Categorical        None   \n",
            "23                 A1Cresult  Feature  Categorical        None   \n",
            "24                 metformin  Feature  Categorical        None   \n",
            "25               repaglinide  Feature  Categorical        None   \n",
            "26               nateglinide  Feature  Categorical        None   \n",
            "27            chlorpropamide  Feature  Categorical        None   \n",
            "28               glimepiride  Feature  Categorical        None   \n",
            "29             acetohexamide  Feature  Categorical        None   \n",
            "30                 glipizide  Feature  Categorical        None   \n",
            "31                 glyburide  Feature  Categorical        None   \n",
            "32               tolbutamide  Feature  Categorical        None   \n",
            "33              pioglitazone  Feature  Categorical        None   \n",
            "34             rosiglitazone  Feature  Categorical        None   \n",
            "35                  acarbose  Feature  Categorical        None   \n",
            "36                  miglitol  Feature  Categorical        None   \n",
            "37              troglitazone  Feature  Categorical        None   \n",
            "38                tolazamide  Feature  Categorical        None   \n",
            "39                   examide  Feature  Categorical        None   \n",
            "40               citoglipton  Feature  Categorical        None   \n",
            "41                   insulin  Feature  Categorical        None   \n",
            "42       glyburide-metformin  Feature  Categorical        None   \n",
            "43       glipizide-metformin  Feature  Categorical        None   \n",
            "44  glimepiride-pioglitazone  Feature  Categorical        None   \n",
            "45   metformin-rosiglitazone  Feature  Categorical        None   \n",
            "46    metformin-pioglitazone  Feature  Categorical        None   \n",
            "47                    change  Feature  Categorical        None   \n",
            "48               diabetesMed  Feature  Categorical        None   \n",
            "49                readmitted   Target  Categorical        None   \n",
            "\n",
            "                                          description units missing_values  \n",
            "0                   Unique identifier of an encounter  None             no  \n",
            "1                      Unique identifier of a patient  None             no  \n",
            "2   Values: Caucasian, Asian, African American, Hi...  None            yes  \n",
            "3           Values: male, female, and unknown/invalid  None             no  \n",
            "4   Grouped in 10-year intervals: [0, 10), [10, 20...  None             no  \n",
            "5                                   Weight in pounds.  None            yes  \n",
            "6   Integer identifier corresponding to 9 distinct...  None             no  \n",
            "7   Integer identifier corresponding to 29 distinc...  None             no  \n",
            "8   Integer identifier corresponding to 21 distinc...  None             no  \n",
            "9   Integer number of days between admission and d...  None             no  \n",
            "10  Integer identifier corresponding to 23 distinc...  None            yes  \n",
            "11  Integer identifier of a specialty of the admit...  None            yes  \n",
            "12  Number of lab tests performed during the encou...  None             no  \n",
            "13  Number of procedures (other than lab tests) pe...  None             no  \n",
            "14  Number of distinct generic names administered ...  None             no  \n",
            "15  Number of outpatient visits of the patient in ...  None             no  \n",
            "16  Number of emergency visits of the patient in t...  None             no  \n",
            "17  Number of inpatient visits of the patient in t...  None             no  \n",
            "18  The primary diagnosis (coded as first three di...  None            yes  \n",
            "19  Secondary diagnosis (coded as first three digi...  None            yes  \n",
            "20  Additional secondary diagnosis (coded as first...  None            yes  \n",
            "21          Number of diagnoses entered to the system  None             no  \n",
            "22  Indicates the range of the result or if the te...  None             no  \n",
            "23  Indicates the range of the result or if the te...  None             no  \n",
            "24  The feature indicates whether the drug was pre...  None             no  \n",
            "25  The feature indicates whether the drug was pre...  None             no  \n",
            "26  The feature indicates whether the drug was pre...  None             no  \n",
            "27  The feature indicates whether the drug was pre...  None             no  \n",
            "28  The feature indicates whether the drug was pre...  None             no  \n",
            "29  The feature indicates whether the drug was pre...  None             no  \n",
            "30  The feature indicates whether the drug was pre...  None             no  \n",
            "31  The feature indicates whether the drug was pre...  None             no  \n",
            "32  The feature indicates whether the drug was pre...  None             no  \n",
            "33  The feature indicates whether the drug was pre...  None             no  \n",
            "34  The feature indicates whether the drug was pre...  None             no  \n",
            "35  The feature indicates whether the drug was pre...  None             no  \n",
            "36  The feature indicates whether the drug was pre...  None             no  \n",
            "37  The feature indicates whether the drug was pre...  None             no  \n",
            "38  The feature indicates whether the drug was pre...  None             no  \n",
            "39  The feature indicates whether the drug was pre...  None             no  \n",
            "40  The feature indicates whether the drug was pre...  None             no  \n",
            "41  The feature indicates whether the drug was pre...  None             no  \n",
            "42  The feature indicates whether the drug was pre...  None             no  \n",
            "43  The feature indicates whether the drug was pre...  None             no  \n",
            "44  The feature indicates whether the drug was pre...  None             no  \n",
            "45  The feature indicates whether the drug was pre...  None             no  \n",
            "46  The feature indicates whether the drug was pre...  None             no  \n",
            "47  Indicates if there was a change in diabetic me...  None             no  \n",
            "48  Indicates if there was any diabetic medication...  None             no  \n",
            "49  Days to inpatient readmission. Values: <30 if ...  None             no  \n"
          ]
        }
      ],
      "source": [
        "from ucimlrepo import fetch_ucirepo\n",
        "from category_encoders import TargetEncoder\n",
        "from function import *\n",
        "\n",
        "# fetch dataset\n",
        "diabetes_130_us_hospitals_for_years_1999_2008 = fetch_ucirepo(id=296)\n",
        "\n",
        "# data (as pandas dataframes)\n",
        "X = diabetes_130_us_hospitals_for_years_1999_2008.data.features\n",
        "y = diabetes_130_us_hospitals_for_years_1999_2008.data.targets\n",
        "\n",
        "display(diabetes_130_us_hospitals_for_years_1999_2008.metadata)\n",
        "\n",
        "# variable information\n",
        "print(diabetes_130_us_hospitals_for_years_1999_2008.variables)\n"
      ]
    },
    {
      "cell_type": "code",
      "execution_count": 7,
      "metadata": {
        "colab": {
          "base_uri": "https://localhost:8080/",
          "height": 360
        },
        "id": "ZowAkGtvTZBZ",
        "outputId": "e9fa9e3c-e2d1-43a5-bb46-15210ed470ac"
      },
      "outputs": [
        {
          "output_type": "execute_result",
          "data": {
            "text/plain": [
              "                  race  gender      age weight  admission_type_id  \\\n",
              "7501         Caucasian  Female  [50-60)    NaN                  2   \n",
              "86997        Caucasian  Female  [80-90)    NaN                  2   \n",
              "55478        Caucasian    Male  [80-90)    NaN                  1   \n",
              "25813        Caucasian  Female  [60-70)    NaN                  1   \n",
              "88859  AfricanAmerican  Female  [60-70)    NaN                  3   \n",
              "\n",
              "       discharge_disposition_id  admission_source_id  time_in_hospital  \\\n",
              "7501                          5                    1                10   \n",
              "86997                        22                    7                 8   \n",
              "55478                         6                    1                 2   \n",
              "25813                         6                    4                 8   \n",
              "88859                         1                    1                 2   \n",
              "\n",
              "      payer_code                medical_specialty  ...  examide  citoglipton  \\\n",
              "7501         NaN                 InternalMedicine  ...       No           No   \n",
              "86997         MC                  Surgery-General  ...       No           No   \n",
              "55478         MC                              NaN  ...       No           No   \n",
              "25813        NaN  Surgery-Cardiovascular/Thoracic  ...       No           No   \n",
              "88859         MC           Family/GeneralPractice  ...       No           No   \n",
              "\n",
              "       insulin  glyburide-metformin  glipizide-metformin  \\\n",
              "7501        No                   No                   No   \n",
              "86997       Up                   No                   No   \n",
              "55478       Up                   No                   No   \n",
              "25813   Steady                   No                   No   \n",
              "88859   Steady                   No                   No   \n",
              "\n",
              "       glimepiride-pioglitazone metformin-rosiglitazone  \\\n",
              "7501                         No                      No   \n",
              "86997                        No                      No   \n",
              "55478                        No                      No   \n",
              "25813                        No                      No   \n",
              "88859                        No                      No   \n",
              "\n",
              "      metformin-pioglitazone change  diabetesMed  \n",
              "7501                      No     No          Yes  \n",
              "86997                     No     Ch          Yes  \n",
              "55478                     No     Ch          Yes  \n",
              "25813                     No     Ch          Yes  \n",
              "88859                     No     No          Yes  \n",
              "\n",
              "[5 rows x 47 columns]"
            ],
            "text/html": [
              "\n",
              "  <div id=\"df-9ec602aa-6669-4f2f-9277-203b63274d57\" class=\"colab-df-container\">\n",
              "    <div>\n",
              "<style scoped>\n",
              "    .dataframe tbody tr th:only-of-type {\n",
              "        vertical-align: middle;\n",
              "    }\n",
              "\n",
              "    .dataframe tbody tr th {\n",
              "        vertical-align: top;\n",
              "    }\n",
              "\n",
              "    .dataframe thead th {\n",
              "        text-align: right;\n",
              "    }\n",
              "</style>\n",
              "<table border=\"1\" class=\"dataframe\">\n",
              "  <thead>\n",
              "    <tr style=\"text-align: right;\">\n",
              "      <th></th>\n",
              "      <th>race</th>\n",
              "      <th>gender</th>\n",
              "      <th>age</th>\n",
              "      <th>weight</th>\n",
              "      <th>admission_type_id</th>\n",
              "      <th>discharge_disposition_id</th>\n",
              "      <th>admission_source_id</th>\n",
              "      <th>time_in_hospital</th>\n",
              "      <th>payer_code</th>\n",
              "      <th>medical_specialty</th>\n",
              "      <th>...</th>\n",
              "      <th>examide</th>\n",
              "      <th>citoglipton</th>\n",
              "      <th>insulin</th>\n",
              "      <th>glyburide-metformin</th>\n",
              "      <th>glipizide-metformin</th>\n",
              "      <th>glimepiride-pioglitazone</th>\n",
              "      <th>metformin-rosiglitazone</th>\n",
              "      <th>metformin-pioglitazone</th>\n",
              "      <th>change</th>\n",
              "      <th>diabetesMed</th>\n",
              "    </tr>\n",
              "  </thead>\n",
              "  <tbody>\n",
              "    <tr>\n",
              "      <th>7501</th>\n",
              "      <td>Caucasian</td>\n",
              "      <td>Female</td>\n",
              "      <td>[50-60)</td>\n",
              "      <td>NaN</td>\n",
              "      <td>2</td>\n",
              "      <td>5</td>\n",
              "      <td>1</td>\n",
              "      <td>10</td>\n",
              "      <td>NaN</td>\n",
              "      <td>InternalMedicine</td>\n",
              "      <td>...</td>\n",
              "      <td>No</td>\n",
              "      <td>No</td>\n",
              "      <td>No</td>\n",
              "      <td>No</td>\n",
              "      <td>No</td>\n",
              "      <td>No</td>\n",
              "      <td>No</td>\n",
              "      <td>No</td>\n",
              "      <td>No</td>\n",
              "      <td>Yes</td>\n",
              "    </tr>\n",
              "    <tr>\n",
              "      <th>86997</th>\n",
              "      <td>Caucasian</td>\n",
              "      <td>Female</td>\n",
              "      <td>[80-90)</td>\n",
              "      <td>NaN</td>\n",
              "      <td>2</td>\n",
              "      <td>22</td>\n",
              "      <td>7</td>\n",
              "      <td>8</td>\n",
              "      <td>MC</td>\n",
              "      <td>Surgery-General</td>\n",
              "      <td>...</td>\n",
              "      <td>No</td>\n",
              "      <td>No</td>\n",
              "      <td>Up</td>\n",
              "      <td>No</td>\n",
              "      <td>No</td>\n",
              "      <td>No</td>\n",
              "      <td>No</td>\n",
              "      <td>No</td>\n",
              "      <td>Ch</td>\n",
              "      <td>Yes</td>\n",
              "    </tr>\n",
              "    <tr>\n",
              "      <th>55478</th>\n",
              "      <td>Caucasian</td>\n",
              "      <td>Male</td>\n",
              "      <td>[80-90)</td>\n",
              "      <td>NaN</td>\n",
              "      <td>1</td>\n",
              "      <td>6</td>\n",
              "      <td>1</td>\n",
              "      <td>2</td>\n",
              "      <td>MC</td>\n",
              "      <td>NaN</td>\n",
              "      <td>...</td>\n",
              "      <td>No</td>\n",
              "      <td>No</td>\n",
              "      <td>Up</td>\n",
              "      <td>No</td>\n",
              "      <td>No</td>\n",
              "      <td>No</td>\n",
              "      <td>No</td>\n",
              "      <td>No</td>\n",
              "      <td>Ch</td>\n",
              "      <td>Yes</td>\n",
              "    </tr>\n",
              "    <tr>\n",
              "      <th>25813</th>\n",
              "      <td>Caucasian</td>\n",
              "      <td>Female</td>\n",
              "      <td>[60-70)</td>\n",
              "      <td>NaN</td>\n",
              "      <td>1</td>\n",
              "      <td>6</td>\n",
              "      <td>4</td>\n",
              "      <td>8</td>\n",
              "      <td>NaN</td>\n",
              "      <td>Surgery-Cardiovascular/Thoracic</td>\n",
              "      <td>...</td>\n",
              "      <td>No</td>\n",
              "      <td>No</td>\n",
              "      <td>Steady</td>\n",
              "      <td>No</td>\n",
              "      <td>No</td>\n",
              "      <td>No</td>\n",
              "      <td>No</td>\n",
              "      <td>No</td>\n",
              "      <td>Ch</td>\n",
              "      <td>Yes</td>\n",
              "    </tr>\n",
              "    <tr>\n",
              "      <th>88859</th>\n",
              "      <td>AfricanAmerican</td>\n",
              "      <td>Female</td>\n",
              "      <td>[60-70)</td>\n",
              "      <td>NaN</td>\n",
              "      <td>3</td>\n",
              "      <td>1</td>\n",
              "      <td>1</td>\n",
              "      <td>2</td>\n",
              "      <td>MC</td>\n",
              "      <td>Family/GeneralPractice</td>\n",
              "      <td>...</td>\n",
              "      <td>No</td>\n",
              "      <td>No</td>\n",
              "      <td>Steady</td>\n",
              "      <td>No</td>\n",
              "      <td>No</td>\n",
              "      <td>No</td>\n",
              "      <td>No</td>\n",
              "      <td>No</td>\n",
              "      <td>No</td>\n",
              "      <td>Yes</td>\n",
              "    </tr>\n",
              "  </tbody>\n",
              "</table>\n",
              "<p>5 rows × 47 columns</p>\n",
              "</div>\n",
              "    <div class=\"colab-df-buttons\">\n",
              "\n",
              "  <div class=\"colab-df-container\">\n",
              "    <button class=\"colab-df-convert\" onclick=\"convertToInteractive('df-9ec602aa-6669-4f2f-9277-203b63274d57')\"\n",
              "            title=\"Convert this dataframe to an interactive table.\"\n",
              "            style=\"display:none;\">\n",
              "\n",
              "  <svg xmlns=\"http://www.w3.org/2000/svg\" height=\"24px\" viewBox=\"0 -960 960 960\">\n",
              "    <path d=\"M120-120v-720h720v720H120Zm60-500h600v-160H180v160Zm220 220h160v-160H400v160Zm0 220h160v-160H400v160ZM180-400h160v-160H180v160Zm440 0h160v-160H620v160ZM180-180h160v-160H180v160Zm440 0h160v-160H620v160Z\"/>\n",
              "  </svg>\n",
              "    </button>\n",
              "\n",
              "  <style>\n",
              "    .colab-df-container {\n",
              "      display:flex;\n",
              "      gap: 12px;\n",
              "    }\n",
              "\n",
              "    .colab-df-convert {\n",
              "      background-color: #E8F0FE;\n",
              "      border: none;\n",
              "      border-radius: 50%;\n",
              "      cursor: pointer;\n",
              "      display: none;\n",
              "      fill: #1967D2;\n",
              "      height: 32px;\n",
              "      padding: 0 0 0 0;\n",
              "      width: 32px;\n",
              "    }\n",
              "\n",
              "    .colab-df-convert:hover {\n",
              "      background-color: #E2EBFA;\n",
              "      box-shadow: 0px 1px 2px rgba(60, 64, 67, 0.3), 0px 1px 3px 1px rgba(60, 64, 67, 0.15);\n",
              "      fill: #174EA6;\n",
              "    }\n",
              "\n",
              "    .colab-df-buttons div {\n",
              "      margin-bottom: 4px;\n",
              "    }\n",
              "\n",
              "    [theme=dark] .colab-df-convert {\n",
              "      background-color: #3B4455;\n",
              "      fill: #D2E3FC;\n",
              "    }\n",
              "\n",
              "    [theme=dark] .colab-df-convert:hover {\n",
              "      background-color: #434B5C;\n",
              "      box-shadow: 0px 1px 3px 1px rgba(0, 0, 0, 0.15);\n",
              "      filter: drop-shadow(0px 1px 2px rgba(0, 0, 0, 0.3));\n",
              "      fill: #FFFFFF;\n",
              "    }\n",
              "  </style>\n",
              "\n",
              "    <script>\n",
              "      const buttonEl =\n",
              "        document.querySelector('#df-9ec602aa-6669-4f2f-9277-203b63274d57 button.colab-df-convert');\n",
              "      buttonEl.style.display =\n",
              "        google.colab.kernel.accessAllowed ? 'block' : 'none';\n",
              "\n",
              "      async function convertToInteractive(key) {\n",
              "        const element = document.querySelector('#df-9ec602aa-6669-4f2f-9277-203b63274d57');\n",
              "        const dataTable =\n",
              "          await google.colab.kernel.invokeFunction('convertToInteractive',\n",
              "                                                    [key], {});\n",
              "        if (!dataTable) return;\n",
              "\n",
              "        const docLinkHtml = 'Like what you see? Visit the ' +\n",
              "          '<a target=\"_blank\" href=https://colab.research.google.com/notebooks/data_table.ipynb>data table notebook</a>'\n",
              "          + ' to learn more about interactive tables.';\n",
              "        element.innerHTML = '';\n",
              "        dataTable['output_type'] = 'display_data';\n",
              "        await google.colab.output.renderOutput(dataTable, element);\n",
              "        const docLink = document.createElement('div');\n",
              "        docLink.innerHTML = docLinkHtml;\n",
              "        element.appendChild(docLink);\n",
              "      }\n",
              "    </script>\n",
              "  </div>\n",
              "\n",
              "\n",
              "<div id=\"df-f7bcd6ac-529f-4a72-b547-a5ea14e64ed7\">\n",
              "  <button class=\"colab-df-quickchart\" onclick=\"quickchart('df-f7bcd6ac-529f-4a72-b547-a5ea14e64ed7')\"\n",
              "            title=\"Suggest charts\"\n",
              "            style=\"display:none;\">\n",
              "\n",
              "<svg xmlns=\"http://www.w3.org/2000/svg\" height=\"24px\"viewBox=\"0 0 24 24\"\n",
              "     width=\"24px\">\n",
              "    <g>\n",
              "        <path d=\"M19 3H5c-1.1 0-2 .9-2 2v14c0 1.1.9 2 2 2h14c1.1 0 2-.9 2-2V5c0-1.1-.9-2-2-2zM9 17H7v-7h2v7zm4 0h-2V7h2v10zm4 0h-2v-4h2v4z\"/>\n",
              "    </g>\n",
              "</svg>\n",
              "  </button>\n",
              "\n",
              "<style>\n",
              "  .colab-df-quickchart {\n",
              "      --bg-color: #E8F0FE;\n",
              "      --fill-color: #1967D2;\n",
              "      --hover-bg-color: #E2EBFA;\n",
              "      --hover-fill-color: #174EA6;\n",
              "      --disabled-fill-color: #AAA;\n",
              "      --disabled-bg-color: #DDD;\n",
              "  }\n",
              "\n",
              "  [theme=dark] .colab-df-quickchart {\n",
              "      --bg-color: #3B4455;\n",
              "      --fill-color: #D2E3FC;\n",
              "      --hover-bg-color: #434B5C;\n",
              "      --hover-fill-color: #FFFFFF;\n",
              "      --disabled-bg-color: #3B4455;\n",
              "      --disabled-fill-color: #666;\n",
              "  }\n",
              "\n",
              "  .colab-df-quickchart {\n",
              "    background-color: var(--bg-color);\n",
              "    border: none;\n",
              "    border-radius: 50%;\n",
              "    cursor: pointer;\n",
              "    display: none;\n",
              "    fill: var(--fill-color);\n",
              "    height: 32px;\n",
              "    padding: 0;\n",
              "    width: 32px;\n",
              "  }\n",
              "\n",
              "  .colab-df-quickchart:hover {\n",
              "    background-color: var(--hover-bg-color);\n",
              "    box-shadow: 0 1px 2px rgba(60, 64, 67, 0.3), 0 1px 3px 1px rgba(60, 64, 67, 0.15);\n",
              "    fill: var(--button-hover-fill-color);\n",
              "  }\n",
              "\n",
              "  .colab-df-quickchart-complete:disabled,\n",
              "  .colab-df-quickchart-complete:disabled:hover {\n",
              "    background-color: var(--disabled-bg-color);\n",
              "    fill: var(--disabled-fill-color);\n",
              "    box-shadow: none;\n",
              "  }\n",
              "\n",
              "  .colab-df-spinner {\n",
              "    border: 2px solid var(--fill-color);\n",
              "    border-color: transparent;\n",
              "    border-bottom-color: var(--fill-color);\n",
              "    animation:\n",
              "      spin 1s steps(1) infinite;\n",
              "  }\n",
              "\n",
              "  @keyframes spin {\n",
              "    0% {\n",
              "      border-color: transparent;\n",
              "      border-bottom-color: var(--fill-color);\n",
              "      border-left-color: var(--fill-color);\n",
              "    }\n",
              "    20% {\n",
              "      border-color: transparent;\n",
              "      border-left-color: var(--fill-color);\n",
              "      border-top-color: var(--fill-color);\n",
              "    }\n",
              "    30% {\n",
              "      border-color: transparent;\n",
              "      border-left-color: var(--fill-color);\n",
              "      border-top-color: var(--fill-color);\n",
              "      border-right-color: var(--fill-color);\n",
              "    }\n",
              "    40% {\n",
              "      border-color: transparent;\n",
              "      border-right-color: var(--fill-color);\n",
              "      border-top-color: var(--fill-color);\n",
              "    }\n",
              "    60% {\n",
              "      border-color: transparent;\n",
              "      border-right-color: var(--fill-color);\n",
              "    }\n",
              "    80% {\n",
              "      border-color: transparent;\n",
              "      border-right-color: var(--fill-color);\n",
              "      border-bottom-color: var(--fill-color);\n",
              "    }\n",
              "    90% {\n",
              "      border-color: transparent;\n",
              "      border-bottom-color: var(--fill-color);\n",
              "    }\n",
              "  }\n",
              "</style>\n",
              "\n",
              "  <script>\n",
              "    async function quickchart(key) {\n",
              "      const quickchartButtonEl =\n",
              "        document.querySelector('#' + key + ' button');\n",
              "      quickchartButtonEl.disabled = true;  // To prevent multiple clicks.\n",
              "      quickchartButtonEl.classList.add('colab-df-spinner');\n",
              "      try {\n",
              "        const charts = await google.colab.kernel.invokeFunction(\n",
              "            'suggestCharts', [key], {});\n",
              "      } catch (error) {\n",
              "        console.error('Error during call to suggestCharts:', error);\n",
              "      }\n",
              "      quickchartButtonEl.classList.remove('colab-df-spinner');\n",
              "      quickchartButtonEl.classList.add('colab-df-quickchart-complete');\n",
              "    }\n",
              "    (() => {\n",
              "      let quickchartButtonEl =\n",
              "        document.querySelector('#df-f7bcd6ac-529f-4a72-b547-a5ea14e64ed7 button');\n",
              "      quickchartButtonEl.style.display =\n",
              "        google.colab.kernel.accessAllowed ? 'block' : 'none';\n",
              "    })();\n",
              "  </script>\n",
              "</div>\n",
              "\n",
              "    </div>\n",
              "  </div>\n"
            ],
            "application/vnd.google.colaboratory.intrinsic+json": {
              "type": "dataframe"
            }
          },
          "metadata": {},
          "execution_count": 7
        }
      ],
      "source": [
        "X.sample(5)"
      ]
    },
    {
      "cell_type": "code",
      "execution_count": 8,
      "metadata": {
        "colab": {
          "base_uri": "https://localhost:8080/",
          "height": 424
        },
        "id": "qCWvNK9UTfs8",
        "outputId": "30bf91c3-dd63-44f1-ba82-884407f4e4c3"
      },
      "outputs": [
        {
          "output_type": "execute_result",
          "data": {
            "text/plain": [
              "       readmitted\n",
              "0              NO\n",
              "1             >30\n",
              "2              NO\n",
              "3              NO\n",
              "4              NO\n",
              "...           ...\n",
              "101761        >30\n",
              "101762         NO\n",
              "101763         NO\n",
              "101764         NO\n",
              "101765         NO\n",
              "\n",
              "[101766 rows x 1 columns]"
            ],
            "text/html": [
              "\n",
              "  <div id=\"df-1eaf6fbc-d6e6-431c-b436-f5f6f45582a4\" class=\"colab-df-container\">\n",
              "    <div>\n",
              "<style scoped>\n",
              "    .dataframe tbody tr th:only-of-type {\n",
              "        vertical-align: middle;\n",
              "    }\n",
              "\n",
              "    .dataframe tbody tr th {\n",
              "        vertical-align: top;\n",
              "    }\n",
              "\n",
              "    .dataframe thead th {\n",
              "        text-align: right;\n",
              "    }\n",
              "</style>\n",
              "<table border=\"1\" class=\"dataframe\">\n",
              "  <thead>\n",
              "    <tr style=\"text-align: right;\">\n",
              "      <th></th>\n",
              "      <th>readmitted</th>\n",
              "    </tr>\n",
              "  </thead>\n",
              "  <tbody>\n",
              "    <tr>\n",
              "      <th>0</th>\n",
              "      <td>NO</td>\n",
              "    </tr>\n",
              "    <tr>\n",
              "      <th>1</th>\n",
              "      <td>&gt;30</td>\n",
              "    </tr>\n",
              "    <tr>\n",
              "      <th>2</th>\n",
              "      <td>NO</td>\n",
              "    </tr>\n",
              "    <tr>\n",
              "      <th>3</th>\n",
              "      <td>NO</td>\n",
              "    </tr>\n",
              "    <tr>\n",
              "      <th>4</th>\n",
              "      <td>NO</td>\n",
              "    </tr>\n",
              "    <tr>\n",
              "      <th>...</th>\n",
              "      <td>...</td>\n",
              "    </tr>\n",
              "    <tr>\n",
              "      <th>101761</th>\n",
              "      <td>&gt;30</td>\n",
              "    </tr>\n",
              "    <tr>\n",
              "      <th>101762</th>\n",
              "      <td>NO</td>\n",
              "    </tr>\n",
              "    <tr>\n",
              "      <th>101763</th>\n",
              "      <td>NO</td>\n",
              "    </tr>\n",
              "    <tr>\n",
              "      <th>101764</th>\n",
              "      <td>NO</td>\n",
              "    </tr>\n",
              "    <tr>\n",
              "      <th>101765</th>\n",
              "      <td>NO</td>\n",
              "    </tr>\n",
              "  </tbody>\n",
              "</table>\n",
              "<p>101766 rows × 1 columns</p>\n",
              "</div>\n",
              "    <div class=\"colab-df-buttons\">\n",
              "\n",
              "  <div class=\"colab-df-container\">\n",
              "    <button class=\"colab-df-convert\" onclick=\"convertToInteractive('df-1eaf6fbc-d6e6-431c-b436-f5f6f45582a4')\"\n",
              "            title=\"Convert this dataframe to an interactive table.\"\n",
              "            style=\"display:none;\">\n",
              "\n",
              "  <svg xmlns=\"http://www.w3.org/2000/svg\" height=\"24px\" viewBox=\"0 -960 960 960\">\n",
              "    <path d=\"M120-120v-720h720v720H120Zm60-500h600v-160H180v160Zm220 220h160v-160H400v160Zm0 220h160v-160H400v160ZM180-400h160v-160H180v160Zm440 0h160v-160H620v160ZM180-180h160v-160H180v160Zm440 0h160v-160H620v160Z\"/>\n",
              "  </svg>\n",
              "    </button>\n",
              "\n",
              "  <style>\n",
              "    .colab-df-container {\n",
              "      display:flex;\n",
              "      gap: 12px;\n",
              "    }\n",
              "\n",
              "    .colab-df-convert {\n",
              "      background-color: #E8F0FE;\n",
              "      border: none;\n",
              "      border-radius: 50%;\n",
              "      cursor: pointer;\n",
              "      display: none;\n",
              "      fill: #1967D2;\n",
              "      height: 32px;\n",
              "      padding: 0 0 0 0;\n",
              "      width: 32px;\n",
              "    }\n",
              "\n",
              "    .colab-df-convert:hover {\n",
              "      background-color: #E2EBFA;\n",
              "      box-shadow: 0px 1px 2px rgba(60, 64, 67, 0.3), 0px 1px 3px 1px rgba(60, 64, 67, 0.15);\n",
              "      fill: #174EA6;\n",
              "    }\n",
              "\n",
              "    .colab-df-buttons div {\n",
              "      margin-bottom: 4px;\n",
              "    }\n",
              "\n",
              "    [theme=dark] .colab-df-convert {\n",
              "      background-color: #3B4455;\n",
              "      fill: #D2E3FC;\n",
              "    }\n",
              "\n",
              "    [theme=dark] .colab-df-convert:hover {\n",
              "      background-color: #434B5C;\n",
              "      box-shadow: 0px 1px 3px 1px rgba(0, 0, 0, 0.15);\n",
              "      filter: drop-shadow(0px 1px 2px rgba(0, 0, 0, 0.3));\n",
              "      fill: #FFFFFF;\n",
              "    }\n",
              "  </style>\n",
              "\n",
              "    <script>\n",
              "      const buttonEl =\n",
              "        document.querySelector('#df-1eaf6fbc-d6e6-431c-b436-f5f6f45582a4 button.colab-df-convert');\n",
              "      buttonEl.style.display =\n",
              "        google.colab.kernel.accessAllowed ? 'block' : 'none';\n",
              "\n",
              "      async function convertToInteractive(key) {\n",
              "        const element = document.querySelector('#df-1eaf6fbc-d6e6-431c-b436-f5f6f45582a4');\n",
              "        const dataTable =\n",
              "          await google.colab.kernel.invokeFunction('convertToInteractive',\n",
              "                                                    [key], {});\n",
              "        if (!dataTable) return;\n",
              "\n",
              "        const docLinkHtml = 'Like what you see? Visit the ' +\n",
              "          '<a target=\"_blank\" href=https://colab.research.google.com/notebooks/data_table.ipynb>data table notebook</a>'\n",
              "          + ' to learn more about interactive tables.';\n",
              "        element.innerHTML = '';\n",
              "        dataTable['output_type'] = 'display_data';\n",
              "        await google.colab.output.renderOutput(dataTable, element);\n",
              "        const docLink = document.createElement('div');\n",
              "        docLink.innerHTML = docLinkHtml;\n",
              "        element.appendChild(docLink);\n",
              "      }\n",
              "    </script>\n",
              "  </div>\n",
              "\n",
              "\n",
              "<div id=\"df-7263e3d1-ae8d-4d64-bf23-f8133bc29ae3\">\n",
              "  <button class=\"colab-df-quickchart\" onclick=\"quickchart('df-7263e3d1-ae8d-4d64-bf23-f8133bc29ae3')\"\n",
              "            title=\"Suggest charts\"\n",
              "            style=\"display:none;\">\n",
              "\n",
              "<svg xmlns=\"http://www.w3.org/2000/svg\" height=\"24px\"viewBox=\"0 0 24 24\"\n",
              "     width=\"24px\">\n",
              "    <g>\n",
              "        <path d=\"M19 3H5c-1.1 0-2 .9-2 2v14c0 1.1.9 2 2 2h14c1.1 0 2-.9 2-2V5c0-1.1-.9-2-2-2zM9 17H7v-7h2v7zm4 0h-2V7h2v10zm4 0h-2v-4h2v4z\"/>\n",
              "    </g>\n",
              "</svg>\n",
              "  </button>\n",
              "\n",
              "<style>\n",
              "  .colab-df-quickchart {\n",
              "      --bg-color: #E8F0FE;\n",
              "      --fill-color: #1967D2;\n",
              "      --hover-bg-color: #E2EBFA;\n",
              "      --hover-fill-color: #174EA6;\n",
              "      --disabled-fill-color: #AAA;\n",
              "      --disabled-bg-color: #DDD;\n",
              "  }\n",
              "\n",
              "  [theme=dark] .colab-df-quickchart {\n",
              "      --bg-color: #3B4455;\n",
              "      --fill-color: #D2E3FC;\n",
              "      --hover-bg-color: #434B5C;\n",
              "      --hover-fill-color: #FFFFFF;\n",
              "      --disabled-bg-color: #3B4455;\n",
              "      --disabled-fill-color: #666;\n",
              "  }\n",
              "\n",
              "  .colab-df-quickchart {\n",
              "    background-color: var(--bg-color);\n",
              "    border: none;\n",
              "    border-radius: 50%;\n",
              "    cursor: pointer;\n",
              "    display: none;\n",
              "    fill: var(--fill-color);\n",
              "    height: 32px;\n",
              "    padding: 0;\n",
              "    width: 32px;\n",
              "  }\n",
              "\n",
              "  .colab-df-quickchart:hover {\n",
              "    background-color: var(--hover-bg-color);\n",
              "    box-shadow: 0 1px 2px rgba(60, 64, 67, 0.3), 0 1px 3px 1px rgba(60, 64, 67, 0.15);\n",
              "    fill: var(--button-hover-fill-color);\n",
              "  }\n",
              "\n",
              "  .colab-df-quickchart-complete:disabled,\n",
              "  .colab-df-quickchart-complete:disabled:hover {\n",
              "    background-color: var(--disabled-bg-color);\n",
              "    fill: var(--disabled-fill-color);\n",
              "    box-shadow: none;\n",
              "  }\n",
              "\n",
              "  .colab-df-spinner {\n",
              "    border: 2px solid var(--fill-color);\n",
              "    border-color: transparent;\n",
              "    border-bottom-color: var(--fill-color);\n",
              "    animation:\n",
              "      spin 1s steps(1) infinite;\n",
              "  }\n",
              "\n",
              "  @keyframes spin {\n",
              "    0% {\n",
              "      border-color: transparent;\n",
              "      border-bottom-color: var(--fill-color);\n",
              "      border-left-color: var(--fill-color);\n",
              "    }\n",
              "    20% {\n",
              "      border-color: transparent;\n",
              "      border-left-color: var(--fill-color);\n",
              "      border-top-color: var(--fill-color);\n",
              "    }\n",
              "    30% {\n",
              "      border-color: transparent;\n",
              "      border-left-color: var(--fill-color);\n",
              "      border-top-color: var(--fill-color);\n",
              "      border-right-color: var(--fill-color);\n",
              "    }\n",
              "    40% {\n",
              "      border-color: transparent;\n",
              "      border-right-color: var(--fill-color);\n",
              "      border-top-color: var(--fill-color);\n",
              "    }\n",
              "    60% {\n",
              "      border-color: transparent;\n",
              "      border-right-color: var(--fill-color);\n",
              "    }\n",
              "    80% {\n",
              "      border-color: transparent;\n",
              "      border-right-color: var(--fill-color);\n",
              "      border-bottom-color: var(--fill-color);\n",
              "    }\n",
              "    90% {\n",
              "      border-color: transparent;\n",
              "      border-bottom-color: var(--fill-color);\n",
              "    }\n",
              "  }\n",
              "</style>\n",
              "\n",
              "  <script>\n",
              "    async function quickchart(key) {\n",
              "      const quickchartButtonEl =\n",
              "        document.querySelector('#' + key + ' button');\n",
              "      quickchartButtonEl.disabled = true;  // To prevent multiple clicks.\n",
              "      quickchartButtonEl.classList.add('colab-df-spinner');\n",
              "      try {\n",
              "        const charts = await google.colab.kernel.invokeFunction(\n",
              "            'suggestCharts', [key], {});\n",
              "      } catch (error) {\n",
              "        console.error('Error during call to suggestCharts:', error);\n",
              "      }\n",
              "      quickchartButtonEl.classList.remove('colab-df-spinner');\n",
              "      quickchartButtonEl.classList.add('colab-df-quickchart-complete');\n",
              "    }\n",
              "    (() => {\n",
              "      let quickchartButtonEl =\n",
              "        document.querySelector('#df-7263e3d1-ae8d-4d64-bf23-f8133bc29ae3 button');\n",
              "      quickchartButtonEl.style.display =\n",
              "        google.colab.kernel.accessAllowed ? 'block' : 'none';\n",
              "    })();\n",
              "  </script>\n",
              "</div>\n",
              "\n",
              "  <div id=\"id_c8c375c3-291b-49ec-b121-2b79037a2734\">\n",
              "    <style>\n",
              "      .colab-df-generate {\n",
              "        background-color: #E8F0FE;\n",
              "        border: none;\n",
              "        border-radius: 50%;\n",
              "        cursor: pointer;\n",
              "        display: none;\n",
              "        fill: #1967D2;\n",
              "        height: 32px;\n",
              "        padding: 0 0 0 0;\n",
              "        width: 32px;\n",
              "      }\n",
              "\n",
              "      .colab-df-generate:hover {\n",
              "        background-color: #E2EBFA;\n",
              "        box-shadow: 0px 1px 2px rgba(60, 64, 67, 0.3), 0px 1px 3px 1px rgba(60, 64, 67, 0.15);\n",
              "        fill: #174EA6;\n",
              "      }\n",
              "\n",
              "      [theme=dark] .colab-df-generate {\n",
              "        background-color: #3B4455;\n",
              "        fill: #D2E3FC;\n",
              "      }\n",
              "\n",
              "      [theme=dark] .colab-df-generate:hover {\n",
              "        background-color: #434B5C;\n",
              "        box-shadow: 0px 1px 3px 1px rgba(0, 0, 0, 0.15);\n",
              "        filter: drop-shadow(0px 1px 2px rgba(0, 0, 0, 0.3));\n",
              "        fill: #FFFFFF;\n",
              "      }\n",
              "    </style>\n",
              "    <button class=\"colab-df-generate\" onclick=\"generateWithVariable('y')\"\n",
              "            title=\"Generate code using this dataframe.\"\n",
              "            style=\"display:none;\">\n",
              "\n",
              "  <svg xmlns=\"http://www.w3.org/2000/svg\" height=\"24px\"viewBox=\"0 0 24 24\"\n",
              "       width=\"24px\">\n",
              "    <path d=\"M7,19H8.4L18.45,9,17,7.55,7,17.6ZM5,21V16.75L18.45,3.32a2,2,0,0,1,2.83,0l1.4,1.43a1.91,1.91,0,0,1,.58,1.4,1.91,1.91,0,0,1-.58,1.4L9.25,21ZM18.45,9,17,7.55Zm-12,3A5.31,5.31,0,0,0,4.9,8.1,5.31,5.31,0,0,0,1,6.5,5.31,5.31,0,0,0,4.9,4.9,5.31,5.31,0,0,0,6.5,1,5.31,5.31,0,0,0,8.1,4.9,5.31,5.31,0,0,0,12,6.5,5.46,5.46,0,0,0,6.5,12Z\"/>\n",
              "  </svg>\n",
              "    </button>\n",
              "    <script>\n",
              "      (() => {\n",
              "      const buttonEl =\n",
              "        document.querySelector('#id_c8c375c3-291b-49ec-b121-2b79037a2734 button.colab-df-generate');\n",
              "      buttonEl.style.display =\n",
              "        google.colab.kernel.accessAllowed ? 'block' : 'none';\n",
              "\n",
              "      buttonEl.onclick = () => {\n",
              "        google.colab.notebook.generateWithVariable('y');\n",
              "      }\n",
              "      })();\n",
              "    </script>\n",
              "  </div>\n",
              "\n",
              "    </div>\n",
              "  </div>\n"
            ],
            "application/vnd.google.colaboratory.intrinsic+json": {
              "type": "dataframe",
              "variable_name": "y"
            }
          },
          "metadata": {},
          "execution_count": 8
        }
      ],
      "source": [
        "y"
      ]
    },
    {
      "cell_type": "code",
      "execution_count": 9,
      "metadata": {
        "id": "uO1A4-GHYgm8"
      },
      "outputs": [],
      "source": [
        "y=y.replace(['NO','>30','<30'],['0','0','1'])\n",
        "y=y.astype('int')"
      ]
    },
    {
      "cell_type": "code",
      "execution_count": 10,
      "metadata": {
        "colab": {
          "base_uri": "https://localhost:8080/",
          "height": 178
        },
        "id": "MSkBn48WZBE8",
        "outputId": "e9491a10-2d10-4231-a115-72083c81a463"
      },
      "outputs": [
        {
          "output_type": "execute_result",
          "data": {
            "text/plain": [
              "readmitted\n",
              "0             90409\n",
              "1             11357\n",
              "Name: count, dtype: int64"
            ],
            "text/html": [
              "<div>\n",
              "<style scoped>\n",
              "    .dataframe tbody tr th:only-of-type {\n",
              "        vertical-align: middle;\n",
              "    }\n",
              "\n",
              "    .dataframe tbody tr th {\n",
              "        vertical-align: top;\n",
              "    }\n",
              "\n",
              "    .dataframe thead th {\n",
              "        text-align: right;\n",
              "    }\n",
              "</style>\n",
              "<table border=\"1\" class=\"dataframe\">\n",
              "  <thead>\n",
              "    <tr style=\"text-align: right;\">\n",
              "      <th></th>\n",
              "      <th>count</th>\n",
              "    </tr>\n",
              "    <tr>\n",
              "      <th>readmitted</th>\n",
              "      <th></th>\n",
              "    </tr>\n",
              "  </thead>\n",
              "  <tbody>\n",
              "    <tr>\n",
              "      <th>0</th>\n",
              "      <td>90409</td>\n",
              "    </tr>\n",
              "    <tr>\n",
              "      <th>1</th>\n",
              "      <td>11357</td>\n",
              "    </tr>\n",
              "  </tbody>\n",
              "</table>\n",
              "</div><br><label><b>dtype:</b> int64</label>"
            ]
          },
          "metadata": {},
          "execution_count": 10
        }
      ],
      "source": [
        "y.value_counts()"
      ]
    },
    {
      "cell_type": "code",
      "execution_count": 11,
      "metadata": {
        "colab": {
          "base_uri": "https://localhost:8080/",
          "height": 178
        },
        "id": "uunCnYoPorsG",
        "outputId": "8b123678-4711-4a14-e16a-6cbd0209ff0b"
      },
      "outputs": [
        {
          "output_type": "display_data",
          "data": {
            "text/plain": [
              "readmitted\n",
              "0             0.888401\n",
              "1             0.111599\n",
              "Name: proportion, dtype: float64"
            ],
            "text/html": [
              "<div>\n",
              "<style scoped>\n",
              "    .dataframe tbody tr th:only-of-type {\n",
              "        vertical-align: middle;\n",
              "    }\n",
              "\n",
              "    .dataframe tbody tr th {\n",
              "        vertical-align: top;\n",
              "    }\n",
              "\n",
              "    .dataframe thead th {\n",
              "        text-align: right;\n",
              "    }\n",
              "</style>\n",
              "<table border=\"1\" class=\"dataframe\">\n",
              "  <thead>\n",
              "    <tr style=\"text-align: right;\">\n",
              "      <th></th>\n",
              "      <th>proportion</th>\n",
              "    </tr>\n",
              "    <tr>\n",
              "      <th>readmitted</th>\n",
              "      <th></th>\n",
              "    </tr>\n",
              "  </thead>\n",
              "  <tbody>\n",
              "    <tr>\n",
              "      <th>0</th>\n",
              "      <td>0.888401</td>\n",
              "    </tr>\n",
              "    <tr>\n",
              "      <th>1</th>\n",
              "      <td>0.111599</td>\n",
              "    </tr>\n",
              "  </tbody>\n",
              "</table>\n",
              "</div><br><label><b>dtype:</b> float64</label>"
            ]
          },
          "metadata": {}
        }
      ],
      "source": [
        "display(y.value_counts(normalize=True))"
      ]
    },
    {
      "cell_type": "code",
      "execution_count": 12,
      "metadata": {
        "colab": {
          "base_uri": "https://localhost:8080/",
          "height": 410
        },
        "id": "jKyGl6x3Z877",
        "outputId": "b11bd2a7-ee95-4d0b-dde0-1a195a77c74f"
      },
      "outputs": [
        {
          "output_type": "display_data",
          "data": {
            "text/plain": [
              "<Figure size 600x400 with 1 Axes>"
            ],
            "image/png": "[encoded data removed]"
          },
          "metadata": {}
        }
      ],
      "source": [
        "# Convert value counts into a DataFrame for clarity\n",
        "y_counts = y.value_counts().reset_index()\n",
        "y_counts.columns = ['Category', 'Count']  # Rename columns\n",
        "\n",
        "# Plot using Seaborn\n",
        "plt.figure(figsize=(6, 4))\n",
        "sns.barplot(x=y_counts['Category'], y=y_counts['Count'], palette=\"viridis\")\n",
        "\n",
        "# Labels and title\n",
        "plt.xlabel(\"Categories\")\n",
        "plt.ylabel(\"Count\")\n",
        "plt.title(\"Value Counts of Target Variable\")\n",
        "plt.show()"
      ]
    },
    {
      "cell_type": "markdown",
      "metadata": {
        "id": "-x1Ne517wuDX"
      },
      "source": [
        "#Feature Engeenring\n"
      ]
    },
    {
      "cell_type": "code",
      "execution_count": 13,
      "metadata": {
        "colab": {
          "base_uri": "https://localhost:8080/",
          "height": 1000
        },
        "id": "IVmM6vvUVLR4",
        "outputId": "e89d35b4-a7d9-4503-ff5c-859c48d07a73"
      },
      "outputs": [
        {
          "output_type": "stream",
          "name": "stdout",
          "text": [
            "dataframe shape is : (101766, 47)\n"
          ]
        },
        {
          "output_type": "display_data",
          "data": {
            "text/plain": [
              "                        name   dtype  n_unique  n_null\n",
              "0                       race  object         6    2273\n",
              "1                     gender  object         3       0\n",
              "2                        age  object        10       0\n",
              "3                     weight  object        10   98569\n",
              "4          admission_type_id   int64         8       0\n",
              "5   discharge_disposition_id   int64        26       0\n",
              "6        admission_source_id   int64        17       0\n",
              "7           time_in_hospital   int64        14       0\n",
              "8                 payer_code  object        18   40256\n",
              "9          medical_specialty  object        73   49949\n",
              "10        num_lab_procedures   int64       118       0\n",
              "11            num_procedures   int64         7       0\n",
              "12           num_medications   int64        75       0\n",
              "13         number_outpatient   int64        39       0\n",
              "14          number_emergency   int64        33       0\n",
              "15          number_inpatient   int64        21       0\n",
              "16                    diag_1  object       717      21\n",
              "17                    diag_2  object       749     358\n",
              "18                    diag_3  object       790    1423\n",
              "19          number_diagnoses   int64        16       0\n",
              "20             max_glu_serum  object         4   96420\n",
              "21                 A1Cresult  object         4   84748\n",
              "22                 metformin  object         4       0\n",
              "23               repaglinide  object         4       0\n",
              "24               nateglinide  object         4       0\n",
              "25            chlorpropamide  object         4       0\n",
              "26               glimepiride  object         4       0\n",
              "27             acetohexamide  object         2       0\n",
              "28                 glipizide  object         4       0\n",
              "29                 glyburide  object         4       0\n",
              "30               tolbutamide  object         2       0\n",
              "31              pioglitazone  object         4       0\n",
              "32             rosiglitazone  object         4       0\n",
              "33                  acarbose  object         4       0\n",
              "34                  miglitol  object         4       0\n",
              "35              troglitazone  object         2       0\n",
              "36                tolazamide  object         3       0\n",
              "37                   examide  object         1       0\n",
              "38               citoglipton  object         1       0\n",
              "39                   insulin  object         4       0\n",
              "40       glyburide-metformin  object         4       0\n",
              "41       glipizide-metformin  object         2       0\n",
              "42  glimepiride-pioglitazone  object         2       0\n",
              "43   metformin-rosiglitazone  object         2       0\n",
              "44    metformin-pioglitazone  object         2       0\n",
              "45                    change  object         2       0\n",
              "46               diabetesMed  object         2       0"
            ],
            "text/html": [
              "\n",
              "  <div id=\"df-3296f202-fc4e-4540-9f02-7fd9ee84a2c4\" class=\"colab-df-container\">\n",
              "    <div>\n",
              "<style scoped>\n",
              "    .dataframe tbody tr th:only-of-type {\n",
              "        vertical-align: middle;\n",
              "    }\n",
              "\n",
              "    .dataframe tbody tr th {\n",
              "        vertical-align: top;\n",
              "    }\n",
              "\n",
              "    .dataframe thead th {\n",
              "        text-align: right;\n",
              "    }\n",
              "</style>\n",
              "<table border=\"1\" class=\"dataframe\">\n",
              "  <thead>\n",
              "    <tr style=\"text-align: right;\">\n",
              "      <th></th>\n",
              "      <th>name</th>\n",
              "      <th>dtype</th>\n",
              "      <th>n_unique</th>\n",
              "      <th>n_null</th>\n",
              "    </tr>\n",
              "  </thead>\n",
              "  <tbody>\n",
              "    <tr>\n",
              "      <th>0</th>\n",
              "      <td>race</td>\n",
              "      <td>object</td>\n",
              "      <td>6</td>\n",
              "      <td>2273</td>\n",
              "    </tr>\n",
              "    <tr>\n",
              "      <th>1</th>\n",
              "      <td>gender</td>\n",
              "      <td>object</td>\n",
              "      <td>3</td>\n",
              "      <td>0</td>\n",
              "    </tr>\n",
              "    <tr>\n",
              "      <th>2</th>\n",
              "      <td>age</td>\n",
              "      <td>object</td>\n",
              "      <td>10</td>\n",
              "      <td>0</td>\n",
              "    </tr>\n",
              "    <tr>\n",
              "      <th>3</th>\n",
              "      <td>weight</td>\n",
              "      <td>object</td>\n",
              "      <td>10</td>\n",
              "      <td>98569</td>\n",
              "    </tr>\n",
              "    <tr>\n",
              "      <th>4</th>\n",
              "      <td>admission_type_id</td>\n",
              "      <td>int64</td>\n",
              "      <td>8</td>\n",
              "      <td>0</td>\n",
              "    </tr>\n",
              "    <tr>\n",
              "      <th>5</th>\n",
              "      <td>discharge_disposition_id</td>\n",
              "      <td>int64</td>\n",
              "      <td>26</td>\n",
              "      <td>0</td>\n",
              "    </tr>\n",
              "    <tr>\n",
              "      <th>6</th>\n",
              "      <td>admission_source_id</td>\n",
              "      <td>int64</td>\n",
              "      <td>17</td>\n",
              "      <td>0</td>\n",
              "    </tr>\n",
              "    <tr>\n",
              "      <th>7</th>\n",
              "      <td>time_in_hospital</td>\n",
              "      <td>int64</td>\n",
              "      <td>14</td>\n",
              "      <td>0</td>\n",
              "    </tr>\n",
              "    <tr>\n",
              "      <th>8</th>\n",
              "      <td>payer_code</td>\n",
              "      <td>object</td>\n",
              "      <td>18</td>\n",
              "      <td>40256</td>\n",
              "    </tr>\n",
              "    <tr>\n",
              "      <th>9</th>\n",
              "      <td>medical_specialty</td>\n",
              "      <td>object</td>\n",
              "      <td>73</td>\n",
              "      <td>49949</td>\n",
              "    </tr>\n",
              "    <tr>\n",
              "      <th>10</th>\n",
              "      <td>num_lab_procedures</td>\n",
              "      <td>int64</td>\n",
              "      <td>118</td>\n",
              "      <td>0</td>\n",
              "    </tr>\n",
              "    <tr>\n",
              "      <th>11</th>\n",
              "      <td>num_procedures</td>\n",
              "      <td>int64</td>\n",
              "      <td>7</td>\n",
              "      <td>0</td>\n",
              "    </tr>\n",
              "    <tr>\n",
              "      <th>12</th>\n",
              "      <td>num_medications</td>\n",
              "      <td>int64</td>\n",
              "      <td>75</td>\n",
              "      <td>0</td>\n",
              "    </tr>\n",
              "    <tr>\n",
              "      <th>13</th>\n",
              "      <td>number_outpatient</td>\n",
              "      <td>int64</td>\n",
              "      <td>39</td>\n",
              "      <td>0</td>\n",
              "    </tr>\n",
              "    <tr>\n",
              "      <th>14</th>\n",
              "      <td>number_emergency</td>\n",
              "      <td>int64</td>\n",
              "      <td>33</td>\n",
              "      <td>0</td>\n",
              "    </tr>\n",
              "    <tr>\n",
              "      <th>15</th>\n",
              "      <td>number_inpatient</td>\n",
              "      <td>int64</td>\n",
              "      <td>21</td>\n",
              "      <td>0</td>\n",
              "    </tr>\n",
              "    <tr>\n",
              "      <th>16</th>\n",
              "      <td>diag_1</td>\n",
              "      <td>object</td>\n",
              "      <td>717</td>\n",
              "      <td>21</td>\n",
              "    </tr>\n",
              "    <tr>\n",
              "      <th>17</th>\n",
              "      <td>diag_2</td>\n",
              "      <td>object</td>\n",
              "      <td>749</td>\n",
              "      <td>358</td>\n",
              "    </tr>\n",
              "    <tr>\n",
              "      <th>18</th>\n",
              "      <td>diag_3</td>\n",
              "      <td>object</td>\n",
              "      <td>790</td>\n",
              "      <td>1423</td>\n",
              "    </tr>\n",
              "    <tr>\n",
              "      <th>19</th>\n",
              "      <td>number_diagnoses</td>\n",
              "      <td>int64</td>\n",
              "      <td>16</td>\n",
              "      <td>0</td>\n",
              "    </tr>\n",
              "    <tr>\n",
              "      <th>20</th>\n",
              "      <td>max_glu_serum</td>\n",
              "      <td>object</td>\n",
              "      <td>4</td>\n",
              "      <td>96420</td>\n",
              "    </tr>\n",
              "    <tr>\n",
              "      <th>21</th>\n",
              "      <td>A1Cresult</td>\n",
              "      <td>object</td>\n",
              "      <td>4</td>\n",
              "      <td>84748</td>\n",
              "    </tr>\n",
              "    <tr>\n",
              "      <th>22</th>\n",
              "      <td>metformin</td>\n",
              "      <td>object</td>\n",
              "      <td>4</td>\n",
              "      <td>0</td>\n",
              "    </tr>\n",
              "    <tr>\n",
              "      <th>23</th>\n",
              "      <td>repaglinide</td>\n",
              "      <td>object</td>\n",
              "      <td>4</td>\n",
              "      <td>0</td>\n",
              "    </tr>\n",
              "    <tr>\n",
              "      <th>24</th>\n",
              "      <td>nateglinide</td>\n",
              "      <td>object</td>\n",
              "      <td>4</td>\n",
              "      <td>0</td>\n",
              "    </tr>\n",
              "    <tr>\n",
              "      <th>25</th>\n",
              "      <td>chlorpropamide</td>\n",
              "      <td>object</td>\n",
              "      <td>4</td>\n",
              "      <td>0</td>\n",
              "    </tr>\n",
              "    <tr>\n",
              "      <th>26</th>\n",
              "      <td>glimepiride</td>\n",
              "      <td>object</td>\n",
              "      <td>4</td>\n",
              "      <td>0</td>\n",
              "    </tr>\n",
              "    <tr>\n",
              "      <th>27</th>\n",
              "      <td>acetohexamide</td>\n",
              "      <td>object</td>\n",
              "      <td>2</td>\n",
              "      <td>0</td>\n",
              "    </tr>\n",
              "    <tr>\n",
              "      <th>28</th>\n",
              "      <td>glipizide</td>\n",
              "      <td>object</td>\n",
              "      <td>4</td>\n",
              "      <td>0</td>\n",
              "    </tr>\n",
              "    <tr>\n",
              "      <th>29</th>\n",
              "      <td>glyburide</td>\n",
              "      <td>object</td>\n",
              "      <td>4</td>\n",
              "      <td>0</td>\n",
              "    </tr>\n",
              "    <tr>\n",
              "      <th>30</th>\n",
              "      <td>tolbutamide</td>\n",
              "      <td>object</td>\n",
              "      <td>2</td>\n",
              "      <td>0</td>\n",
              "    </tr>\n",
              "    <tr>\n",
              "      <th>31</th>\n",
              "      <td>pioglitazone</td>\n",
              "      <td>object</td>\n",
              "      <td>4</td>\n",
              "      <td>0</td>\n",
              "    </tr>\n",
              "    <tr>\n",
              "      <th>32</th>\n",
              "      <td>rosiglitazone</td>\n",
              "      <td>object</td>\n",
              "      <td>4</td>\n",
              "      <td>0</td>\n",
              "    </tr>\n",
              "    <tr>\n",
              "      <th>33</th>\n",
              "      <td>acarbose</td>\n",
              "      <td>object</td>\n",
              "      <td>4</td>\n",
              "      <td>0</td>\n",
              "    </tr>\n",
              "    <tr>\n",
              "      <th>34</th>\n",
              "      <td>miglitol</td>\n",
              "      <td>object</td>\n",
              "      <td>4</td>\n",
              "      <td>0</td>\n",
              "    </tr>\n",
              "    <tr>\n",
              "      <th>35</th>\n",
              "      <td>troglitazone</td>\n",
              "      <td>object</td>\n",
              "      <td>2</td>\n",
              "      <td>0</td>\n",
              "    </tr>\n",
              "    <tr>\n",
              "      <th>36</th>\n",
              "      <td>tolazamide</td>\n",
              "      <td>object</td>\n",
              "      <td>3</td>\n",
              "      <td>0</td>\n",
              "    </tr>\n",
              "    <tr>\n",
              "      <th>37</th>\n",
              "      <td>examide</td>\n",
              "      <td>object</td>\n",
              "      <td>1</td>\n",
              "      <td>0</td>\n",
              "    </tr>\n",
              "    <tr>\n",
              "      <th>38</th>\n",
              "      <td>citoglipton</td>\n",
              "      <td>object</td>\n",
              "      <td>1</td>\n",
              "      <td>0</td>\n",
              "    </tr>\n",
              "    <tr>\n",
              "      <th>39</th>\n",
              "      <td>insulin</td>\n",
              "      <td>object</td>\n",
              "      <td>4</td>\n",
              "      <td>0</td>\n",
              "    </tr>\n",
              "    <tr>\n",
              "      <th>40</th>\n",
              "      <td>glyburide-metformin</td>\n",
              "      <td>object</td>\n",
              "      <td>4</td>\n",
              "      <td>0</td>\n",
              "    </tr>\n",
              "    <tr>\n",
              "      <th>41</th>\n",
              "      <td>glipizide-metformin</td>\n",
              "      <td>object</td>\n",
              "      <td>2</td>\n",
              "      <td>0</td>\n",
              "    </tr>\n",
              "    <tr>\n",
              "      <th>42</th>\n",
              "      <td>glimepiride-pioglitazone</td>\n",
              "      <td>object</td>\n",
              "      <td>2</td>\n",
              "      <td>0</td>\n",
              "    </tr>\n",
              "    <tr>\n",
              "      <th>43</th>\n",
              "      <td>metformin-rosiglitazone</td>\n",
              "      <td>object</td>\n",
              "      <td>2</td>\n",
              "      <td>0</td>\n",
              "    </tr>\n",
              "    <tr>\n",
              "      <th>44</th>\n",
              "      <td>metformin-pioglitazone</td>\n",
              "      <td>object</td>\n",
              "      <td>2</td>\n",
              "      <td>0</td>\n",
              "    </tr>\n",
              "    <tr>\n",
              "      <th>45</th>\n",
              "      <td>change</td>\n",
              "      <td>object</td>\n",
              "      <td>2</td>\n",
              "      <td>0</td>\n",
              "    </tr>\n",
              "    <tr>\n",
              "      <th>46</th>\n",
              "      <td>diabetesMed</td>\n",
              "      <td>object</td>\n",
              "      <td>2</td>\n",
              "      <td>0</td>\n",
              "    </tr>\n",
              "  </tbody>\n",
              "</table>\n",
              "</div>\n",
              "    <div class=\"colab-df-buttons\">\n",
              "\n",
              "  <div class=\"colab-df-container\">\n",
              "    <button class=\"colab-df-convert\" onclick=\"convertToInteractive('df-3296f202-fc4e-4540-9f02-7fd9ee84a2c4')\"\n",
              "            title=\"Convert this dataframe to an interactive table.\"\n",
              "            style=\"display:none;\">\n",
              "\n",
              "  <svg xmlns=\"http://www.w3.org/2000/svg\" height=\"24px\" viewBox=\"0 -960 960 960\">\n",
              "    <path d=\"M120-120v-720h720v720H120Zm60-500h600v-160H180v160Zm220 220h160v-160H400v160Zm0 220h160v-160H400v160ZM180-400h160v-160H180v160Zm440 0h160v-160H620v160ZM180-180h160v-160H180v160Zm440 0h160v-160H620v160Z\"/>\n",
              "  </svg>\n",
              "    </button>\n",
              "\n",
              "  <style>\n",
              "    .colab-df-container {\n",
              "      display:flex;\n",
              "      gap: 12px;\n",
              "    }\n",
              "\n",
              "    .colab-df-convert {\n",
              "      background-color: #E8F0FE;\n",
              "      border: none;\n",
              "      border-radius: 50%;\n",
              "      cursor: pointer;\n",
              "      display: none;\n",
              "      fill: #1967D2;\n",
              "      height: 32px;\n",
              "      padding: 0 0 0 0;\n",
              "      width: 32px;\n",
              "    }\n",
              "\n",
              "    .colab-df-convert:hover {\n",
              "      background-color: #E2EBFA;\n",
              "      box-shadow: 0px 1px 2px rgba(60, 64, 67, 0.3), 0px 1px 3px 1px rgba(60, 64, 67, 0.15);\n",
              "      fill: #174EA6;\n",
              "    }\n",
              "\n",
              "    .colab-df-buttons div {\n",
              "      margin-bottom: 4px;\n",
              "    }\n",
              "\n",
              "    [theme=dark] .colab-df-convert {\n",
              "      background-color: #3B4455;\n",
              "      fill: #D2E3FC;\n",
              "    }\n",
              "\n",
              "    [theme=dark] .colab-df-convert:hover {\n",
              "      background-color: #434B5C;\n",
              "      box-shadow: 0px 1px 3px 1px rgba(0, 0, 0, 0.15);\n",
              "      filter: drop-shadow(0px 1px 2px rgba(0, 0, 0, 0.3));\n",
              "      fill: #FFFFFF;\n",
              "    }\n",
              "  </style>\n",
              "\n",
              "    <script>\n",
              "      const buttonEl =\n",
              "        document.querySelector('#df-3296f202-fc4e-4540-9f02-7fd9ee84a2c4 button.colab-df-convert');\n",
              "      buttonEl.style.display =\n",
              "        google.colab.kernel.accessAllowed ? 'block' : 'none';\n",
              "\n",
              "      async function convertToInteractive(key) {\n",
              "        const element = document.querySelector('#df-3296f202-fc4e-4540-9f02-7fd9ee84a2c4');\n",
              "        const dataTable =\n",
              "          await google.colab.kernel.invokeFunction('convertToInteractive',\n",
              "                                                    [key], {});\n",
              "        if (!dataTable) return;\n",
              "\n",
              "        const docLinkHtml = 'Like what you see? Visit the ' +\n",
              "          '<a target=\"_blank\" href=https://colab.research.google.com/notebooks/data_table.ipynb>data table notebook</a>'\n",
              "          + ' to learn more about interactive tables.';\n",
              "        element.innerHTML = '';\n",
              "        dataTable['output_type'] = 'display_data';\n",
              "        await google.colab.output.renderOutput(dataTable, element);\n",
              "        const docLink = document.createElement('div');\n",
              "        docLink.innerHTML = docLinkHtml;\n",
              "        element.appendChild(docLink);\n",
              "      }\n",
              "    </script>\n",
              "  </div>\n",
              "\n",
              "\n",
              "<div id=\"df-cad559eb-e8af-4530-adf2-d12930e0cac2\">\n",
              "  <button class=\"colab-df-quickchart\" onclick=\"quickchart('df-cad559eb-e8af-4530-adf2-d12930e0cac2')\"\n",
              "            title=\"Suggest charts\"\n",
              "            style=\"display:none;\">\n",
              "\n",
              "<svg xmlns=\"http://www.w3.org/2000/svg\" height=\"24px\"viewBox=\"0 0 24 24\"\n",
              "     width=\"24px\">\n",
              "    <g>\n",
              "        <path d=\"M19 3H5c-1.1 0-2 .9-2 2v14c0 1.1.9 2 2 2h14c1.1 0 2-.9 2-2V5c0-1.1-.9-2-2-2zM9 17H7v-7h2v7zm4 0h-2V7h2v10zm4 0h-2v-4h2v4z\"/>\n",
              "    </g>\n",
              "</svg>\n",
              "  </button>\n",
              "\n",
              "<style>\n",
              "  .colab-df-quickchart {\n",
              "      --bg-color: #E8F0FE;\n",
              "      --fill-color: #1967D2;\n",
              "      --hover-bg-color: #E2EBFA;\n",
              "      --hover-fill-color: #174EA6;\n",
              "      --disabled-fill-color: #AAA;\n",
              "      --disabled-bg-color: #DDD;\n",
              "  }\n",
              "\n",
              "  [theme=dark] .colab-df-quickchart {\n",
              "      --bg-color: #3B4455;\n",
              "      --fill-color: #D2E3FC;\n",
              "      --hover-bg-color: #434B5C;\n",
              "      --hover-fill-color: #FFFFFF;\n",
              "      --disabled-bg-color: #3B4455;\n",
              "      --disabled-fill-color: #666;\n",
              "  }\n",
              "\n",
              "  .colab-df-quickchart {\n",
              "    background-color: var(--bg-color);\n",
              "    border: none;\n",
              "    border-radius: 50%;\n",
              "    cursor: pointer;\n",
              "    display: none;\n",
              "    fill: var(--fill-color);\n",
              "    height: 32px;\n",
              "    padding: 0;\n",
              "    width: 32px;\n",
              "  }\n",
              "\n",
              "  .colab-df-quickchart:hover {\n",
              "    background-color: var(--hover-bg-color);\n",
              "    box-shadow: 0 1px 2px rgba(60, 64, 67, 0.3), 0 1px 3px 1px rgba(60, 64, 67, 0.15);\n",
              "    fill: var(--button-hover-fill-color);\n",
              "  }\n",
              "\n",
              "  .colab-df-quickchart-complete:disabled,\n",
              "  .colab-df-quickchart-complete:disabled:hover {\n",
              "    background-color: var(--disabled-bg-color);\n",
              "    fill: var(--disabled-fill-color);\n",
              "    box-shadow: none;\n",
              "  }\n",
              "\n",
              "  .colab-df-spinner {\n",
              "    border: 2px solid var(--fill-color);\n",
              "    border-color: transparent;\n",
              "    border-bottom-color: var(--fill-color);\n",
              "    animation:\n",
              "      spin 1s steps(1) infinite;\n",
              "  }\n",
              "\n",
              "  @keyframes spin {\n",
              "    0% {\n",
              "      border-color: transparent;\n",
              "      border-bottom-color: var(--fill-color);\n",
              "      border-left-color: var(--fill-color);\n",
              "    }\n",
              "    20% {\n",
              "      border-color: transparent;\n",
              "      border-left-color: var(--fill-color);\n",
              "      border-top-color: var(--fill-color);\n",
              "    }\n",
              "    30% {\n",
              "      border-color: transparent;\n",
              "      border-left-color: var(--fill-color);\n",
              "      border-top-color: var(--fill-color);\n",
              "      border-right-color: var(--fill-color);\n",
              "    }\n",
              "    40% {\n",
              "      border-color: transparent;\n",
              "      border-right-color: var(--fill-color);\n",
              "      border-top-color: var(--fill-color);\n",
              "    }\n",
              "    60% {\n",
              "      border-color: transparent;\n",
              "      border-right-color: var(--fill-color);\n",
              "    }\n",
              "    80% {\n",
              "      border-color: transparent;\n",
              "      border-right-color: var(--fill-color);\n",
              "      border-bottom-color: var(--fill-color);\n",
              "    }\n",
              "    90% {\n",
              "      border-color: transparent;\n",
              "      border-bottom-color: var(--fill-color);\n",
              "    }\n",
              "  }\n",
              "</style>\n",
              "\n",
              "  <script>\n",
              "    async function quickchart(key) {\n",
              "      const quickchartButtonEl =\n",
              "        document.querySelector('#' + key + ' button');\n",
              "      quickchartButtonEl.disabled = true;  // To prevent multiple clicks.\n",
              "      quickchartButtonEl.classList.add('colab-df-spinner');\n",
              "      try {\n",
              "        const charts = await google.colab.kernel.invokeFunction(\n",
              "            'suggestCharts', [key], {});\n",
              "      } catch (error) {\n",
              "        console.error('Error during call to suggestCharts:', error);\n",
              "      }\n",
              "      quickchartButtonEl.classList.remove('colab-df-spinner');\n",
              "      quickchartButtonEl.classList.add('colab-df-quickchart-complete');\n",
              "    }\n",
              "    (() => {\n",
              "      let quickchartButtonEl =\n",
              "        document.querySelector('#df-cad559eb-e8af-4530-adf2-d12930e0cac2 button');\n",
              "      quickchartButtonEl.style.display =\n",
              "        google.colab.kernel.accessAllowed ? 'block' : 'none';\n",
              "    })();\n",
              "  </script>\n",
              "</div>\n",
              "\n",
              "    </div>\n",
              "  </div>\n"
            ],
            "application/vnd.google.colaboratory.intrinsic+json": {
              "type": "dataframe",
              "summary": "{\n  \"name\": \"dataframe_info(X)\",\n  \"rows\": 47,\n  \"fields\": [\n    {\n      \"column\": \"name\",\n      \"properties\": {\n        \"dtype\": \"string\",\n        \"num_unique_values\": 47,\n        \"samples\": [\n          \"acetohexamide\",\n          \"insulin\",\n          \"glimepiride\"\n        ],\n        \"semantic_type\": \"\",\n        \"description\": \"\"\n      }\n    },\n    {\n      \"column\": \"dtype\",\n      \"properties\": {\n        \"dtype\": \"category\",\n        \"num_unique_values\": 2,\n        \"samples\": [\n          \"int64\",\n          \"object\"\n        ],\n        \"semantic_type\": \"\",\n        \"description\": \"\"\n      }\n    },\n    {\n      \"column\": \"n_unique\",\n      \"properties\": {\n        \"dtype\": \"number\",\n        \"std\": 184,\n        \"min\": 1,\n        \"max\": 790,\n        \"num_unique_values\": 22,\n        \"samples\": [\n          6,\n          33\n        ],\n        \"semantic_type\": \"\",\n        \"description\": \"\"\n      }\n    },\n    {\n      \"column\": \"n_null\",\n      \"properties\": {\n        \"dtype\": \"number\",\n        \"std\": 24379,\n        \"min\": 0,\n        \"max\": 98569,\n        \"num_unique_values\": 10,\n        \"samples\": [\n          96420,\n          0\n        ],\n        \"semantic_type\": \"\",\n        \"description\": \"\"\n      }\n    }\n  ]\n}"
            }
          },
          "metadata": {}
        }
      ],
      "source": [
        "dataframe_info(X)"
      ]
    },
    {
      "cell_type": "code",
      "execution_count": 14,
      "metadata": {
        "id": "HBC_7KepWB5x"
      },
      "outputs": [],
      "source": [
        " # Drop duplicates in place\n",
        "X.drop_duplicates(keep='first', inplace=True)"
      ]
    },
    {
      "cell_type": "code",
      "execution_count": 15,
      "metadata": {
        "id": "-vRqSnHaw0nQ"
      },
      "outputs": [],
      "source": [
        "X['new_feature'] = X['number_outpatient'] + X['number_emergency'] + X['number_inpatient']"
      ]
    },
    {
      "cell_type": "code",
      "execution_count": 16,
      "metadata": {
        "colab": {
          "base_uri": "https://localhost:8080/",
          "height": 295
        },
        "id": "u7uAhyTGWDK-",
        "outputId": "fe15ad62-a552-4b8f-806f-8a344592ff45"
      },
      "outputs": [
        {
          "output_type": "display_data",
          "data": {
            "text/plain": [
              "Index(['admission_type_id', 'discharge_disposition_id', 'admission_source_id',\n",
              "       'time_in_hospital', 'num_lab_procedures', 'num_procedures',\n",
              "       'num_medications', 'number_outpatient', 'number_emergency',\n",
              "       'number_inpatient', 'number_diagnoses', 'new_feature'],\n",
              "      dtype='object')"
            ]
          },
          "metadata": {}
        },
        {
          "output_type": "stream",
          "name": "stdout",
          "text": [
            "-----\n"
          ]
        },
        {
          "output_type": "display_data",
          "data": {
            "text/plain": [
              "Index(['race', 'gender', 'age', 'weight', 'payer_code', 'medical_specialty',\n",
              "       'diag_1', 'diag_2', 'diag_3', 'max_glu_serum', 'A1Cresult', 'metformin',\n",
              "       'repaglinide', 'nateglinide', 'chlorpropamide', 'glimepiride',\n",
              "       'acetohexamide', 'glipizide', 'glyburide', 'tolbutamide',\n",
              "       'pioglitazone', 'rosiglitazone', 'acarbose', 'miglitol', 'troglitazone',\n",
              "       'tolazamide', 'examide', 'citoglipton', 'insulin',\n",
              "       'glyburide-metformin', 'glipizide-metformin',\n",
              "       'glimepiride-pioglitazone', 'metformin-rosiglitazone',\n",
              "       'metformin-pioglitazone', 'change', 'diabetesMed'],\n",
              "      dtype='object')"
            ]
          },
          "metadata": {}
        }
      ],
      "source": [
        "\n",
        "num_cols = X.select_dtypes(include=np.number).columns\n",
        "cat_cols = X.columns[X.dtypes == 'object']\n",
        "\n",
        "display(num_cols)\n",
        "\n",
        "print(\"-----\")\n",
        "\n",
        "display(cat_cols)"
      ]
    },
    {
      "cell_type": "code",
      "execution_count": 17,
      "metadata": {
        "colab": {
          "base_uri": "https://localhost:8080/"
        },
        "id": "CO4aS1FbtcvV",
        "outputId": "1cd1dbb1-7076-4556-e0a7-4f9143d946fd"
      },
      "outputs": [
        {
          "output_type": "stream",
          "name": "stdout",
          "text": [
            "We have 12 numeric columns: admission_type_id, discharge_disposition_id, admission_source_id, time_in_hospital, num_lab_procedures, num_procedures, num_medications, number_outpatient, number_emergency, number_inpatient, number_diagnoses, new_feature\n",
            "And 36 categorical columns: race, gender, age, weight, payer_code, medical_specialty, diag_1, diag_2, diag_3, max_glu_serum, A1Cresult, metformin, repaglinide, nateglinide, chlorpropamide, glimepiride, acetohexamide, glipizide, glyburide, tolbutamide, pioglitazone, rosiglitazone, acarbose, miglitol, troglitazone, tolazamide, examide, citoglipton, insulin, glyburide-metformin, glipizide-metformin, glimepiride-pioglitazone, metformin-rosiglitazone, metformin-pioglitazone, change, diabetesMed\n"
          ]
        }
      ],
      "source": [
        "print(f\"We have {len(num_cols)} numeric columns: {', '.join(num_cols)}\")\n",
        "print(f\"And {len(cat_cols)} categorical columns: {', '.join(cat_cols)}\")"
      ]
    },
    {
      "cell_type": "markdown",
      "metadata": {
        "id": "fcMKF_kpWawP"
      },
      "source": [
        "#Numerical Columns"
      ]
    },
    {
      "cell_type": "code",
      "execution_count": 18,
      "metadata": {
        "colab": {
          "base_uri": "https://localhost:8080/",
          "height": 679
        },
        "id": "PscZZoeoWNxD",
        "outputId": "16bcfef4-6626-4744-cc57-d5fffd5cf623"
      },
      "outputs": [
        {
          "output_type": "stream",
          "name": "stdout",
          "text": [
            "(column name : admission_type_id and unique values is : [6 1 2 3 4 5 8 7]\n"
          ]
        },
        {
          "output_type": "display_data",
          "data": {
            "text/plain": [
              "None"
            ]
          },
          "metadata": {}
        },
        {
          "output_type": "stream",
          "name": "stdout",
          "text": [
            "(column name : discharge_disposition_id and unique values is : [25  1  3  6  2  5 11  7 10  4 14 18  8 13 12 16 17 22 23  9 20 15 24 28\n",
            " 19 27]\n"
          ]
        },
        {
          "output_type": "display_data",
          "data": {
            "text/plain": [
              "None"
            ]
          },
          "metadata": {}
        },
        {
          "output_type": "stream",
          "name": "stdout",
          "text": [
            "(column name : admission_source_id and unique values is : [ 1  7  2  4  5  6 20  3 17  8  9 14 10 22 11 25 13]\n"
          ]
        },
        {
          "output_type": "display_data",
          "data": {
            "text/plain": [
              "None"
            ]
          },
          "metadata": {}
        },
        {
          "output_type": "stream",
          "name": "stdout",
          "text": [
            "(column name : time_in_hospital and unique values is : [ 1  3  2  4  5 13 12  9  7 10  6 11  8 14]\n"
          ]
        },
        {
          "output_type": "display_data",
          "data": {
            "text/plain": [
              "None"
            ]
          },
          "metadata": {}
        },
        {
          "output_type": "stream",
          "name": "stdout",
          "text": [
            "(column name : num_lab_procedures and unique values is : [ 41  59  11  44  51  31  70  73  68  33  47  62  60  55  49  75  45  29\n",
            "  35  42  66  36  19  64  25  53  52  87  27  37  46  28  48  72  10   2\n",
            "  65  67  40  54  58  57  43  32  83  34  39  69  38  56  22  96  78  61\n",
            "  88  50   1  18  82   9  63  24  71  77  81  76  90  93   3 103  13  80\n",
            "  85  16  15  12  30  23  17  21  79  26   5  95  97  84  14  74 105  86\n",
            "  98  20   6  94   8 102 100   7  89  91  92   4 101  99 114 113 111 129\n",
            " 107 108 106 104 109 120 132 121 126 118]\n"
          ]
        },
        {
          "output_type": "display_data",
          "data": {
            "text/plain": [
              "None"
            ]
          },
          "metadata": {}
        },
        {
          "output_type": "stream",
          "name": "stdout",
          "text": [
            "(column name : num_procedures and unique values is : [0 5 1 6 2 3 4]\n"
          ]
        },
        {
          "output_type": "display_data",
          "data": {
            "text/plain": [
              "None"
            ]
          },
          "metadata": {}
        },
        {
          "output_type": "stream",
          "name": "stdout",
          "text": [
            "(column name : num_medications and unique values is : [ 1 18 13 16  8 21 12 28 17 11 15 31  2 23 19  7 20 14 10 22  9 27 25  4\n",
            " 32  6 30 26 24 33  5 39  3 29 61 40 46 41 36 34 35 50 43 42 37 51 38 45\n",
            " 54 52 49 62 55 47 44 53 48 57 59 56 60 63 58 70 67 64 69 65 68 66 81 79\n",
            " 75 72 74]\n"
          ]
        },
        {
          "output_type": "display_data",
          "data": {
            "text/plain": [
              "None"
            ]
          },
          "metadata": {}
        },
        {
          "output_type": "stream",
          "name": "stdout",
          "text": [
            "(column name : number_outpatient and unique values is : [ 0  2  1  5  7  9  3  8  4 12 11  6 20 15 10 13 14 16 21 35 17 29 36 18\n",
            " 19 27 22 24 42 39 34 26 33 25 23 28 37 38 40]\n"
          ]
        },
        {
          "output_type": "display_data",
          "data": {
            "text/plain": [
              "None"
            ]
          },
          "metadata": {}
        },
        {
          "output_type": "stream",
          "name": "stdout",
          "text": [
            "(column name : number_emergency and unique values is : [ 0  1  2  4  3  9  5  7  6  8 22 25 10 13 42 16 11 28 15 14 18 12 21 20\n",
            " 19 46 76 37 64 63 54 24 29]\n"
          ]
        },
        {
          "output_type": "display_data",
          "data": {
            "text/plain": [
              "None"
            ]
          },
          "metadata": {}
        },
        {
          "output_type": "stream",
          "name": "stdout",
          "text": [
            "(column name : number_inpatient and unique values is : [ 0  1  2  3  6  5  4  7  8  9 15 10 11 14 12 13 17 16 21 18 19]\n"
          ]
        },
        {
          "output_type": "display_data",
          "data": {
            "text/plain": [
              "None"
            ]
          },
          "metadata": {}
        },
        {
          "output_type": "stream",
          "name": "stdout",
          "text": [
            "(column name : number_diagnoses and unique values is : [ 1  9  6  7  5  8  3  4  2 16 12 13 15 10 11 14]\n"
          ]
        },
        {
          "output_type": "display_data",
          "data": {
            "text/plain": [
              "None"
            ]
          },
          "metadata": {}
        },
        {
          "output_type": "stream",
          "name": "stdout",
          "text": [
            "(column name : new_feature and unique values is : [ 0  3  1  2  6  7 10  5  4 14 15  8 12  9 13 11 18 17 25 27 23 30 16 31\n",
            " 19 20 21 22 35 49 34 38 28 26 24 32 42 40 36 33 29 37 48 80 68 61 41]\n"
          ]
        },
        {
          "output_type": "display_data",
          "data": {
            "text/plain": [
              "None"
            ]
          },
          "metadata": {}
        }
      ],
      "source": [
        "for row in X[num_cols].columns:\n",
        "  display(print(f'(column name : {row} and unique values is :',X[num_cols][row].unique()))"
      ]
    },
    {
      "cell_type": "code",
      "execution_count": 19,
      "metadata": {
        "colab": {
          "base_uri": "https://localhost:8080/",
          "height": 320
        },
        "id": "mD8-vA7HXK-j",
        "outputId": "5c287f49-3e7e-4dea-863e-0c63d28f1096"
      },
      "outputs": [
        {
          "output_type": "execute_result",
          "data": {
            "text/plain": [
              "<pandas.io.formats.style.Styler at 0x7dfa194c0710>"
            ],
            "text/html": [
              "<style type=\"text/css\">\n",
              "#T_e1e29_row0_col0, #T_e1e29_row0_col1, #T_e1e29_row0_col2, #T_e1e29_row0_col3, #T_e1e29_row0_col4, #T_e1e29_row0_col5, #T_e1e29_row0_col6, #T_e1e29_row0_col7, #T_e1e29_row0_col8, #T_e1e29_row0_col9, #T_e1e29_row0_col10, #T_e1e29_row0_col11 {\n",
              "  background-color: #023858;\n",
              "  color: #f1f1f1;\n",
              "}\n",
              "#T_e1e29_row1_col0, #T_e1e29_row1_col1, #T_e1e29_row1_col2, #T_e1e29_row1_col3, #T_e1e29_row1_col4, #T_e1e29_row1_col5, #T_e1e29_row1_col6, #T_e1e29_row1_col7, #T_e1e29_row1_col8, #T_e1e29_row1_col9, #T_e1e29_row1_col10, #T_e1e29_row1_col11, #T_e1e29_row2_col0, #T_e1e29_row2_col1, #T_e1e29_row2_col2, #T_e1e29_row2_col3, #T_e1e29_row2_col4, #T_e1e29_row2_col5, #T_e1e29_row2_col6, #T_e1e29_row2_col7, #T_e1e29_row2_col8, #T_e1e29_row2_col9, #T_e1e29_row2_col10, #T_e1e29_row2_col11, #T_e1e29_row3_col0, #T_e1e29_row3_col1, #T_e1e29_row3_col2, #T_e1e29_row3_col3, #T_e1e29_row3_col4, #T_e1e29_row3_col5, #T_e1e29_row3_col6, #T_e1e29_row3_col7, #T_e1e29_row3_col8, #T_e1e29_row3_col9, #T_e1e29_row3_col10, #T_e1e29_row3_col11, #T_e1e29_row4_col0, #T_e1e29_row4_col1, #T_e1e29_row4_col2, #T_e1e29_row4_col3, #T_e1e29_row4_col4, #T_e1e29_row4_col5, #T_e1e29_row4_col6, #T_e1e29_row4_col7, #T_e1e29_row4_col8, #T_e1e29_row4_col9, #T_e1e29_row4_col10, #T_e1e29_row4_col11, #T_e1e29_row5_col0, #T_e1e29_row5_col1, #T_e1e29_row5_col2, #T_e1e29_row5_col3, #T_e1e29_row5_col4, #T_e1e29_row5_col5, #T_e1e29_row5_col6, #T_e1e29_row5_col7, #T_e1e29_row5_col8, #T_e1e29_row5_col9, #T_e1e29_row5_col10, #T_e1e29_row5_col11, #T_e1e29_row6_col0, #T_e1e29_row6_col1, #T_e1e29_row6_col2, #T_e1e29_row6_col3, #T_e1e29_row6_col4, #T_e1e29_row6_col5, #T_e1e29_row6_col6, #T_e1e29_row6_col7, #T_e1e29_row6_col8, #T_e1e29_row6_col9, #T_e1e29_row6_col10, #T_e1e29_row6_col11, #T_e1e29_row7_col0, #T_e1e29_row7_col1, #T_e1e29_row7_col2, #T_e1e29_row7_col3, #T_e1e29_row7_col4, #T_e1e29_row7_col5, #T_e1e29_row7_col6, #T_e1e29_row7_col7, #T_e1e29_row7_col8, #T_e1e29_row7_col9, #T_e1e29_row7_col10, #T_e1e29_row7_col11 {\n",
              "  background-color: #fff7fb;\n",
              "  color: #000000;\n",
              "}\n",
              "</style>\n",
              "<table id=\"T_e1e29\" class=\"dataframe\">\n",
              "  <thead>\n",
              "    <tr>\n",
              "      <th class=\"blank level0\" >&nbsp;</th>\n",
              "      <th id=\"T_e1e29_level0_col0\" class=\"col_heading level0 col0\" >admission_type_id</th>\n",
              "      <th id=\"T_e1e29_level0_col1\" class=\"col_heading level0 col1\" >discharge_disposition_id</th>\n",
              "      <th id=\"T_e1e29_level0_col2\" class=\"col_heading level0 col2\" >admission_source_id</th>\n",
              "      <th id=\"T_e1e29_level0_col3\" class=\"col_heading level0 col3\" >time_in_hospital</th>\n",
              "      <th id=\"T_e1e29_level0_col4\" class=\"col_heading level0 col4\" >num_lab_procedures</th>\n",
              "      <th id=\"T_e1e29_level0_col5\" class=\"col_heading level0 col5\" >num_procedures</th>\n",
              "      <th id=\"T_e1e29_level0_col6\" class=\"col_heading level0 col6\" >num_medications</th>\n",
              "      <th id=\"T_e1e29_level0_col7\" class=\"col_heading level0 col7\" >number_outpatient</th>\n",
              "      <th id=\"T_e1e29_level0_col8\" class=\"col_heading level0 col8\" >number_emergency</th>\n",
              "      <th id=\"T_e1e29_level0_col9\" class=\"col_heading level0 col9\" >number_inpatient</th>\n",
              "      <th id=\"T_e1e29_level0_col10\" class=\"col_heading level0 col10\" >number_diagnoses</th>\n",
              "      <th id=\"T_e1e29_level0_col11\" class=\"col_heading level0 col11\" >new_feature</th>\n",
              "    </tr>\n",
              "  </thead>\n",
              "  <tbody>\n",
              "    <tr>\n",
              "      <th id=\"T_e1e29_level0_row0\" class=\"row_heading level0 row0\" >count</th>\n",
              "      <td id=\"T_e1e29_row0_col0\" class=\"data row0 col0\" >101766.000000</td>\n",
              "      <td id=\"T_e1e29_row0_col1\" class=\"data row0 col1\" >101766.000000</td>\n",
              "      <td id=\"T_e1e29_row0_col2\" class=\"data row0 col2\" >101766.000000</td>\n",
              "      <td id=\"T_e1e29_row0_col3\" class=\"data row0 col3\" >101766.000000</td>\n",
              "      <td id=\"T_e1e29_row0_col4\" class=\"data row0 col4\" >101766.000000</td>\n",
              "      <td id=\"T_e1e29_row0_col5\" class=\"data row0 col5\" >101766.000000</td>\n",
              "      <td id=\"T_e1e29_row0_col6\" class=\"data row0 col6\" >101766.000000</td>\n",
              "      <td id=\"T_e1e29_row0_col7\" class=\"data row0 col7\" >101766.000000</td>\n",
              "      <td id=\"T_e1e29_row0_col8\" class=\"data row0 col8\" >101766.000000</td>\n",
              "      <td id=\"T_e1e29_row0_col9\" class=\"data row0 col9\" >101766.000000</td>\n",
              "      <td id=\"T_e1e29_row0_col10\" class=\"data row0 col10\" >101766.000000</td>\n",
              "      <td id=\"T_e1e29_row0_col11\" class=\"data row0 col11\" >101766.000000</td>\n",
              "    </tr>\n",
              "    <tr>\n",
              "      <th id=\"T_e1e29_level0_row1\" class=\"row_heading level0 row1\" >mean</th>\n",
              "      <td id=\"T_e1e29_row1_col0\" class=\"data row1 col0\" >2.024006</td>\n",
              "      <td id=\"T_e1e29_row1_col1\" class=\"data row1 col1\" >3.715642</td>\n",
              "      <td id=\"T_e1e29_row1_col2\" class=\"data row1 col2\" >5.754437</td>\n",
              "      <td id=\"T_e1e29_row1_col3\" class=\"data row1 col3\" >4.395987</td>\n",
              "      <td id=\"T_e1e29_row1_col4\" class=\"data row1 col4\" >43.095641</td>\n",
              "      <td id=\"T_e1e29_row1_col5\" class=\"data row1 col5\" >1.339730</td>\n",
              "      <td id=\"T_e1e29_row1_col6\" class=\"data row1 col6\" >16.021844</td>\n",
              "      <td id=\"T_e1e29_row1_col7\" class=\"data row1 col7\" >0.369357</td>\n",
              "      <td id=\"T_e1e29_row1_col8\" class=\"data row1 col8\" >0.197836</td>\n",
              "      <td id=\"T_e1e29_row1_col9\" class=\"data row1 col9\" >0.635566</td>\n",
              "      <td id=\"T_e1e29_row1_col10\" class=\"data row1 col10\" >7.422607</td>\n",
              "      <td id=\"T_e1e29_row1_col11\" class=\"data row1 col11\" >1.202759</td>\n",
              "    </tr>\n",
              "    <tr>\n",
              "      <th id=\"T_e1e29_level0_row2\" class=\"row_heading level0 row2\" >std</th>\n",
              "      <td id=\"T_e1e29_row2_col0\" class=\"data row2 col0\" >1.445403</td>\n",
              "      <td id=\"T_e1e29_row2_col1\" class=\"data row2 col1\" >5.280166</td>\n",
              "      <td id=\"T_e1e29_row2_col2\" class=\"data row2 col2\" >4.064081</td>\n",
              "      <td id=\"T_e1e29_row2_col3\" class=\"data row2 col3\" >2.985108</td>\n",
              "      <td id=\"T_e1e29_row2_col4\" class=\"data row2 col4\" >19.674362</td>\n",
              "      <td id=\"T_e1e29_row2_col5\" class=\"data row2 col5\" >1.705807</td>\n",
              "      <td id=\"T_e1e29_row2_col6\" class=\"data row2 col6\" >8.127566</td>\n",
              "      <td id=\"T_e1e29_row2_col7\" class=\"data row2 col7\" >1.267265</td>\n",
              "      <td id=\"T_e1e29_row2_col8\" class=\"data row2 col8\" >0.930472</td>\n",
              "      <td id=\"T_e1e29_row2_col9\" class=\"data row2 col9\" >1.262863</td>\n",
              "      <td id=\"T_e1e29_row2_col10\" class=\"data row2 col10\" >1.933600</td>\n",
              "      <td id=\"T_e1e29_row2_col11\" class=\"data row2 col11\" >2.291781</td>\n",
              "    </tr>\n",
              "    <tr>\n",
              "      <th id=\"T_e1e29_level0_row3\" class=\"row_heading level0 row3\" >min</th>\n",
              "      <td id=\"T_e1e29_row3_col0\" class=\"data row3 col0\" >1.000000</td>\n",
              "      <td id=\"T_e1e29_row3_col1\" class=\"data row3 col1\" >1.000000</td>\n",
              "      <td id=\"T_e1e29_row3_col2\" class=\"data row3 col2\" >1.000000</td>\n",
              "      <td id=\"T_e1e29_row3_col3\" class=\"data row3 col3\" >1.000000</td>\n",
              "      <td id=\"T_e1e29_row3_col4\" class=\"data row3 col4\" >1.000000</td>\n",
              "      <td id=\"T_e1e29_row3_col5\" class=\"data row3 col5\" >0.000000</td>\n",
              "      <td id=\"T_e1e29_row3_col6\" class=\"data row3 col6\" >1.000000</td>\n",
              "      <td id=\"T_e1e29_row3_col7\" class=\"data row3 col7\" >0.000000</td>\n",
              "      <td id=\"T_e1e29_row3_col8\" class=\"data row3 col8\" >0.000000</td>\n",
              "      <td id=\"T_e1e29_row3_col9\" class=\"data row3 col9\" >0.000000</td>\n",
              "      <td id=\"T_e1e29_row3_col10\" class=\"data row3 col10\" >1.000000</td>\n",
              "      <td id=\"T_e1e29_row3_col11\" class=\"data row3 col11\" >0.000000</td>\n",
              "    </tr>\n",
              "    <tr>\n",
              "      <th id=\"T_e1e29_level0_row4\" class=\"row_heading level0 row4\" >25%</th>\n",
              "      <td id=\"T_e1e29_row4_col0\" class=\"data row4 col0\" >1.000000</td>\n",
              "      <td id=\"T_e1e29_row4_col1\" class=\"data row4 col1\" >1.000000</td>\n",
              "      <td id=\"T_e1e29_row4_col2\" class=\"data row4 col2\" >1.000000</td>\n",
              "      <td id=\"T_e1e29_row4_col3\" class=\"data row4 col3\" >2.000000</td>\n",
              "      <td id=\"T_e1e29_row4_col4\" class=\"data row4 col4\" >31.000000</td>\n",
              "      <td id=\"T_e1e29_row4_col5\" class=\"data row4 col5\" >0.000000</td>\n",
              "      <td id=\"T_e1e29_row4_col6\" class=\"data row4 col6\" >10.000000</td>\n",
              "      <td id=\"T_e1e29_row4_col7\" class=\"data row4 col7\" >0.000000</td>\n",
              "      <td id=\"T_e1e29_row4_col8\" class=\"data row4 col8\" >0.000000</td>\n",
              "      <td id=\"T_e1e29_row4_col9\" class=\"data row4 col9\" >0.000000</td>\n",
              "      <td id=\"T_e1e29_row4_col10\" class=\"data row4 col10\" >6.000000</td>\n",
              "      <td id=\"T_e1e29_row4_col11\" class=\"data row4 col11\" >0.000000</td>\n",
              "    </tr>\n",
              "    <tr>\n",
              "      <th id=\"T_e1e29_level0_row5\" class=\"row_heading level0 row5\" >50%</th>\n",
              "      <td id=\"T_e1e29_row5_col0\" class=\"data row5 col0\" >1.000000</td>\n",
              "      <td id=\"T_e1e29_row5_col1\" class=\"data row5 col1\" >1.000000</td>\n",
              "      <td id=\"T_e1e29_row5_col2\" class=\"data row5 col2\" >7.000000</td>\n",
              "      <td id=\"T_e1e29_row5_col3\" class=\"data row5 col3\" >4.000000</td>\n",
              "      <td id=\"T_e1e29_row5_col4\" class=\"data row5 col4\" >44.000000</td>\n",
              "      <td id=\"T_e1e29_row5_col5\" class=\"data row5 col5\" >1.000000</td>\n",
              "      <td id=\"T_e1e29_row5_col6\" class=\"data row5 col6\" >15.000000</td>\n",
              "      <td id=\"T_e1e29_row5_col7\" class=\"data row5 col7\" >0.000000</td>\n",
              "      <td id=\"T_e1e29_row5_col8\" class=\"data row5 col8\" >0.000000</td>\n",
              "      <td id=\"T_e1e29_row5_col9\" class=\"data row5 col9\" >0.000000</td>\n",
              "      <td id=\"T_e1e29_row5_col10\" class=\"data row5 col10\" >8.000000</td>\n",
              "      <td id=\"T_e1e29_row5_col11\" class=\"data row5 col11\" >0.000000</td>\n",
              "    </tr>\n",
              "    <tr>\n",
              "      <th id=\"T_e1e29_level0_row6\" class=\"row_heading level0 row6\" >75%</th>\n",
              "      <td id=\"T_e1e29_row6_col0\" class=\"data row6 col0\" >3.000000</td>\n",
              "      <td id=\"T_e1e29_row6_col1\" class=\"data row6 col1\" >4.000000</td>\n",
              "      <td id=\"T_e1e29_row6_col2\" class=\"data row6 col2\" >7.000000</td>\n",
              "      <td id=\"T_e1e29_row6_col3\" class=\"data row6 col3\" >6.000000</td>\n",
              "      <td id=\"T_e1e29_row6_col4\" class=\"data row6 col4\" >57.000000</td>\n",
              "      <td id=\"T_e1e29_row6_col5\" class=\"data row6 col5\" >2.000000</td>\n",
              "      <td id=\"T_e1e29_row6_col6\" class=\"data row6 col6\" >20.000000</td>\n",
              "      <td id=\"T_e1e29_row6_col7\" class=\"data row6 col7\" >0.000000</td>\n",
              "      <td id=\"T_e1e29_row6_col8\" class=\"data row6 col8\" >0.000000</td>\n",
              "      <td id=\"T_e1e29_row6_col9\" class=\"data row6 col9\" >1.000000</td>\n",
              "      <td id=\"T_e1e29_row6_col10\" class=\"data row6 col10\" >9.000000</td>\n",
              "      <td id=\"T_e1e29_row6_col11\" class=\"data row6 col11\" >2.000000</td>\n",
              "    </tr>\n",
              "    <tr>\n",
              "      <th id=\"T_e1e29_level0_row7\" class=\"row_heading level0 row7\" >max</th>\n",
              "      <td id=\"T_e1e29_row7_col0\" class=\"data row7 col0\" >8.000000</td>\n",
              "      <td id=\"T_e1e29_row7_col1\" class=\"data row7 col1\" >28.000000</td>\n",
              "      <td id=\"T_e1e29_row7_col2\" class=\"data row7 col2\" >25.000000</td>\n",
              "      <td id=\"T_e1e29_row7_col3\" class=\"data row7 col3\" >14.000000</td>\n",
              "      <td id=\"T_e1e29_row7_col4\" class=\"data row7 col4\" >132.000000</td>\n",
              "      <td id=\"T_e1e29_row7_col5\" class=\"data row7 col5\" >6.000000</td>\n",
              "      <td id=\"T_e1e29_row7_col6\" class=\"data row7 col6\" >81.000000</td>\n",
              "      <td id=\"T_e1e29_row7_col7\" class=\"data row7 col7\" >42.000000</td>\n",
              "      <td id=\"T_e1e29_row7_col8\" class=\"data row7 col8\" >76.000000</td>\n",
              "      <td id=\"T_e1e29_row7_col9\" class=\"data row7 col9\" >21.000000</td>\n",
              "      <td id=\"T_e1e29_row7_col10\" class=\"data row7 col10\" >16.000000</td>\n",
              "      <td id=\"T_e1e29_row7_col11\" class=\"data row7 col11\" >80.000000</td>\n",
              "    </tr>\n",
              "  </tbody>\n",
              "</table>\n"
            ]
          },
          "metadata": {},
          "execution_count": 19
        }
      ],
      "source": [
        "df_numerical=X[num_cols].copy()\n",
        "df_numerical.describe().style.background_gradient()"
      ]
    },
    {
      "cell_type": "markdown",
      "metadata": {
        "id": "xjhfgtL2sp2x"
      },
      "source": [
        "multicollinearity -check\n"
      ]
    },
    {
      "cell_type": "code",
      "execution_count": 20,
      "metadata": {
        "colab": {
          "base_uri": "https://localhost:8080/",
          "height": 529
        },
        "id": "nyyARnPKXdCy",
        "outputId": "e4dbd0a4-3d80-466e-f0bd-eb4b1f3a79ef"
      },
      "outputs": [
        {
          "output_type": "display_data",
          "data": {
            "text/plain": [
              "<Figure size 800x400 with 2 Axes>"
            ],
            "image/png": "[encoded data removed]"
          },
          "metadata": {}
        }
      ],
      "source": [
        "\n",
        "corr_matrix = df_numerical.corr(method='pearson') #method='pearson'for linearity ,we can use also Spearman's Rank Correlation Coefficient\n",
        "# Create a mask for the upper triangle\n",
        "mask = np.triu(np.ones_like(corr_matrix, dtype=bool))\n",
        "# Set up the matplotlib figure\n",
        "plt.figure(figsize=(8,4))\n",
        "# Plot heatmap\n",
        "heatmap = sns.heatmap(corr_matrix, mask=mask, vmin=-1, vmax=1, annot=True, cmap='BrBG')\n",
        "# Show the plot\n",
        "plt.show()"
      ]
    },
    {
      "cell_type": "code",
      "execution_count": 21,
      "metadata": {
        "id": "WlG2ZLd5Xtde"
      },
      "outputs": [],
      "source": [
        "df_numerical['target']=y"
      ]
    },
    {
      "cell_type": "markdown",
      "metadata": {
        "id": "6gUav_5ZsoIQ"
      },
      "source": [
        "check correlation between target values and features"
      ]
    },
    {
      "cell_type": "code",
      "execution_count": 22,
      "metadata": {
        "colab": {
          "base_uri": "https://localhost:8080/",
          "height": 435
        },
        "id": "SoeqWIi1XgRF",
        "outputId": "206b815b-0d55-4fad-f275-8afba96db31f"
      },
      "outputs": [
        {
          "output_type": "display_data",
          "data": {
            "text/plain": [
              "<Figure size 640x480 with 2 Axes>"
            ],
            "image/png": "[encoded data removed]"
          },
          "metadata": {}
        }
      ],
      "source": [
        "heatmap = sns.heatmap(df_numerical.corr(method='spearman')[['target']].sort_values(by='target',\n",
        "                                                                                          ascending=False),\n",
        "                                                                                           vmin=-1, vmax=1, annot=True, cmap='BrBG')\n"
      ]
    },
    {
      "cell_type": "code",
      "execution_count": 23,
      "metadata": {
        "colab": {
          "base_uri": "https://localhost:8080/",
          "height": 575
        },
        "id": "VyBN5Bvad4vd",
        "outputId": "e56fd718-d608-4677-8194-3d763bb1d2af"
      },
      "outputs": [
        {
          "output_type": "execute_result",
          "data": {
            "text/plain": [
              "<Axes: >"
            ]
          },
          "metadata": {},
          "execution_count": 23
        },
        {
          "output_type": "display_data",
          "data": {
            "text/plain": [
              "<Figure size 600x600 with 2 Axes>"
            ],
            "image/png": "[encoded data removed]"
          },
          "metadata": {}
        }
      ],
      "source": [
        "#nan_values oh numerical cols\n",
        "plt.figure(figsize=(6,6))\n",
        "sns.heatmap(X[num_cols].isna().transpose())"
      ]
    },
    {
      "cell_type": "code",
      "execution_count": 24,
      "metadata": {
        "colab": {
          "base_uri": "https://localhost:8080/",
          "height": 34
        },
        "id": "o6DOwtH5irS2",
        "outputId": "c7bb3068-9ba5-484d-97b2-4f656373964b"
      },
      "outputs": [
        {
          "output_type": "display_data",
          "data": {
            "text/plain": [
              "(101766, 48)"
            ]
          },
          "metadata": {}
        }
      ],
      "source": [
        "display(X.shape)"
      ]
    },
    {
      "cell_type": "markdown",
      "metadata": {
        "id": "BOvwILCls2CH"
      },
      "source": [
        "drop columns"
      ]
    },
    {
      "cell_type": "code",
      "execution_count": 25,
      "metadata": {
        "id": "hHwPDcIOc4Ig"
      },
      "outputs": [],
      "source": [
        "X.drop(columns=['admission_source_id',\n",
        "                'discharge_disposition_id',\n",
        "                'admission_type_id',\n",
        "                'number_outpatient','number_emergency','number_inpatient'\n",
        "                ],\n",
        "        inplace=True)\n"
      ]
    },
    {
      "cell_type": "code",
      "execution_count": 26,
      "metadata": {
        "id": "oUlldYAsdBmX"
      },
      "outputs": [],
      "source": [
        "cols_to_remove = ['admission_source_id', 'discharge_disposition_id', 'admission_type_id',\n",
        "                   'number_outpatient','number_emergency','number_inpatient'\n",
        "                ]\n",
        "num_cols = [col for col in num_cols if col not in cols_to_remove]\n"
      ]
    },
    {
      "cell_type": "code",
      "execution_count": 27,
      "metadata": {
        "colab": {
          "base_uri": "https://localhost:8080/",
          "height": 52
        },
        "id": "LChmJEU0iurh",
        "outputId": "75e917c8-96ff-4c71-8b0f-8f40657edcf7"
      },
      "outputs": [
        {
          "output_type": "display_data",
          "data": {
            "text/plain": [
              "(101766, 42)"
            ]
          },
          "metadata": {}
        },
        {
          "output_type": "display_data",
          "data": {
            "text/plain": [
              "6"
            ]
          },
          "metadata": {}
        }
      ],
      "source": [
        "display(X.shape)\n",
        "display(len(num_cols))"
      ]
    },
    {
      "cell_type": "markdown",
      "metadata": {
        "id": "UGKbFt8sa5ZU"
      },
      "source": [
        "#Categorical **columns**"
      ]
    },
    {
      "cell_type": "code",
      "execution_count": 28,
      "metadata": {
        "colab": {
          "base_uri": "https://localhost:8080/",
          "height": 1000
        },
        "id": "xkMqvqYTbCfB",
        "outputId": "e9a28624-295c-402e-90f3-ced219b7610f"
      },
      "outputs": [
        {
          "output_type": "stream",
          "name": "stdout",
          "text": [
            "(column name : race and unique values is : ['Caucasian' 'AfricanAmerican' nan 'Other' 'Asian' 'Hispanic']\n"
          ]
        },
        {
          "output_type": "display_data",
          "data": {
            "text/plain": [
              "None"
            ]
          },
          "metadata": {}
        },
        {
          "output_type": "stream",
          "name": "stdout",
          "text": [
            "(column name : gender and unique values is : ['Female' 'Male' 'Unknown/Invalid']\n"
          ]
        },
        {
          "output_type": "display_data",
          "data": {
            "text/plain": [
              "None"
            ]
          },
          "metadata": {}
        },
        {
          "output_type": "stream",
          "name": "stdout",
          "text": [
            "(column name : age and unique values is : ['[0-10)' '[10-20)' '[20-30)' '[30-40)' '[40-50)' '[50-60)' '[60-70)'\n",
            " '[70-80)' '[80-90)' '[90-100)']\n"
          ]
        },
        {
          "output_type": "display_data",
          "data": {
            "text/plain": [
              "None"
            ]
          },
          "metadata": {}
        },
        {
          "output_type": "stream",
          "name": "stdout",
          "text": [
            "(column name : weight and unique values is : [nan '[75-100)' '[50-75)' '[0-25)' '[100-125)' '[25-50)' '[125-150)'\n",
            " '[175-200)' '[150-175)' '>200']\n"
          ]
        },
        {
          "output_type": "display_data",
          "data": {
            "text/plain": [
              "None"
            ]
          },
          "metadata": {}
        },
        {
          "output_type": "stream",
          "name": "stdout",
          "text": [
            "(column name : payer_code and unique values is : [nan 'MC' 'MD' 'HM' 'UN' 'BC' 'SP' 'CP' 'SI' 'DM' 'CM' 'CH' 'PO' 'WC' 'OT'\n",
            " 'OG' 'MP' 'FR']\n"
          ]
        },
        {
          "output_type": "display_data",
          "data": {
            "text/plain": [
              "None"
            ]
          },
          "metadata": {}
        },
        {
          "output_type": "stream",
          "name": "stdout",
          "text": [
            "(column name : medical_specialty and unique values is : ['Pediatrics-Endocrinology' nan 'InternalMedicine'\n",
            " 'Family/GeneralPractice' 'Cardiology' 'Surgery-General' 'Orthopedics'\n",
            " 'Gastroenterology' 'Surgery-Cardiovascular/Thoracic' 'Nephrology'\n",
            " 'Orthopedics-Reconstructive' 'Psychiatry' 'Emergency/Trauma'\n",
            " 'Pulmonology' 'Surgery-Neuro' 'Obsterics&Gynecology-GynecologicOnco'\n",
            " 'ObstetricsandGynecology' 'Pediatrics' 'Hematology/Oncology'\n",
            " 'Otolaryngology' 'Surgery-Colon&Rectal' 'Pediatrics-CriticalCare'\n",
            " 'Endocrinology' 'Urology' 'Psychiatry-Child/Adolescent'\n",
            " 'Pediatrics-Pulmonology' 'Neurology' 'Anesthesiology-Pediatric'\n",
            " 'Radiology' 'Pediatrics-Hematology-Oncology' 'Psychology' 'Podiatry'\n",
            " 'Gynecology' 'Oncology' 'Pediatrics-Neurology' 'Surgery-Plastic'\n",
            " 'Surgery-Thoracic' 'Surgery-PlasticwithinHeadandNeck' 'Ophthalmology'\n",
            " 'Surgery-Pediatric' 'Pediatrics-EmergencyMedicine'\n",
            " 'PhysicalMedicineandRehabilitation' 'InfectiousDiseases' 'Anesthesiology'\n",
            " 'Rheumatology' 'AllergyandImmunology' 'Surgery-Maxillofacial'\n",
            " 'Pediatrics-InfectiousDiseases' 'Pediatrics-AllergyandImmunology'\n",
            " 'Dentistry' 'Surgeon' 'Surgery-Vascular' 'Osteopath'\n",
            " 'Psychiatry-Addictive' 'Surgery-Cardiovascular' 'PhysicianNotFound'\n",
            " 'Hematology' 'Proctology' 'Obstetrics' 'SurgicalSpecialty' 'Radiologist'\n",
            " 'Pathology' 'Dermatology' 'SportsMedicine' 'Speech' 'Hospitalist'\n",
            " 'OutreachServices' 'Cardiology-Pediatric' 'Perinatology'\n",
            " 'Neurophysiology' 'Endocrinology-Metabolism' 'DCPTEAM' 'Resident']\n"
          ]
        },
        {
          "output_type": "display_data",
          "data": {
            "text/plain": [
              "None"
            ]
          },
          "metadata": {}
        },
        {
          "output_type": "stream",
          "name": "stdout",
          "text": [
            "(column name : diag_1 and unique values is : ['250.83' '276' '648' '8' '197' '414' '428' '398' '434' '250.7' '157'\n",
            " '518' '999' '410' '682' '402' '737' '572' 'V57' '189' '786' '427' '996'\n",
            " '277' '584' '462' '473' '411' '174' '486' '998' '511' '432' '626' '295'\n",
            " '196' '250.6' '618' '182' '845' '423' '808' '250.4' '722' '403' '250.11'\n",
            " '784' '707' '440' '151' '715' '997' '198' '564' '812' '38' '590' '556'\n",
            " '578' '250.32' '433' 'V58' '569' '185' '536' '255' '250.13' '599' '558'\n",
            " '574' '491' '560' '244' '250.03' '577' '730' '188' '824' '250.8' '332'\n",
            " '562' '291' '296' '510' '401' '263' '438' '70' '250.02' '493' '642' '625'\n",
            " '571' '738' '593' '250.42' '807' '456' '446' '575' '250.41' '820' '515'\n",
            " '780' '250.22' '995' '235' '250.82' '721' '787' '162' '724' '282' '514'\n",
            " 'V55' '281' '250.33' '530' '466' '435' '250.12' 'V53' '789' '566' '822'\n",
            " '191' '557' '733' '455' '711' '482' '202' '280' '553' '225' '154' '441'\n",
            " '250.81' '349' nan '962' '592' '507' '386' '156' '200' '728' '348' '459'\n",
            " '426' '388' '607' '337' '82' '531' '596' '288' '656' '573' '492' '220'\n",
            " '516' '210' '922' '286' '885' '958' '661' '969' '250.93' '227' '112'\n",
            " '404' '823' '532' '416' '346' '535' '453' '250' '595' '211' '303'\n",
            " '250.01' '852' '218' '782' '540' '457' '285' '431' '340' '550' '54' '351'\n",
            " '601' '723' '555' '153' '443' '380' '204' '424' '241' '358' '694' '331'\n",
            " '345' '681' '447' '290' '158' '579' '436' '335' '309' '654' '805' '799'\n",
            " '292' '183' '78' '851' '458' '586' '311' '892' '305' '293' '415' '591'\n",
            " '794' '803' '79' '655' '429' '278' '658' '598' '729' '585' '444' '604'\n",
            " '727' '214' '552' '284' '680' '708' '41' '644' '481' '821' '413' '437'\n",
            " '968' '756' '632' '359' '275' '512' '781' '420' '368' '522' '294' '825'\n",
            " '135' '304' '320' '250.31' '669' '868' '496' '250.43' '826' '567' '3'\n",
            " '203' '53' '251' '565' '161' '495' '49' '250.1' '297' '663' '576' '355'\n",
            " '850' '287' '250.2' '611' '840' '350' '726' '537' '620' '180' '366' '783'\n",
            " '11' '751' '716' '250.3' '199' '464' '580' '836' '664' '283' '813' '966'\n",
            " '289' '965' '184' '480' '608' '333' '972' '212' '117' '788' '924' '959'\n",
            " '621' '238' '785' '714' '942' '250.23' '710' '47' '933' '508' '478' '844'\n",
            " '7' '736' '233' '42' '250.5' '397' '395' '201' '421' '253' '250.92' '600'\n",
            " '494' '977' '39' '659' '312' '614' '647' '652' '646' '274' '861' '425'\n",
            " '527' '451' '485' '217' '250.53' '442' '970' '193' '160' '322' '581'\n",
            " '475' '623' '374' '582' '568' '465' '801' '237' '376' '150' '461' '913'\n",
            " '226' '617' '987' '641' '298' '790' '336' '362' '228' '513' '383' '746'\n",
            " '353' '911' '506' '873' '155' '860' '534' '802' '141' 'V45' '396' '310'\n",
            " '341' '242' '719' '239' '533' '616' '519' '301' 'V66' '5' '989' '230'\n",
            " '385' '300' '853' '871' '570' '848' '463' '9' '934' '250.21' '236' '361'\n",
            " '594' '501' '810' '643' '430' '528' '205' '791' '983' '992' '490' '172'\n",
            " '171' '622' '306' '863' '864' '474' '660' '759' '356' '634' '967' '551'\n",
            " '695' '187' '732' '747' '323' '308' '370' '252' '152' '846' '164' '365'\n",
            " '718' '48' '266' '720' '94' '344' '797' '170' '878' '904' 'V56' '882'\n",
            " '843' '709' '973' '454' '686' '939' '487' '229' '991' '483' '357' '692'\n",
            " '796' '693' '935' '936' '800' '920' 'V26' '261' '307' '262' '250.9' '831'\n",
            " '145' '223' 'V71' '839' '685' 'V54' '35' '34' '179' '964' '136' '324'\n",
            " '389' '815' '334' '143' '526' '588' '192' 'V67' '394' '917' '88' '219'\n",
            " '325' '792' '717' '994' '990' '793' '207' '637' '195' '373' '847' '827'\n",
            " '31' '891' '814' 'V60' '703' '865' '352' '627' '378' '342' '886' '369'\n",
            " '745' '705' '816' '541' '986' '610' '633' '640' '753' '173' '835' '379'\n",
            " '445' '272' '382' '945' '619' '881' '250.52' '866' '405' '916' '215'\n",
            " '893' '75' '671' '928' '906' '897' '725' '867' '115' '890' '734' '521'\n",
            " '674' '470' '834' '146' '696' '524' '980' '691' '384' '142' '879'\n",
            " '250.51' '246' '208' '448' '955' '653' '149' '245' '735' '883' '854'\n",
            " '952' '838' '194' 'V43' '163' '216' '147' '354' '27' '477' '318' '880'\n",
            " '921' '377' '471' '683' '175' '602' '250.91' '982' '706' '375' '417'\n",
            " '131' '347' '870' '148' '862' '61' '817' '914' '360' '684' '314' 'V63'\n",
            " '36' '57' '240' '915' '971' '795' '988' '452' '963' '327' '731' '842'\n",
            " 'V25' '645' '665' '110' '944' '603' '923' '412' '363' '957' '976' '698'\n",
            " '299' '700' '273' '974' '97' '529' '66' '98' '605' '941' '52' '806' '84'\n",
            " '271' '837' '657' '895' '338' '523' '542' '114' '543' '372' 'V70' 'E909'\n",
            " '583' 'V07' '422' '615' '279' '500' '903' '919' '875' '381' '804' '704'\n",
            " '23' '58' '649' '832' '133' '975' '833' '391' '690' '10' 'V51']\n"
          ]
        },
        {
          "output_type": "display_data",
          "data": {
            "text/plain": [
              "None"
            ]
          },
          "metadata": {}
        },
        {
          "output_type": "stream",
          "name": "stdout",
          "text": [
            "(column name : diag_2 and unique values is : [nan '250.01' '250' '250.43' '157' '411' '492' '427' '198' '403' '288'\n",
            " '998' '507' '174' '425' '456' '401' '715' '496' '428' '585' '250.02'\n",
            " '410' '999' '996' '135' '244' '41' '571' '276' '997' '599' '424' '491'\n",
            " '553' '707' '286' '440' '493' '242' '70' 'V45' '250.03' '357' '511' '196'\n",
            " '396' '197' '414' '250.52' '577' '535' '413' '285' '53' '780' '518' '150'\n",
            " '566' '250.6' '867' '486' 'V15' '8' '788' '340' '574' '581' '228' '530'\n",
            " '250.82' '786' '294' '567' '785' '512' '305' '729' '250.51' '280' '648'\n",
            " '560' '618' '444' '38' 'V10' '578' '277' '781' '250.42' '278' '426' '584'\n",
            " '462' '402' '153' '272' '733' '34' '881' '203' '250.41' '250.13' '293'\n",
            " '245' '250.12' '558' '787' '342' '573' '626' '303' '250.53' '458' '710'\n",
            " '415' 'V42' '284' '569' '759' '682' '112' '292' '435' '290' '250.93'\n",
            " '642' '536' '398' '319' '711' 'E878' '446' '255' 'V44' '250.7' '784'\n",
            " '300' '562' '162' '287' '447' '789' '790' '591' '200' '154' '304' '117'\n",
            " '847' '852' '250.83' '250.11' '816' '575' '416' '412' '441' '515' '372'\n",
            " '482' '382' 'V65' '572' '283' '78' '250.81' '576' '432' '595' '295' 'V12'\n",
            " '204' '466' '721' '434' '590' '271' '813' '368' '227' '783' '250.5' '258'\n",
            " '253' '309' '250.91' '519' '333' '459' '250.92' '250.4' '179' '420' '345'\n",
            " '433' '661' '537' '205' '722' '405' '437' '714' '211' 'E812' '263' '202'\n",
            " '397' '250.23' 'E932' '201' '301' '723' '614' '568' '861' 'V57' '724'\n",
            " '189' '297' '453' 'E888' '730' '354' '451' '738' 'E939' '805' 'V43' '155'\n",
            " '910' '218' '358' '220' 'E937' '583' '958' '794' '564' '436' '250.22'\n",
            " '620' '621' '331' '617' '596' '314' '378' '250.8' '625' '478' '731' '172'\n",
            " '404' '681' '470' '279' '281' '531' '443' '799' '337' '311' '719' 'E944'\n",
            " '423' 'E870' '465' 'E849' '782' '481' '480' 'V23' '199' '79' '438' '348'\n",
            " '42' 'E950' '473' '627' '726' '54' '490' '317' '332' '508' '369' '600'\n",
            " '349' '485' '208' '922' '431' '296' 'E934' '753' 'E935' '386' '728' '607'\n",
            " 'E915' '344' '716' '289' '191' '873' '850' '611' '377' '352' '616' 'V17'\n",
            " '136' '455' '933' 'E885' '860' '513' '603' '484' '223' 'V72' '291' '151'\n",
            " 'V58' '550' '510' '891' '185' '592' '791' '138' '598' '336' '362' '217'\n",
            " '825' '298' '821' 'E880' '343' '429' 'E879' '579' '225' '250.9' 'V49'\n",
            " '696' '233' '658' '969' '275' '250.1' '601' '704' '808' 'E890' 'V18'\n",
            " '920' '380' '570' 'E817' '359' '812' '274' 'V14' '324' '758' 'V66' '911'\n",
            " 'E931' 'E924' '593' '792' '727' 'V46' '394' '532' 'V64' '557' '864' '718'\n",
            " 'E942' '807' '604' '924' '820' '580' '273' '241' '282' '824' 'V61' '646'\n",
            " '701' '736' '565' '383' '250.2' 'E947' '452' '872' '905' 'E930' '921'\n",
            " '131' '448' '389' '421' '214' '705' '494' '752' '623' '9' '299' '959'\n",
            " '365' '967' 'E858' '40' '691' '909' '5' '814' '746' '250.31' '556' '680'\n",
            " '745' '351' '306' '110' '695' '552' '346' '918' '882' '947' '520' '188'\n",
            " '31' '356' '737' 'V08' '322' '182' '517' '974' 'E929' 'V53' '912' '252'\n",
            " '608' '516' 'E933' '94' '702' '923' '594' '647' '111' '934' '430' '487'\n",
            " '709' '796' '156' '977' '915' '756' '840' '341' '259' '693' '725' 'V62'\n",
            " '528' '683' '953' '457' '501' 'E900' 'V09' '522' '919' '461' '506' '193'\n",
            " '483' 'E936' '717' '802' '335' 'V54' '320' '945' '906' '239' '454' '826'\n",
            " '823' 'E941' '226' '795' '684' '844' '250.33' '308' '615' '588' '712'\n",
            " '663' '706' '833' '741' '713' '533' 'E884' '586' '555' '755' 'E928' '742'\n",
            " '869' '962' 'V11' '543' '373' '870' '913' '152' '810' '965' '907' '908'\n",
            " '995' '845' '474' '442' '751' '323' '472' '464' '686' '250.32' '540'\n",
            " '251' '811' '652' '659' '851' '422' '815' '307' '325' '463' '992' '692'\n",
            " '521' '917' 'E965' '524' '916' 'E813' '173' '238' '137' '514' '312' '837'\n",
            " '355' '980' '622' '475' '500' '754' '261' '801' '868' '968' '381' '11'\n",
            " '250.21' '694' '610' '734' 'E814' '310' '130' '246' '892' '846' '634'\n",
            " '75' 'E927' 'E905' '183' '379' 'E917' '163' 'E868' '495' '747' '989'\n",
            " 'E854' '240' '832' '605' '602' '644' 'V16' '35' 'V70' '376' '266' 'E918'\n",
            " '619' '477' '656' '46' '883' '171' 'V13' '698' '842' 'E850' '800' '269'\n",
            " '664' 'E887' '952' '164' 'E881' '527' '685' '366' '836' '27' 'V63' '865'\n",
            " '793' '232' '990' '52' '831' '327' '542' '806' '972' '862' 'E829' 'E919'\n",
            " '944' 'E916' '963' '316' '645' '347' 'V85' '374' 'V02' '748' '256' '186'\n",
            " '866' '975' '96' '395' '262' 'E819' '654' '994' '318' 'E826' '879' '674'\n",
            " '641' '822' '145' '797' '353' 'E938' 'E816' '948' '987' '99' '192'\n",
            " '250.3' 'E906' '534' '115' 'E818' 'E980' '360' '338' '529' '871' '750'\n",
            " '212' '302' '955' '141' '88' 'V25' '215' '350' 'V50' 'V03' 'E853' 'E968'\n",
            " 'E882' '140' '703' '991' '893' 'E821' '235' 'V69' '670' '195' 'V55' '388'\n",
            " '268' '894' '114' '260' '853' '7' '880' 'V86' '180' 'E945' '523' '863'\n",
            " '649' '270' '665' '460' '942' '364' '66' 'E883' '123' '884' 'V60' '843'\n",
            " '927']\n"
          ]
        },
        {
          "output_type": "display_data",
          "data": {
            "text/plain": [
              "None"
            ]
          },
          "metadata": {}
        },
        {
          "output_type": "stream",
          "name": "stdout",
          "text": [
            "(column name : diag_3 and unique values is : [nan '255' 'V27' '403' '250' 'V45' '38' '486' '996' '197' '250.6' '427'\n",
            " '627' '414' '416' '714' '428' '582' 'V43' '250.01' '263' '250.42' '276'\n",
            " '482' '401' '250.41' '585' '781' '278' '998' '568' '682' '618' '250.02'\n",
            " '305' '707' '496' '599' '715' '424' '518' '553' '794' '411' 'V42' '531'\n",
            " '511' '490' '562' '250.8' '250.7' '250.52' '784' '491' '581' '420' '8'\n",
            " '724' '730' '789' '131' '250.82' '999' '41' '493' '250.03' '753' '786'\n",
            " '529' 'E888' '425' '595' '303' '560' '711' '492' '332' '296' '438' '362'\n",
            " '250.4' '654' '244' 'V70' '737' '625' '681' '250.51' '404' 'V10' '810'\n",
            " '280' '440' '785' '588' '569' '272' '997' '250.43' '918' '584' '54' '788'\n",
            " '426' '722' '250.92' '196' '461' '535' '787' '891' '284' '458' '648'\n",
            " '780' '182' '285' '593' '413' '664' '564' '201' '356' 'V15' '292' '782'\n",
            " '473' '455' 'E932' '357' '348' '294' '250.23' '459' 'E878' '437' '733'\n",
            " '507' '525' '250.53' '397' '572' '805' '453' '331' '736' '402' '591'\n",
            " '576' '465' '533' '703' '349' '315' '658' '608' '578' '716' '382' '300'\n",
            " '282' '571' '536' '596' '287' '644' 'V11' '558' 'E885' '162' '198' '218'\n",
            " '412' '396' 'V14' '570' '433' 'E934' '882' '288' '577' '443' '729' '836'\n",
            " '295' '799' '281' '304' '153' '410' '616' '250.83' '601' '291' '75' '512'\n",
            " '660' '250.5' '598' '337' '574' '653' 'V58' '311' '415' '386' '602' '790'\n",
            " '112' '873' '620' '436' '70' '155' '138' '663' '530' '710' '42' '342'\n",
            " '250.91' 'E884' '515' '307' '704' '728' '731' '583' '238' '441' '293'\n",
            " '573' '532' '290' '594' '319' '250.13' '250.12' '519' '346' '380' '135'\n",
            " '642' '698' '924' '905' 'E933' '555' '309' 'E879' '286' '565' '752' '580'\n",
            " '446' '444' '344' '252' '35' '813' '394' '301' '575' '258' 'V17' '802'\n",
            " '435' '746' 'V12' '709' '881' 'E935' '139' '250.81' '718' '365' '202'\n",
            " '334' '185' '398' 'V44' '517' 'E849' '614' '466' '626' '250.9' '368'\n",
            " '605' '883' '289' '478' '617' '429' '442' 'V25' '866' '610' '557' '959'\n",
            " 'E942' '94' '920' '345' '313' '379' '79' '516' '586' '821' '600' '242'\n",
            " '373' '592' 'V64' '487' '253' '706' 'E947' '117' '340' 'E950' '656'\n",
            " 'E949' '590' 'V09' '250.22' '934' '694' '203' '250.93' '995' '726' '923'\n",
            " '958' '275' 'E929' '211' 'V18' 'V66' '199' '665' '53' '279' '522' '791'\n",
            " '890' '456' 'E938' 'E816' '122' '721' 'V65' '136' '480' '423' 'E920'\n",
            " '793' '647' '537' '351' '845' '336' '274' '719' '945' '434' '494' '227'\n",
            " '157' '208' '174' 'V57' '812' '734' '150' 'V23' '447' '692' '228' 'V16'\n",
            " '756' '405' 'E928' '823' '552' '528' '389' '240' '454' '792' '366' 'E939'\n",
            " '907' '270' '310' '266' '387' 'E931' '783' '245' '607' '355' 'E930' '705'\n",
            " '372' '369' '611' '283' 'V46' '110' '867' 'E956' '251' '250.2' '820'\n",
            " '712' '695' '567' '343' '723' 'V08' '273' '623' '807' '451' '495' '701'\n",
            " '34' 'V53' '314' '472' 'E945' '11' '189' '534' '354' '333' 'V54' '277'\n",
            " '659' '708' '452' '655' '816' '670' '621' '246' '953' '865' 'E817' '646'\n",
            " '151' '378' '78' '298' '840' '641' '521' '745' '619' '912' '506' 'E904'\n",
            " '259' 'E870' 'E980' '383' '204' '696' '566' '727' '47' 'E943' '358' '191'\n",
            " '965' '921' '432' '27' 'E861' '758' '477' '524' '751' '652' '556' '188'\n",
            " '825' '919' '732' '908' '951' '962' '685' 'E850' 'E944' '527' '341' '693'\n",
            " '250.1' 'V49' '860' '323' 'V55' '579' '508' '969' '205' '462' 'E880'\n",
            " '680' '697' '826' '200' '457' '717' '738' '742' '735' '235' '308' '725'\n",
            " '241' '824' '464' '260' '917' '239' '661' '892' '261' 'E883' '943' '744'\n",
            " 'E936' '796' '318' '967' '350' '854' 'E905' '9' '741' 'E941' '170' '643'\n",
            " '317' '759' '909' 'V22' '831' '713' '180' '801' '360' '359' '501' '335'\n",
            " '250.11' '306' '811' '690' 'V02' '271' '214' '847' '543' 'V63' '906'\n",
            " '842' '686' '445' '808' '861' 'E852' '220' 'E887' 'E858' '915' '970'\n",
            " '256' '747' '395' '243' '815' '481' '5' 'E927' '297' '299' '851' '864'\n",
            " '922' '384' 'E876' '225' '158' 'E937' '871' '88' '966' 'E917' 'E812'\n",
            " 'V62' 'E924' '604' '233' 'E916' '377' '797' 'V72' '172' '7' '421' '852'\n",
            " 'E819' '972' '916' '956' '3' 'E965' '173' '193' '154' '347' '862' '250.3'\n",
            " '987' '470' '262' 'E855' '161' '115' '179' '910' '312' '17' '460' '265'\n",
            " '66' '163' 'V60' '870' 'E906' '514' '944' '844' '417' '152' '183' '991'\n",
            " '216' '385' '164' '935' '510' '814' '485' '850' '250.21' 'E919' '872'\n",
            " '195' '431' '597' '933' '171' '884' '156' '868' '483' 'E815' '542' 'V61'\n",
            " '853' '374' 'E881' 'E882' 'E822' '192' '754' '327' '523' '500' 'V85'\n",
            " '992' '657' '684' '603' 'E826' '550' '913' '376' '755' '361' '186' '720'\n",
            " '250.31' '674' '911' 'E813' '226' '365.44' 'E818' '146' '955' 'E894'\n",
            " '475' 'V13' '880' '930' 'E915' '381' '132' '353' '795' '893' 'V01' 'E853'\n",
            " '863' '540' 'E828' '430' '800' 'E865' '148' 'E946' '822' '879' '848'\n",
            " 'V86' 'V03' '338' '989' '388' 'E966' '111' 'E922' '123' '757' 'E901'\n",
            " '141' '268' 'E892' '649' '702' '948' '223' '484' 'E886' '838' '928' '236'\n",
            " '624' '837' 'E987' 'V07' '841' '622' 'E912' 'E955' '463' 'V06' 'E864'\n",
            " '217' '877' '391' 'E825' '952' '669' '875' 'E900' '215' '538' '980' '834'\n",
            " '448' '175' '49' '876' '230' '57' 'E854' '942' '14' '750' '370' '671'\n",
            " '971']\n"
          ]
        },
        {
          "output_type": "display_data",
          "data": {
            "text/plain": [
              "None"
            ]
          },
          "metadata": {}
        },
        {
          "output_type": "stream",
          "name": "stdout",
          "text": [
            "(column name : max_glu_serum and unique values is : [nan '>300' 'Norm' '>200']\n"
          ]
        },
        {
          "output_type": "display_data",
          "data": {
            "text/plain": [
              "None"
            ]
          },
          "metadata": {}
        },
        {
          "output_type": "stream",
          "name": "stdout",
          "text": [
            "(column name : A1Cresult and unique values is : [nan '>7' '>8' 'Norm']\n"
          ]
        },
        {
          "output_type": "display_data",
          "data": {
            "text/plain": [
              "None"
            ]
          },
          "metadata": {}
        },
        {
          "output_type": "stream",
          "name": "stdout",
          "text": [
            "(column name : metformin and unique values is : ['No' 'Steady' 'Up' 'Down']\n"
          ]
        },
        {
          "output_type": "display_data",
          "data": {
            "text/plain": [
              "None"
            ]
          },
          "metadata": {}
        },
        {
          "output_type": "stream",
          "name": "stdout",
          "text": [
            "(column name : repaglinide and unique values is : ['No' 'Up' 'Steady' 'Down']\n"
          ]
        },
        {
          "output_type": "display_data",
          "data": {
            "text/plain": [
              "None"
            ]
          },
          "metadata": {}
        },
        {
          "output_type": "stream",
          "name": "stdout",
          "text": [
            "(column name : nateglinide and unique values is : ['No' 'Steady' 'Down' 'Up']\n"
          ]
        },
        {
          "output_type": "display_data",
          "data": {
            "text/plain": [
              "None"
            ]
          },
          "metadata": {}
        },
        {
          "output_type": "stream",
          "name": "stdout",
          "text": [
            "(column name : chlorpropamide and unique values is : ['No' 'Steady' 'Down' 'Up']\n"
          ]
        },
        {
          "output_type": "display_data",
          "data": {
            "text/plain": [
              "None"
            ]
          },
          "metadata": {}
        },
        {
          "output_type": "stream",
          "name": "stdout",
          "text": [
            "(column name : glimepiride and unique values is : ['No' 'Steady' 'Down' 'Up']\n"
          ]
        },
        {
          "output_type": "display_data",
          "data": {
            "text/plain": [
              "None"
            ]
          },
          "metadata": {}
        },
        {
          "output_type": "stream",
          "name": "stdout",
          "text": [
            "(column name : acetohexamide and unique values is : ['No' 'Steady']\n"
          ]
        },
        {
          "output_type": "display_data",
          "data": {
            "text/plain": [
              "None"
            ]
          },
          "metadata": {}
        },
        {
          "output_type": "stream",
          "name": "stdout",
          "text": [
            "(column name : glipizide and unique values is : ['No' 'Steady' 'Up' 'Down']\n"
          ]
        },
        {
          "output_type": "display_data",
          "data": {
            "text/plain": [
              "None"
            ]
          },
          "metadata": {}
        },
        {
          "output_type": "stream",
          "name": "stdout",
          "text": [
            "(column name : glyburide and unique values is : ['No' 'Steady' 'Up' 'Down']\n"
          ]
        },
        {
          "output_type": "display_data",
          "data": {
            "text/plain": [
              "None"
            ]
          },
          "metadata": {}
        },
        {
          "output_type": "stream",
          "name": "stdout",
          "text": [
            "(column name : tolbutamide and unique values is : ['No' 'Steady']\n"
          ]
        },
        {
          "output_type": "display_data",
          "data": {
            "text/plain": [
              "None"
            ]
          },
          "metadata": {}
        },
        {
          "output_type": "stream",
          "name": "stdout",
          "text": [
            "(column name : pioglitazone and unique values is : ['No' 'Steady' 'Up' 'Down']\n"
          ]
        },
        {
          "output_type": "display_data",
          "data": {
            "text/plain": [
              "None"
            ]
          },
          "metadata": {}
        },
        {
          "output_type": "stream",
          "name": "stdout",
          "text": [
            "(column name : rosiglitazone and unique values is : ['No' 'Steady' 'Up' 'Down']\n"
          ]
        },
        {
          "output_type": "display_data",
          "data": {
            "text/plain": [
              "None"
            ]
          },
          "metadata": {}
        },
        {
          "output_type": "stream",
          "name": "stdout",
          "text": [
            "(column name : acarbose and unique values is : ['No' 'Steady' 'Up' 'Down']\n"
          ]
        },
        {
          "output_type": "display_data",
          "data": {
            "text/plain": [
              "None"
            ]
          },
          "metadata": {}
        },
        {
          "output_type": "stream",
          "name": "stdout",
          "text": [
            "(column name : miglitol and unique values is : ['No' 'Steady' 'Down' 'Up']\n"
          ]
        },
        {
          "output_type": "display_data",
          "data": {
            "text/plain": [
              "None"
            ]
          },
          "metadata": {}
        },
        {
          "output_type": "stream",
          "name": "stdout",
          "text": [
            "(column name : troglitazone and unique values is : ['No' 'Steady']\n"
          ]
        },
        {
          "output_type": "display_data",
          "data": {
            "text/plain": [
              "None"
            ]
          },
          "metadata": {}
        },
        {
          "output_type": "stream",
          "name": "stdout",
          "text": [
            "(column name : tolazamide and unique values is : ['No' 'Steady' 'Up']\n"
          ]
        },
        {
          "output_type": "display_data",
          "data": {
            "text/plain": [
              "None"
            ]
          },
          "metadata": {}
        },
        {
          "output_type": "stream",
          "name": "stdout",
          "text": [
            "(column name : examide and unique values is : ['No']\n"
          ]
        },
        {
          "output_type": "display_data",
          "data": {
            "text/plain": [
              "None"
            ]
          },
          "metadata": {}
        },
        {
          "output_type": "stream",
          "name": "stdout",
          "text": [
            "(column name : citoglipton and unique values is : ['No']\n"
          ]
        },
        {
          "output_type": "display_data",
          "data": {
            "text/plain": [
              "None"
            ]
          },
          "metadata": {}
        },
        {
          "output_type": "stream",
          "name": "stdout",
          "text": [
            "(column name : insulin and unique values is : ['No' 'Up' 'Steady' 'Down']\n"
          ]
        },
        {
          "output_type": "display_data",
          "data": {
            "text/plain": [
              "None"
            ]
          },
          "metadata": {}
        },
        {
          "output_type": "stream",
          "name": "stdout",
          "text": [
            "(column name : glyburide-metformin and unique values is : ['No' 'Steady' 'Down' 'Up']\n"
          ]
        },
        {
          "output_type": "display_data",
          "data": {
            "text/plain": [
              "None"
            ]
          },
          "metadata": {}
        },
        {
          "output_type": "stream",
          "name": "stdout",
          "text": [
            "(column name : glipizide-metformin and unique values is : ['No' 'Steady']\n"
          ]
        },
        {
          "output_type": "display_data",
          "data": {
            "text/plain": [
              "None"
            ]
          },
          "metadata": {}
        },
        {
          "output_type": "stream",
          "name": "stdout",
          "text": [
            "(column name : glimepiride-pioglitazone and unique values is : ['No' 'Steady']\n"
          ]
        },
        {
          "output_type": "display_data",
          "data": {
            "text/plain": [
              "None"
            ]
          },
          "metadata": {}
        },
        {
          "output_type": "stream",
          "name": "stdout",
          "text": [
            "(column name : metformin-rosiglitazone and unique values is : ['No' 'Steady']\n"
          ]
        },
        {
          "output_type": "display_data",
          "data": {
            "text/plain": [
              "None"
            ]
          },
          "metadata": {}
        },
        {
          "output_type": "stream",
          "name": "stdout",
          "text": [
            "(column name : metformin-pioglitazone and unique values is : ['No' 'Steady']\n"
          ]
        },
        {
          "output_type": "display_data",
          "data": {
            "text/plain": [
              "None"
            ]
          },
          "metadata": {}
        },
        {
          "output_type": "stream",
          "name": "stdout",
          "text": [
            "(column name : change and unique values is : ['No' 'Ch']\n"
          ]
        },
        {
          "output_type": "display_data",
          "data": {
            "text/plain": [
              "None"
            ]
          },
          "metadata": {}
        },
        {
          "output_type": "stream",
          "name": "stdout",
          "text": [
            "(column name : diabetesMed and unique values is : ['No' 'Yes']\n"
          ]
        },
        {
          "output_type": "display_data",
          "data": {
            "text/plain": [
              "None"
            ]
          },
          "metadata": {}
        }
      ],
      "source": [
        "for row in X[cat_cols].columns:\n",
        "  display(print(f'(column name : {row} and unique values is :',X[cat_cols][row].unique()))"
      ]
    },
    {
      "cell_type": "markdown",
      "metadata": {
        "id": "XtT2jBIcs42y"
      },
      "source": [
        "#nan values handle"
      ]
    },
    {
      "cell_type": "code",
      "execution_count": 29,
      "metadata": {
        "colab": {
          "base_uri": "https://localhost:8080/",
          "height": 575
        },
        "id": "ynF981xlYJDF",
        "outputId": "11261ade-0e7a-482c-886c-7430bd657904"
      },
      "outputs": [
        {
          "output_type": "execute_result",
          "data": {
            "text/plain": [
              "<Axes: >"
            ]
          },
          "metadata": {},
          "execution_count": 29
        },
        {
          "output_type": "display_data",
          "data": {
            "text/plain": [
              "<Figure size 600x600 with 2 Axes>"
            ],
            "image/png": "[encoded data removed]"
          },
          "metadata": {}
        }
      ],
      "source": [
        "\n",
        "#nan_values oh categorical cols\n",
        "plt.figure(figsize=(6,6))\n",
        "sns.heatmap(X[cat_cols].isna().transpose())"
      ]
    },
    {
      "cell_type": "markdown",
      "metadata": {
        "id": "V4ZNXPaFs7-X"
      },
      "source": [
        "drop thershold -0.8 nan values"
      ]
    },
    {
      "cell_type": "code",
      "execution_count": 30,
      "metadata": {
        "colab": {
          "base_uri": "https://localhost:8080/",
          "height": 34
        },
        "id": "8c3KVg2_i1sd",
        "outputId": "8be5f481-d36f-4bcc-b453-7086525d838c"
      },
      "outputs": [
        {
          "output_type": "display_data",
          "data": {
            "text/plain": [
              "Index(['weight', 'max_glu_serum', 'A1Cresult'], dtype='object')"
            ]
          },
          "metadata": {}
        }
      ],
      "source": [
        "threshold = 0.8  # 80% threshold\n",
        "missing_ratio = X[cat_cols].isnull().mean()  # Calculate missing value percentage\n",
        "cols_to_drop = missing_ratio[missing_ratio > threshold].index  # Select columns exceeding threshold\n",
        "display(cols_to_drop)\n",
        "\n"
      ]
    },
    {
      "cell_type": "code",
      "execution_count": 31,
      "metadata": {
        "id": "6LFZFoWIjR2N"
      },
      "outputs": [],
      "source": [
        "X.drop(columns=cols_to_drop,\n",
        "        inplace=True)"
      ]
    },
    {
      "cell_type": "code",
      "execution_count": 32,
      "metadata": {
        "id": "bkCojHMFjj35"
      },
      "outputs": [],
      "source": [
        "cat_cols = [col for col in cat_cols if col not in cols_to_drop]"
      ]
    },
    {
      "cell_type": "code",
      "execution_count": 33,
      "metadata": {
        "colab": {
          "base_uri": "https://localhost:8080/",
          "height": 52
        },
        "id": "lValTbYplgs9",
        "outputId": "5e309916-8b0c-4173-a896-2f8d0df4d0e8"
      },
      "outputs": [
        {
          "output_type": "display_data",
          "data": {
            "text/plain": [
              "(101766, 39)"
            ]
          },
          "metadata": {}
        },
        {
          "output_type": "display_data",
          "data": {
            "text/plain": [
              "33"
            ]
          },
          "metadata": {}
        }
      ],
      "source": [
        "display(X.shape)\n",
        "display(len(cat_cols))"
      ]
    },
    {
      "cell_type": "code",
      "execution_count": 34,
      "metadata": {
        "id": "wI9w4_OtejS9"
      },
      "outputs": [],
      "source": [
        "age_id = {'[0-10)':5,\n",
        "          '[10-20)':15,\n",
        "          '[20-30)':25,\n",
        "          '[30-40)':35,\n",
        "          '[40-50)':45,\n",
        "          '[50-60)':55,\n",
        "          '[60-70)':65,\n",
        "          '[70-80)':75,\n",
        "          '[80-90)':85,\n",
        "          '[90-100)':95}\n",
        "X['age'] = X.age.replace(age_id).astype('int')"
      ]
    },
    {
      "cell_type": "code",
      "source": [
        "X.info()"
      ],
      "metadata": {
        "colab": {
          "base_uri": "https://localhost:8080/"
        },
        "id": "txQDaCF0W2iM",
        "outputId": "2add44ac-d530-4332-8f78-53040a80a06e"
      },
      "execution_count": 35,
      "outputs": [
        {
          "output_type": "stream",
          "name": "stdout",
          "text": [
            "<class 'pandas.core.frame.DataFrame'>\n",
            "RangeIndex: 101766 entries, 0 to 101765\n",
            "Data columns (total 39 columns):\n",
            " #   Column                    Non-Null Count   Dtype \n",
            "---  ------                    --------------   ----- \n",
            " 0   race                      99493 non-null   object\n",
            " 1   gender                    101766 non-null  object\n",
            " 2   age                       101766 non-null  int64 \n",
            " 3   time_in_hospital          101766 non-null  int64 \n",
            " 4   payer_code                61510 non-null   object\n",
            " 5   medical_specialty         51817 non-null   object\n",
            " 6   num_lab_procedures        101766 non-null  int64 \n",
            " 7   num_procedures            101766 non-null  int64 \n",
            " 8   num_medications           101766 non-null  int64 \n",
            " 9   diag_1                    101745 non-null  object\n",
            " 10  diag_2                    101408 non-null  object\n",
            " 11  diag_3                    100343 non-null  object\n",
            " 12  number_diagnoses          101766 non-null  int64 \n",
            " 13  metformin                 101766 non-null  object\n",
            " 14  repaglinide               101766 non-null  object\n",
            " 15  nateglinide               101766 non-null  object\n",
            " 16  chlorpropamide            101766 non-null  object\n",
            " 17  glimepiride               101766 non-null  object\n",
            " 18  acetohexamide             101766 non-null  object\n",
            " 19  glipizide                 101766 non-null  object\n",
            " 20  glyburide                 101766 non-null  object\n",
            " 21  tolbutamide               101766 non-null  object\n",
            " 22  pioglitazone              101766 non-null  object\n",
            " 23  rosiglitazone             101766 non-null  object\n",
            " 24  acarbose                  101766 non-null  object\n",
            " 25  miglitol                  101766 non-null  object\n",
            " 26  troglitazone              101766 non-null  object\n",
            " 27  tolazamide                101766 non-null  object\n",
            " 28  examide                   101766 non-null  object\n",
            " 29  citoglipton               101766 non-null  object\n",
            " 30  insulin                   101766 non-null  object\n",
            " 31  glyburide-metformin       101766 non-null  object\n",
            " 32  glipizide-metformin       101766 non-null  object\n",
            " 33  glimepiride-pioglitazone  101766 non-null  object\n",
            " 34  metformin-rosiglitazone   101766 non-null  object\n",
            " 35  metformin-pioglitazone    101766 non-null  object\n",
            " 36  change                    101766 non-null  object\n",
            " 37  diabetesMed               101766 non-null  object\n",
            " 38  new_feature               101766 non-null  int64 \n",
            "dtypes: int64(7), object(32)\n",
            "memory usage: 30.3+ MB\n"
          ]
        }
      ]
    },
    {
      "cell_type": "code",
      "execution_count": 36,
      "metadata": {
        "id": "xay78PMmBNlY"
      },
      "outputs": [],
      "source": [
        "# Get the top 10 most common values\n",
        "#top_10_values =X['medical_specialty'].value_counts().nlargest(10).index\n",
        "#X.loc[~df.medical_specialty.isin(top_10),'medical_specialty']= 'Other'"
      ]
    },
    {
      "cell_type": "code",
      "execution_count": 37,
      "metadata": {
        "colab": {
          "base_uri": "https://localhost:8080/"
        },
        "id": "eS2zk49_knmI",
        "outputId": "efffe704-f53a-4626-dba6-39725c7f318f"
      },
      "outputs": [
        {
          "output_type": "stream",
          "name": "stdout",
          "text": [
            "medical_specialty\n",
            "Other                         57418\n",
            "InternalMedicine              14635\n",
            "Emergency/Trauma               7565\n",
            "Family/GeneralPractice         7440\n",
            "Cardiology                     5352\n",
            "Surgery-General                3099\n",
            "Nephrology                     1613\n",
            "Orthopedics                    1400\n",
            "Orthopedics-Reconstructive     1233\n",
            "Radiologist                    1140\n",
            "Pulmonology                     871\n",
            "Name: count, dtype: int64\n",
            "diag_1\n",
            "Other    65923\n",
            "428       6862\n",
            "414       6581\n",
            "786       4016\n",
            "410       3614\n",
            "486       3508\n",
            "427       2766\n",
            "491       2275\n",
            "715       2151\n",
            "682       2042\n",
            "434       2028\n",
            "Name: count, dtype: int64\n",
            "diag_2\n",
            "Other    58877\n",
            "276       6752\n",
            "428       6662\n",
            "250       6071\n",
            "427       5036\n",
            "401       3736\n",
            "496       3305\n",
            "599       3288\n",
            "403       2823\n",
            "414       2650\n",
            "411       2566\n",
            "Name: count, dtype: int64\n",
            "diag_3\n",
            "Other    55628\n",
            "250      11555\n",
            "401       8289\n",
            "276       5175\n",
            "428       4577\n",
            "427       3955\n",
            "414       3664\n",
            "496       2605\n",
            "403       2357\n",
            "585       1992\n",
            "272       1969\n",
            "Name: count, dtype: int64\n"
          ]
        }
      ],
      "source": [
        "# Get the top 10 most common values\n",
        "top_10_values =X['medical_specialty'].value_counts().nlargest(10).index\n",
        "# Replace all other values with \"Other\"\n",
        "X['medical_specialty'] = X['medical_specialty'].apply(lambda x: x if x in top_10_values else 'Other')\n",
        "# Check the updated value counts\n",
        "print(X['medical_specialty'].value_counts())\n",
        "\n",
        "# Get the top 10 most common values\n",
        "top_10_values =X['diag_1'].value_counts().nlargest(10).index\n",
        "# Replace all other values with \"Other\"\n",
        "X['diag_1'] = X['diag_1'].apply(lambda x: x if x in top_10_values else 'Other')\n",
        "# Check the updated value counts\n",
        "print(X['diag_1'].value_counts())\n",
        "\n",
        "\n",
        "# Get the top 10 most common values\n",
        "top_10_values =X['diag_2'].value_counts().nlargest(10).index\n",
        "# Replace all other values with \"Other\"\n",
        "X['diag_2'] = X['diag_2'].apply(lambda x: x if x in top_10_values else 'Other')\n",
        "# Check the updated value counts\n",
        "print(X['diag_2'].value_counts())\n",
        "\n",
        "# Get the top 10 most common values\n",
        "top_10_values =X['diag_3'].value_counts().nlargest(10).index\n",
        "# Replace all other values with \"Other\"\n",
        "X['diag_3'] = X['diag_3'].apply(lambda x: x if x in top_10_values else 'Other')\n",
        "# Check the updated value counts\n",
        "print(X['diag_3'].value_counts())"
      ]
    },
    {
      "cell_type": "code",
      "execution_count": 38,
      "metadata": {
        "id": "giY-YX7bnqbs"
      },
      "outputs": [],
      "source": [
        "cols=[\"examide\" ,\"citoglipton\"]\n",
        "\n",
        "X.drop(columns=cols,\n",
        "        inplace=True)"
      ]
    },
    {
      "cell_type": "code",
      "execution_count": 39,
      "metadata": {
        "colab": {
          "base_uri": "https://localhost:8080/",
          "height": 34
        },
        "id": "zB-1vi8YoTVr",
        "outputId": "88edf41f-dbaf-4154-ac46-714ae9f5a3a1"
      },
      "outputs": [
        {
          "output_type": "display_data",
          "data": {
            "text/plain": [
              "(101766, 37)"
            ]
          },
          "metadata": {}
        }
      ],
      "source": [
        "cat_cols = [col for col in cat_cols if col not in cols]\n",
        "display(X.shape)"
      ]
    },
    {
      "cell_type": "code",
      "execution_count": 40,
      "metadata": {
        "colab": {
          "base_uri": "https://localhost:8080/",
          "height": 34
        },
        "id": "gLW8e77orwUC",
        "outputId": "a880580b-5f0d-46ec-e6b2-0966b9c5bf22"
      },
      "outputs": [
        {
          "output_type": "display_data",
          "data": {
            "text/plain": [
              "31"
            ]
          },
          "metadata": {}
        }
      ],
      "source": [
        "display(len(cat_cols))"
      ]
    },
    {
      "cell_type": "markdown",
      "metadata": {
        "id": "XM7Qpuusbajf"
      },
      "source": [
        "#visualization"
      ]
    },
    {
      "cell_type": "code",
      "execution_count": 41,
      "metadata": {
        "colab": {
          "base_uri": "https://localhost:8080/",
          "height": 620
        },
        "id": "tKCJt1v0bYaT",
        "outputId": "3c8af259-8d09-4bab-9aae-c557861ce7ed"
      },
      "outputs": [
        {
          "output_type": "display_data",
          "data": {
            "text/plain": [
              "<Figure size 640x480 with 1 Axes>"
            ],
            "image/png": "[encoded data removed]"
          },
          "metadata": {}
        }
      ],
      "source": [
        "ax = sns.barplot(x=X['race'].value_counts().index,\n",
        "                 y=X['race'].value_counts())\n",
        "plt.xlabel('Race', size = 12)\n",
        "plt.xticks(rotation=90, size = 12)\n",
        "plt.ylabel('Count', size = 12)\n",
        "plt.title('Distribution of Race of Patients \\n', size = 12)\n",
        "plt.show()"
      ]
    },
    {
      "cell_type": "code",
      "execution_count": 42,
      "metadata": {
        "colab": {
          "base_uri": "https://localhost:8080/",
          "height": 621
        },
        "id": "4l26rYZwbqVD",
        "outputId": "7452bc6d-1507-4915-c341-2b360607e434"
      },
      "outputs": [
        {
          "output_type": "display_data",
          "data": {
            "text/plain": [
              "<Figure size 640x480 with 1 Axes>"
            ],
            "image/png": "[encoded data removed]"
          },
          "metadata": {}
        }
      ],
      "source": [
        "ax = sns.countplot(x='gender',   data= X)\n",
        "plt.xlabel('Gender', size = 12)\n",
        "plt.xticks(rotation=90, size = 12)\n",
        "plt.ylabel('Count', size = 12)\n",
        "plt.title('Gender Distribution \\n', size = 12)\n",
        "plt.show()"
      ]
    },
    {
      "cell_type": "markdown",
      "metadata": {
        "id": "dHD0l-FmtFnB"
      },
      "source": [
        "drop index"
      ]
    },
    {
      "cell_type": "code",
      "execution_count": 43,
      "metadata": {
        "colab": {
          "base_uri": "https://localhost:8080/",
          "height": 210
        },
        "id": "H5_ZtwcgfdQ5",
        "outputId": "e99f9696-301f-4e59-8008-083b7d735fae"
      },
      "outputs": [
        {
          "output_type": "execute_result",
          "data": {
            "text/plain": [
              "        race           gender  age  time_in_hospital payer_code  \\\n",
              "30506  Other  Unknown/Invalid   75                 1        NaN   \n",
              "75551    NaN  Unknown/Invalid   65                 1         CP   \n",
              "82573    NaN  Unknown/Invalid   75                 8         CP   \n",
              "\n",
              "      medical_specialty  num_lab_procedures  num_procedures  num_medications  \\\n",
              "30506        Cardiology                   5               5               22   \n",
              "75551             Other                  38               1                6   \n",
              "82573             Other                  59               2               21   \n",
              "\n",
              "      diag_1  ... tolazamide insulin  glyburide-metformin glipizide-metformin  \\\n",
              "30506    414  ...         No      No                   No                  No   \n",
              "75551  Other  ...         No      No                   No                  No   \n",
              "82573  Other  ...         No      No                   No                  No   \n",
              "\n",
              "      glimepiride-pioglitazone metformin-rosiglitazone metformin-pioglitazone  \\\n",
              "30506                       No                      No                     No   \n",
              "75551                       No                      No                     No   \n",
              "82573                       No                      No                     No   \n",
              "\n",
              "      change diabetesMed new_feature  \n",
              "30506     Ch         Yes           0  \n",
              "75551     No          No           0  \n",
              "82573     Ch         Yes           0  \n",
              "\n",
              "[3 rows x 37 columns]"
            ],
            "text/html": [
              "\n",
              "  <div id=\"df-3e326704-bba2-41a2-88c5-ebd01a7ee02b\" class=\"colab-df-container\">\n",
              "    <div>\n",
              "<style scoped>\n",
              "    .dataframe tbody tr th:only-of-type {\n",
              "        vertical-align: middle;\n",
              "    }\n",
              "\n",
              "    .dataframe tbody tr th {\n",
              "        vertical-align: top;\n",
              "    }\n",
              "\n",
              "    .dataframe thead th {\n",
              "        text-align: right;\n",
              "    }\n",
              "</style>\n",
              "<table border=\"1\" class=\"dataframe\">\n",
              "  <thead>\n",
              "    <tr style=\"text-align: right;\">\n",
              "      <th></th>\n",
              "      <th>race</th>\n",
              "      <th>gender</th>\n",
              "      <th>age</th>\n",
              "      <th>time_in_hospital</th>\n",
              "      <th>payer_code</th>\n",
              "      <th>medical_specialty</th>\n",
              "      <th>num_lab_procedures</th>\n",
              "      <th>num_procedures</th>\n",
              "      <th>num_medications</th>\n",
              "      <th>diag_1</th>\n",
              "      <th>...</th>\n",
              "      <th>tolazamide</th>\n",
              "      <th>insulin</th>\n",
              "      <th>glyburide-metformin</th>\n",
              "      <th>glipizide-metformin</th>\n",
              "      <th>glimepiride-pioglitazone</th>\n",
              "      <th>metformin-rosiglitazone</th>\n",
              "      <th>metformin-pioglitazone</th>\n",
              "      <th>change</th>\n",
              "      <th>diabetesMed</th>\n",
              "      <th>new_feature</th>\n",
              "    </tr>\n",
              "  </thead>\n",
              "  <tbody>\n",
              "    <tr>\n",
              "      <th>30506</th>\n",
              "      <td>Other</td>\n",
              "      <td>Unknown/Invalid</td>\n",
              "      <td>75</td>\n",
              "      <td>1</td>\n",
              "      <td>NaN</td>\n",
              "      <td>Cardiology</td>\n",
              "      <td>5</td>\n",
              "      <td>5</td>\n",
              "      <td>22</td>\n",
              "      <td>414</td>\n",
              "      <td>...</td>\n",
              "      <td>No</td>\n",
              "      <td>No</td>\n",
              "      <td>No</td>\n",
              "      <td>No</td>\n",
              "      <td>No</td>\n",
              "      <td>No</td>\n",
              "      <td>No</td>\n",
              "      <td>Ch</td>\n",
              "      <td>Yes</td>\n",
              "      <td>0</td>\n",
              "    </tr>\n",
              "    <tr>\n",
              "      <th>75551</th>\n",
              "      <td>NaN</td>\n",
              "      <td>Unknown/Invalid</td>\n",
              "      <td>65</td>\n",
              "      <td>1</td>\n",
              "      <td>CP</td>\n",
              "      <td>Other</td>\n",
              "      <td>38</td>\n",
              "      <td>1</td>\n",
              "      <td>6</td>\n",
              "      <td>Other</td>\n",
              "      <td>...</td>\n",
              "      <td>No</td>\n",
              "      <td>No</td>\n",
              "      <td>No</td>\n",
              "      <td>No</td>\n",
              "      <td>No</td>\n",
              "      <td>No</td>\n",
              "      <td>No</td>\n",
              "      <td>No</td>\n",
              "      <td>No</td>\n",
              "      <td>0</td>\n",
              "    </tr>\n",
              "    <tr>\n",
              "      <th>82573</th>\n",
              "      <td>NaN</td>\n",
              "      <td>Unknown/Invalid</td>\n",
              "      <td>75</td>\n",
              "      <td>8</td>\n",
              "      <td>CP</td>\n",
              "      <td>Other</td>\n",
              "      <td>59</td>\n",
              "      <td>2</td>\n",
              "      <td>21</td>\n",
              "      <td>Other</td>\n",
              "      <td>...</td>\n",
              "      <td>No</td>\n",
              "      <td>No</td>\n",
              "      <td>No</td>\n",
              "      <td>No</td>\n",
              "      <td>No</td>\n",
              "      <td>No</td>\n",
              "      <td>No</td>\n",
              "      <td>Ch</td>\n",
              "      <td>Yes</td>\n",
              "      <td>0</td>\n",
              "    </tr>\n",
              "  </tbody>\n",
              "</table>\n",
              "<p>3 rows × 37 columns</p>\n",
              "</div>\n",
              "    <div class=\"colab-df-buttons\">\n",
              "\n",
              "  <div class=\"colab-df-container\">\n",
              "    <button class=\"colab-df-convert\" onclick=\"convertToInteractive('df-3e326704-bba2-41a2-88c5-ebd01a7ee02b')\"\n",
              "            title=\"Convert this dataframe to an interactive table.\"\n",
              "            style=\"display:none;\">\n",
              "\n",
              "  <svg xmlns=\"http://www.w3.org/2000/svg\" height=\"24px\" viewBox=\"0 -960 960 960\">\n",
              "    <path d=\"M120-120v-720h720v720H120Zm60-500h600v-160H180v160Zm220 220h160v-160H400v160Zm0 220h160v-160H400v160ZM180-400h160v-160H180v160Zm440 0h160v-160H620v160ZM180-180h160v-160H180v160Zm440 0h160v-160H620v160Z\"/>\n",
              "  </svg>\n",
              "    </button>\n",
              "\n",
              "  <style>\n",
              "    .colab-df-container {\n",
              "      display:flex;\n",
              "      gap: 12px;\n",
              "    }\n",
              "\n",
              "    .colab-df-convert {\n",
              "      background-color: #E8F0FE;\n",
              "      border: none;\n",
              "      border-radius: 50%;\n",
              "      cursor: pointer;\n",
              "      display: none;\n",
              "      fill: #1967D2;\n",
              "      height: 32px;\n",
              "      padding: 0 0 0 0;\n",
              "      width: 32px;\n",
              "    }\n",
              "\n",
              "    .colab-df-convert:hover {\n",
              "      background-color: #E2EBFA;\n",
              "      box-shadow: 0px 1px 2px rgba(60, 64, 67, 0.3), 0px 1px 3px 1px rgba(60, 64, 67, 0.15);\n",
              "      fill: #174EA6;\n",
              "    }\n",
              "\n",
              "    .colab-df-buttons div {\n",
              "      margin-bottom: 4px;\n",
              "    }\n",
              "\n",
              "    [theme=dark] .colab-df-convert {\n",
              "      background-color: #3B4455;\n",
              "      fill: #D2E3FC;\n",
              "    }\n",
              "\n",
              "    [theme=dark] .colab-df-convert:hover {\n",
              "      background-color: #434B5C;\n",
              "      box-shadow: 0px 1px 3px 1px rgba(0, 0, 0, 0.15);\n",
              "      filter: drop-shadow(0px 1px 2px rgba(0, 0, 0, 0.3));\n",
              "      fill: #FFFFFF;\n",
              "    }\n",
              "  </style>\n",
              "\n",
              "    <script>\n",
              "      const buttonEl =\n",
              "        document.querySelector('#df-3e326704-bba2-41a2-88c5-ebd01a7ee02b button.colab-df-convert');\n",
              "      buttonEl.style.display =\n",
              "        google.colab.kernel.accessAllowed ? 'block' : 'none';\n",
              "\n",
              "      async function convertToInteractive(key) {\n",
              "        const element = document.querySelector('#df-3e326704-bba2-41a2-88c5-ebd01a7ee02b');\n",
              "        const dataTable =\n",
              "          await google.colab.kernel.invokeFunction('convertToInteractive',\n",
              "                                                    [key], {});\n",
              "        if (!dataTable) return;\n",
              "\n",
              "        const docLinkHtml = 'Like what you see? Visit the ' +\n",
              "          '<a target=\"_blank\" href=https://colab.research.google.com/notebooks/data_table.ipynb>data table notebook</a>'\n",
              "          + ' to learn more about interactive tables.';\n",
              "        element.innerHTML = '';\n",
              "        dataTable['output_type'] = 'display_data';\n",
              "        await google.colab.output.renderOutput(dataTable, element);\n",
              "        const docLink = document.createElement('div');\n",
              "        docLink.innerHTML = docLinkHtml;\n",
              "        element.appendChild(docLink);\n",
              "      }\n",
              "    </script>\n",
              "  </div>\n",
              "\n",
              "\n",
              "<div id=\"df-a224d905-7d53-47d6-8b0d-db9f19f5f42c\">\n",
              "  <button class=\"colab-df-quickchart\" onclick=\"quickchart('df-a224d905-7d53-47d6-8b0d-db9f19f5f42c')\"\n",
              "            title=\"Suggest charts\"\n",
              "            style=\"display:none;\">\n",
              "\n",
              "<svg xmlns=\"http://www.w3.org/2000/svg\" height=\"24px\"viewBox=\"0 0 24 24\"\n",
              "     width=\"24px\">\n",
              "    <g>\n",
              "        <path d=\"M19 3H5c-1.1 0-2 .9-2 2v14c0 1.1.9 2 2 2h14c1.1 0 2-.9 2-2V5c0-1.1-.9-2-2-2zM9 17H7v-7h2v7zm4 0h-2V7h2v10zm4 0h-2v-4h2v4z\"/>\n",
              "    </g>\n",
              "</svg>\n",
              "  </button>\n",
              "\n",
              "<style>\n",
              "  .colab-df-quickchart {\n",
              "      --bg-color: #E8F0FE;\n",
              "      --fill-color: #1967D2;\n",
              "      --hover-bg-color: #E2EBFA;\n",
              "      --hover-fill-color: #174EA6;\n",
              "      --disabled-fill-color: #AAA;\n",
              "      --disabled-bg-color: #DDD;\n",
              "  }\n",
              "\n",
              "  [theme=dark] .colab-df-quickchart {\n",
              "      --bg-color: #3B4455;\n",
              "      --fill-color: #D2E3FC;\n",
              "      --hover-bg-color: #434B5C;\n",
              "      --hover-fill-color: #FFFFFF;\n",
              "      --disabled-bg-color: #3B4455;\n",
              "      --disabled-fill-color: #666;\n",
              "  }\n",
              "\n",
              "  .colab-df-quickchart {\n",
              "    background-color: var(--bg-color);\n",
              "    border: none;\n",
              "    border-radius: 50%;\n",
              "    cursor: pointer;\n",
              "    display: none;\n",
              "    fill: var(--fill-color);\n",
              "    height: 32px;\n",
              "    padding: 0;\n",
              "    width: 32px;\n",
              "  }\n",
              "\n",
              "  .colab-df-quickchart:hover {\n",
              "    background-color: var(--hover-bg-color);\n",
              "    box-shadow: 0 1px 2px rgba(60, 64, 67, 0.3), 0 1px 3px 1px rgba(60, 64, 67, 0.15);\n",
              "    fill: var(--button-hover-fill-color);\n",
              "  }\n",
              "\n",
              "  .colab-df-quickchart-complete:disabled,\n",
              "  .colab-df-quickchart-complete:disabled:hover {\n",
              "    background-color: var(--disabled-bg-color);\n",
              "    fill: var(--disabled-fill-color);\n",
              "    box-shadow: none;\n",
              "  }\n",
              "\n",
              "  .colab-df-spinner {\n",
              "    border: 2px solid var(--fill-color);\n",
              "    border-color: transparent;\n",
              "    border-bottom-color: var(--fill-color);\n",
              "    animation:\n",
              "      spin 1s steps(1) infinite;\n",
              "  }\n",
              "\n",
              "  @keyframes spin {\n",
              "    0% {\n",
              "      border-color: transparent;\n",
              "      border-bottom-color: var(--fill-color);\n",
              "      border-left-color: var(--fill-color);\n",
              "    }\n",
              "    20% {\n",
              "      border-color: transparent;\n",
              "      border-left-color: var(--fill-color);\n",
              "      border-top-color: var(--fill-color);\n",
              "    }\n",
              "    30% {\n",
              "      border-color: transparent;\n",
              "      border-left-color: var(--fill-color);\n",
              "      border-top-color: var(--fill-color);\n",
              "      border-right-color: var(--fill-color);\n",
              "    }\n",
              "    40% {\n",
              "      border-color: transparent;\n",
              "      border-right-color: var(--fill-color);\n",
              "      border-top-color: var(--fill-color);\n",
              "    }\n",
              "    60% {\n",
              "      border-color: transparent;\n",
              "      border-right-color: var(--fill-color);\n",
              "    }\n",
              "    80% {\n",
              "      border-color: transparent;\n",
              "      border-right-color: var(--fill-color);\n",
              "      border-bottom-color: var(--fill-color);\n",
              "    }\n",
              "    90% {\n",
              "      border-color: transparent;\n",
              "      border-bottom-color: var(--fill-color);\n",
              "    }\n",
              "  }\n",
              "</style>\n",
              "\n",
              "  <script>\n",
              "    async function quickchart(key) {\n",
              "      const quickchartButtonEl =\n",
              "        document.querySelector('#' + key + ' button');\n",
              "      quickchartButtonEl.disabled = true;  // To prevent multiple clicks.\n",
              "      quickchartButtonEl.classList.add('colab-df-spinner');\n",
              "      try {\n",
              "        const charts = await google.colab.kernel.invokeFunction(\n",
              "            'suggestCharts', [key], {});\n",
              "      } catch (error) {\n",
              "        console.error('Error during call to suggestCharts:', error);\n",
              "      }\n",
              "      quickchartButtonEl.classList.remove('colab-df-spinner');\n",
              "      quickchartButtonEl.classList.add('colab-df-quickchart-complete');\n",
              "    }\n",
              "    (() => {\n",
              "      let quickchartButtonEl =\n",
              "        document.querySelector('#df-a224d905-7d53-47d6-8b0d-db9f19f5f42c button');\n",
              "      quickchartButtonEl.style.display =\n",
              "        google.colab.kernel.accessAllowed ? 'block' : 'none';\n",
              "    })();\n",
              "  </script>\n",
              "</div>\n",
              "\n",
              "    </div>\n",
              "  </div>\n"
            ],
            "application/vnd.google.colaboratory.intrinsic+json": {
              "type": "dataframe"
            }
          },
          "metadata": {},
          "execution_count": 43
        }
      ],
      "source": [
        "X[X['gender'] == 'Unknown/Invalid']"
      ]
    },
    {
      "cell_type": "code",
      "execution_count": 44,
      "metadata": {
        "id": "kIKMtLa-fipq"
      },
      "outputs": [],
      "source": [
        "# Drop specific indices from DataFrame Y\n",
        "y.drop([30506, 75551, 82573], inplace=True)\n"
      ]
    },
    {
      "cell_type": "code",
      "execution_count": 45,
      "metadata": {
        "id": "2TSUK7qab7r4"
      },
      "outputs": [],
      "source": [
        "# Drop the \"Unknown/Invalid\" gender of the data.\n",
        "X.drop(X[X['gender'] == 'Unknown/Invalid'].index, inplace = True)"
      ]
    },
    {
      "cell_type": "code",
      "execution_count": 46,
      "metadata": {
        "id": "uaCVQEiFeu_i"
      },
      "outputs": [],
      "source": [
        "# Drop the same rows from Y using the same index\n",
        "#y.drop(y.index[X['gender'] == 'Unknown/Invalid'], inplace=True)\n"
      ]
    },
    {
      "cell_type": "code",
      "execution_count": 47,
      "metadata": {
        "id": "JkdLAi0pcJfc"
      },
      "outputs": [],
      "source": [
        "X.reset_index(inplace = True, drop = True)"
      ]
    },
    {
      "cell_type": "code",
      "execution_count": 48,
      "metadata": {
        "id": "tIO03pwdEnu6"
      },
      "outputs": [],
      "source": [
        "# Adjusting rcParams for global figure properties\n",
        "plt.rcParams['figure.figsize'] = (8, 6)"
      ]
    },
    {
      "cell_type": "code",
      "execution_count": 49,
      "metadata": {
        "colab": {
          "base_uri": "https://localhost:8080/",
          "height": 635
        },
        "id": "hehRtknwcO9V",
        "outputId": "4801499f-2b8b-4bf7-e279-1eb1fb9af19a"
      },
      "outputs": [
        {
          "output_type": "display_data",
          "data": {
            "text/plain": [
              "<Figure size 800x600 with 1 Axes>"
            ],
            "image/png": "[encoded data removed]"
          },
          "metadata": {}
        }
      ],
      "source": [
        "# Concatenate along columns (axis=1)\n",
        "df = pd.concat([X, y], axis=1)\n",
        "ax = sns.countplot(x=\"gender\", hue=\"readmitted\", data=df)\n",
        "plt.xlabel('Gender', size = 12)\n",
        "plt.xticks(rotation=90, size = 12)\n",
        "plt.ylabel('Count', size = 12)\n",
        "plt.title('Gender vs Readmitted \\n', size = 12)\n",
        "plt.show()"
      ]
    },
    {
      "cell_type": "code",
      "execution_count": 50,
      "metadata": {
        "colab": {
          "base_uri": "https://localhost:8080/",
          "height": 612
        },
        "id": "v5ELdus4c7DL",
        "outputId": "01bcd76a-b2e6-45b4-8862-7e96a140ccf7"
      },
      "outputs": [
        {
          "output_type": "display_data",
          "data": {
            "text/plain": [
              "<Figure size 800x600 with 1 Axes>"
            ],
            "image/png": "[encoded data removed]"
          },
          "metadata": {}
        }
      ],
      "source": [
        "ax = sns.countplot(x='age',   data= df)\n",
        "plt.xlabel('Age', size = 12)\n",
        "plt.xticks(rotation=90, size = 12)\n",
        "plt.ylabel('Count', size = 12)\n",
        "plt.title('Age Distribution \\n', size = 12)\n",
        "plt.show()"
      ]
    },
    {
      "cell_type": "code",
      "execution_count": 51,
      "metadata": {
        "colab": {
          "base_uri": "https://localhost:8080/",
          "height": 612
        },
        "id": "eiBJRzSYdDWj",
        "outputId": "8def96b0-4e8e-4479-c621-05eab14464cd"
      },
      "outputs": [
        {
          "output_type": "display_data",
          "data": {
            "text/plain": [
              "<Figure size 800x600 with 1 Axes>"
            ],
            "image/png": "[encoded data removed]"
          },
          "metadata": {}
        }
      ],
      "source": [
        "ax = sns.countplot(x=\"age\", hue=\"readmitted\", data=df)\n",
        "plt.xlabel('Age', size = 12)\n",
        "plt.xticks(rotation=90, size = 12)\n",
        "plt.ylabel('Count', size = 12)\n",
        "plt.title('Age vs Readmitted \\n', size = 12)\n",
        "plt.show()\n"
      ]
    },
    {
      "cell_type": "code",
      "execution_count": 52,
      "metadata": {
        "colab": {
          "base_uri": "https://localhost:8080/",
          "height": 568
        },
        "id": "upT-QHwWdQb1",
        "outputId": "f63543b8-e46e-4377-8f31-7dc04f8686aa"
      },
      "outputs": [
        {
          "output_type": "display_data",
          "data": {
            "text/plain": [
              "<Figure size 604.222x500 with 1 Axes>"
            ],
            "image/png": "[encoded data removed]"
          },
          "metadata": {}
        }
      ],
      "source": [
        "sns.set(rc={'figure.figsize':(18, 8.2)})\n",
        "sns.displot(df, x=\"time_in_hospital\", hue = 'readmitted', kind=\"kde\")\n",
        "plt.title('Relationship between Time in Hospital and Readmission \\n\\n', size  = 14)\n",
        "plt.show()"
      ]
    },
    {
      "cell_type": "markdown",
      "metadata": {
        "id": "Fem7Fe9-pGjf"
      },
      "source": [
        "#Training"
      ]
    },
    {
      "cell_type": "markdown",
      "metadata": {
        "id": "MFZULUSB84YM"
      },
      "source": [
        "For business tasks in classification problems, it is always necessary to select an appropriate probability threshold. By default, scikit-learn uses a threshold of 0.5, but selecting the right threshold is crucial for optimal decision-making. Additionally, we can train different models and fine-tune various parameters to improve performance and achieve better results."
      ]
    },
    {
      "cell_type": "code",
      "source": [
        "from sklearn.preprocessing import LabelEncoder, OneHotEncoder\n",
        "le = LabelEncoder()\n",
        "\n",
        "for i in cat_cols:\n",
        "    X[i] = le.fit_transform(X[i]).astype(\"int\")"
      ],
      "metadata": {
        "id": "OZ37n8nGXogl"
      },
      "execution_count": 53,
      "outputs": []
    },
    {
      "cell_type": "code",
      "source": [
        "\n",
        "num_cols = X.select_dtypes(include=np.number).columns\n",
        "cat_cols = X.columns[X.dtypes == 'object']\n",
        "\n",
        "display(num_cols)\n",
        "\n",
        "print(\"-----\")\n",
        "\n",
        "display(cat_cols)"
      ],
      "metadata": {
        "colab": {
          "base_uri": "https://localhost:8080/",
          "height": 225
        },
        "id": "pIMuOGDFYeme",
        "outputId": "08c09caf-164a-441e-b58c-019c8aaa6946"
      },
      "execution_count": 54,
      "outputs": [
        {
          "output_type": "display_data",
          "data": {
            "text/plain": [
              "Index(['race', 'gender', 'age', 'time_in_hospital', 'payer_code',\n",
              "       'medical_specialty', 'num_lab_procedures', 'num_procedures',\n",
              "       'num_medications', 'diag_1', 'diag_2', 'diag_3', 'number_diagnoses',\n",
              "       'metformin', 'repaglinide', 'nateglinide', 'chlorpropamide',\n",
              "       'glimepiride', 'acetohexamide', 'glipizide', 'glyburide', 'tolbutamide',\n",
              "       'pioglitazone', 'rosiglitazone', 'acarbose', 'miglitol', 'troglitazone',\n",
              "       'tolazamide', 'insulin', 'glyburide-metformin', 'glipizide-metformin',\n",
              "       'glimepiride-pioglitazone', 'metformin-rosiglitazone',\n",
              "       'metformin-pioglitazone', 'change', 'diabetesMed', 'new_feature'],\n",
              "      dtype='object')"
            ]
          },
          "metadata": {}
        },
        {
          "output_type": "stream",
          "name": "stdout",
          "text": [
            "-----\n"
          ]
        },
        {
          "output_type": "display_data",
          "data": {
            "text/plain": [
              "Index([], dtype='object')"
            ]
          },
          "metadata": {}
        }
      ]
    },
    {
      "cell_type": "code",
      "source": [
        "print(f\"We have {len(num_cols)} numeric columns: {', '.join(num_cols)}\")\n",
        "print(f\"And {len(cat_cols)} categorical columns: {', '.join(cat_cols)}\")"
      ],
      "metadata": {
        "colab": {
          "base_uri": "https://localhost:8080/"
        },
        "id": "PhPWCM1PX-r1",
        "outputId": "60fbcc42-b79a-433a-b199-f185fbe22a19"
      },
      "execution_count": 55,
      "outputs": [
        {
          "output_type": "stream",
          "name": "stdout",
          "text": [
            "We have 37 numeric columns: race, gender, age, time_in_hospital, payer_code, medical_specialty, num_lab_procedures, num_procedures, num_medications, diag_1, diag_2, diag_3, number_diagnoses, metformin, repaglinide, nateglinide, chlorpropamide, glimepiride, acetohexamide, glipizide, glyburide, tolbutamide, pioglitazone, rosiglitazone, acarbose, miglitol, troglitazone, tolazamide, insulin, glyburide-metformin, glipizide-metformin, glimepiride-pioglitazone, metformin-rosiglitazone, metformin-pioglitazone, change, diabetesMed, new_feature\n",
            "And 0 categorical columns: \n"
          ]
        }
      ]
    },
    {
      "cell_type": "code",
      "execution_count": 56,
      "metadata": {
        "colab": {
          "base_uri": "https://localhost:8080/"
        },
        "id": "vmES1Ae_vzP0",
        "outputId": "c47a3542-e090-4ef9-91b5-99a23a9190f4"
      },
      "outputs": [
        {
          "output_type": "stream",
          "name": "stdout",
          "text": [
            "Training Features Shape: (81410, 37)\n",
            "Training Labels Shape: (81410, 1)\n",
            "Testing Features Shape: (20353, 37)\n",
            "Testing Labels Shape: (20353, 1)\n"
          ]
        }
      ],
      "source": [
        "X_train,X_val,y_train,y_val= split(X,y)"
      ]
    },
    {
      "cell_type": "code",
      "execution_count": 57,
      "metadata": {
        "id": "j4ODIxXK0lUZ"
      },
      "outputs": [],
      "source": [
        "numerical_pipe = Pipeline([\n",
        "    ('imputer', KNNImputer(n_neighbors=1)),\n",
        "    ('poly', PolynomialFeatures(degree=1)), #include_bias=False\n",
        "    ('scaler', MinMaxScaler())\n",
        "])\n",
        "\n",
        "\n",
        "preprocessors = ColumnTransformer(transformers=[\n",
        "    ('num', numerical_pipe, num_cols),  #\n",
        "])\n",
        "\n",
        "X_train = X_train.reset_index(drop=True)\n",
        "y_train = y_train.reset_index(drop=True)\n",
        "\n",
        "#X_train = preprocessors.fit_transform(X_train, y_train) #for target_encoding\n",
        "X_train = preprocessors.fit_transform(X_train)\n",
        "X_test = preprocessors.transform(X_val)\n"
      ]
    },
    {
      "cell_type": "code",
      "source": [
        "import tensorflow as tf\n",
        "from tensorflow import keras\n",
        "\n",
        "from tensorflow.keras.layers import Dense, Dropout, BatchNormalization, Input, Activation\n",
        "from tensorflow.keras.models import Sequential, load_model\n",
        "from tensorflow.keras.regularizers import l2\n",
        "from tensorflow.keras.optimizers import SGD, RMSprop, Adam\n",
        "from keras.optimizers.schedules import ExponentialDecay\n",
        "from tensorflow.keras.metrics import Precision, Recall\n",
        "from tensorflow.keras.callbacks import EarlyStopping, ModelCheckpoint\n",
        "from tensorflow.keras.layers import ReLU, LeakyReLU, PReLU\n",
        "\n"
      ],
      "metadata": {
        "id": "rlsS1WfH_G4_"
      },
      "execution_count": 61,
      "outputs": []
    },
    {
      "cell_type": "code",
      "source": [
        "from imblearn.over_sampling import SMOTE\n",
        "from sklearn.model_selection import train_test_split\n",
        "\n",
        "# Veri setini böl\n",
        "X_train, X_val, y_train, y_val = train_test_split(X, y, test_size=0.3, random_state=42)\n",
        "\n",
        "# SMOTE uygula\n",
        "smote = SMOTE(random_state=42)\n",
        "X_train_resampled, y_train_resampled = smote.fit_resample(X_train, y_train)\n",
        "\n"
      ],
      "metadata": {
        "id": "Z4HJq_tW-8oy"
      },
      "execution_count": 64,
      "outputs": []
    },
    {
      "cell_type": "code",
      "source": [
        "def prepare_datasets(X_train, X_val, y_train, y_val, batch_size=None):\n",
        "    if batch_size is None:\n",
        "        batch_size = len(X_train)\n",
        "    train_dataset = tf.data.Dataset.from_tensor_slices((X_train, y_train))\n",
        "    train_dataset = train_dataset.shuffle(buffer_size=len(X_train)).batch(batch_size)\n",
        "    val_dataset = tf.data.Dataset.from_tensor_slices((X_val, y_val))\n",
        "    val_dataset = val_dataset.batch(batch_size)\n",
        "    return train_dataset, val_dataset"
      ],
      "metadata": {
        "id": "n7A90txy-l1U"
      },
      "execution_count": 65,
      "outputs": []
    },
    {
      "cell_type": "code",
      "source": [
        "train_ds, val_ds = prepare_datasets(X_train_resampled,\n",
        "                                    X_val,\n",
        "                                    y_train_resampled,\n",
        "                                    y_val, batch_size=32)\n"
      ],
      "metadata": {
        "id": "Q3IrE8aR_rxj"
      },
      "execution_count": 66,
      "outputs": []
    },
    {
      "cell_type": "code",
      "source": [
        "base_model = Sequential([\n",
        "\n",
        "    Input(shape=(train_ds.element_spec[0].shape[1],)),\n",
        "    Dense(50, activation='relu', kernel_regularizer=l2(0.001)),\n",
        "    BatchNormalization(),\n",
        "    Dropout(0.5),\n",
        "    Dense(1, activation='sigmoid')])\n",
        "\n",
        "optimizer = Adam(learning_rate=0.001)\n",
        "\n",
        "base_model.compile(optimizer=optimizer,\n",
        "                   loss=\"binary_crossentropy\",\n",
        "                   metrics=[\"accuracy\", \"precision\", \"recall\", \"auc\"])\n",
        "\n",
        "call_backs = EarlyStopping(monitor='val_auc',\n",
        "                               patience=20,\n",
        "                               verbose=1,\n",
        "                               restore_best_weights=True,\n",
        "                               mode=\"max\")\n",
        "\n",
        "base_model_history = base_model.fit(train_ds,\n",
        "                                    epochs=500,\n",
        "                                    validation_data=val_ds,\n",
        "                                    verbose=1,\n",
        "                                    callbacks=call_backs)"
      ],
      "metadata": {
        "colab": {
          "base_uri": "https://localhost:8080/"
        },
        "id": "QXVpXz3I_Liy",
        "outputId": "a5e86c71-34dd-4383-a4cb-d01cd210ac3c"
      },
      "execution_count": 67,
      "outputs": [
        {
          "output_type": "stream",
          "name": "stdout",
          "text": [
            "Epoch 1/500\n",
            "\u001b[1m3958/3958\u001b[0m \u001b[32m━━━━━━━━━━━━━━━━━━━━\u001b[0m\u001b[37m\u001b[0m \u001b[1m19s\u001b[0m 4ms/step - accuracy: 0.6282 - auc: 0.6725 - loss: 0.6878 - precision: 0.6282 - recall: 0.6316 - val_accuracy: 0.5016 - val_auc: 0.5514 - val_loss: 0.8452 - val_precision: 0.1259 - val_recall: 0.5757\n",
            "Epoch 2/500\n",
            "\u001b[1m3958/3958\u001b[0m \u001b[32m━━━━━━━━━━━━━━━━━━━━\u001b[0m\u001b[37m\u001b[0m \u001b[1m21s\u001b[0m 4ms/step - accuracy: 0.7201 - auc: 0.7827 - loss: 0.5803 - precision: 0.7193 - recall: 0.7257 - val_accuracy: 0.6328 - val_auc: 0.5408 - val_loss: 0.6700 - val_precision: 0.1276 - val_recall: 0.3868\n",
            "Epoch 3/500\n",
            "\u001b[1m3958/3958\u001b[0m \u001b[32m━━━━━━━━━━━━━━━━━━━━\u001b[0m\u001b[37m\u001b[0m \u001b[1m14s\u001b[0m 4ms/step - accuracy: 0.7199 - auc: 0.7860 - loss: 0.5740 - precision: 0.7174 - recall: 0.7240 - val_accuracy: 0.7684 - val_auc: 0.5379 - val_loss: 0.5224 - val_precision: 0.1395 - val_recall: 0.2040\n",
            "Epoch 4/500\n",
            "\u001b[1m3958/3958\u001b[0m \u001b[32m━━━━━━━━━━━━━━━━━━━━\u001b[0m\u001b[37m\u001b[0m \u001b[1m11s\u001b[0m 3ms/step - accuracy: 0.7221 - auc: 0.7861 - loss: 0.5731 - precision: 0.7195 - recall: 0.7291 - val_accuracy: 0.5895 - val_auc: 0.5339 - val_loss: 0.7184 - val_precision: 0.1226 - val_recall: 0.4292\n",
            "Epoch 5/500\n",
            "\u001b[1m3958/3958\u001b[0m \u001b[32m━━━━━━━━━━━━━━━━━━━━\u001b[0m\u001b[37m\u001b[0m \u001b[1m11s\u001b[0m 3ms/step - accuracy: 0.7228 - auc: 0.7861 - loss: 0.5725 - precision: 0.7200 - recall: 0.7319 - val_accuracy: 0.7217 - val_auc: 0.5281 - val_loss: 0.5699 - val_precision: 0.1275 - val_recall: 0.2514\n",
            "Epoch 6/500\n",
            "\u001b[1m3958/3958\u001b[0m \u001b[32m━━━━━━━━━━━━━━━━━━━━\u001b[0m\u001b[37m\u001b[0m \u001b[1m12s\u001b[0m 3ms/step - accuracy: 0.7237 - auc: 0.7884 - loss: 0.5697 - precision: 0.7225 - recall: 0.7279 - val_accuracy: 0.6663 - val_auc: 0.5419 - val_loss: 0.6305 - val_precision: 0.1296 - val_recall: 0.3432\n",
            "Epoch 7/500\n",
            "\u001b[1m3958/3958\u001b[0m \u001b[32m━━━━━━━━━━━━━━━━━━━━\u001b[0m\u001b[37m\u001b[0m \u001b[1m12s\u001b[0m 3ms/step - accuracy: 0.7261 - auc: 0.7900 - loss: 0.5686 - precision: 0.7237 - recall: 0.7308 - val_accuracy: 0.7440 - val_auc: 0.5365 - val_loss: 0.5414 - val_precision: 0.1329 - val_recall: 0.2302\n",
            "Epoch 8/500\n",
            "\u001b[1m3958/3958\u001b[0m \u001b[32m━━━━━━━━━━━━━━━━━━━━\u001b[0m\u001b[37m\u001b[0m \u001b[1m12s\u001b[0m 3ms/step - accuracy: 0.7221 - auc: 0.7875 - loss: 0.5716 - precision: 0.7190 - recall: 0.7268 - val_accuracy: 0.6286 - val_auc: 0.5417 - val_loss: 0.6821 - val_precision: 0.1244 - val_recall: 0.3798\n",
            "Epoch 9/500\n",
            "\u001b[1m3958/3958\u001b[0m \u001b[32m━━━━━━━━━━━━━━━━━━━━\u001b[0m\u001b[37m\u001b[0m \u001b[1m12s\u001b[0m 3ms/step - accuracy: 0.7227 - auc: 0.7871 - loss: 0.5718 - precision: 0.7204 - recall: 0.7247 - val_accuracy: 0.8260 - val_auc: 0.5151 - val_loss: 0.4615 - val_precision: 0.1342 - val_recall: 0.0997\n",
            "Epoch 10/500\n",
            "\u001b[1m3958/3958\u001b[0m \u001b[32m━━━━━━━━━━━━━━━━━━━━\u001b[0m\u001b[37m\u001b[0m \u001b[1m20s\u001b[0m 3ms/step - accuracy: 0.7205 - auc: 0.7853 - loss: 0.5725 - precision: 0.7178 - recall: 0.7267 - val_accuracy: 0.3954 - val_auc: 0.5473 - val_loss: 1.0032 - val_precision: 0.1211 - val_recall: 0.6978\n",
            "Epoch 11/500\n",
            "\u001b[1m3958/3958\u001b[0m \u001b[32m━━━━━━━━━━━━━━━━━━━━\u001b[0m\u001b[37m\u001b[0m \u001b[1m12s\u001b[0m 3ms/step - accuracy: 0.7230 - auc: 0.7880 - loss: 0.5700 - precision: 0.7203 - recall: 0.7314 - val_accuracy: 0.7012 - val_auc: 0.5270 - val_loss: 0.5919 - val_precision: 0.1243 - val_recall: 0.2732\n",
            "Epoch 12/500\n",
            "\u001b[1m3958/3958\u001b[0m \u001b[32m━━━━━━━━━━━━━━━━━━━━\u001b[0m\u001b[37m\u001b[0m \u001b[1m15s\u001b[0m 4ms/step - accuracy: 0.7231 - auc: 0.7851 - loss: 0.5737 - precision: 0.7204 - recall: 0.7318 - val_accuracy: 0.6727 - val_auc: 0.5289 - val_loss: 0.6249 - val_precision: 0.1226 - val_recall: 0.3092\n",
            "Epoch 13/500\n",
            "\u001b[1m3958/3958\u001b[0m \u001b[32m━━━━━━━━━━━━━━━━━━━━\u001b[0m\u001b[37m\u001b[0m \u001b[1m12s\u001b[0m 3ms/step - accuracy: 0.7229 - auc: 0.7857 - loss: 0.5736 - precision: 0.7197 - recall: 0.7275 - val_accuracy: 0.6835 - val_auc: 0.5298 - val_loss: 0.6078 - val_precision: 0.1260 - val_recall: 0.3046\n",
            "Epoch 14/500\n",
            "\u001b[1m3958/3958\u001b[0m \u001b[32m━━━━━━━━━━━━━━━━━━━━\u001b[0m\u001b[37m\u001b[0m \u001b[1m12s\u001b[0m 3ms/step - accuracy: 0.7226 - auc: 0.7860 - loss: 0.5723 - precision: 0.7189 - recall: 0.7322 - val_accuracy: 0.6261 - val_auc: 0.5399 - val_loss: 0.6808 - val_precision: 0.1262 - val_recall: 0.3912\n",
            "Epoch 15/500\n",
            "\u001b[1m3958/3958\u001b[0m \u001b[32m━━━━━━━━━━━━━━━━━━━━\u001b[0m\u001b[37m\u001b[0m \u001b[1m21s\u001b[0m 5ms/step - accuracy: 0.7231 - auc: 0.7874 - loss: 0.5704 - precision: 0.7206 - recall: 0.7258 - val_accuracy: 0.6476 - val_auc: 0.5393 - val_loss: 0.6553 - val_precision: 0.1289 - val_recall: 0.3694\n",
            "Epoch 16/500\n",
            "\u001b[1m3958/3958\u001b[0m \u001b[32m━━━━━━━━━━━━━━━━━━━━\u001b[0m\u001b[37m\u001b[0m \u001b[1m16s\u001b[0m 4ms/step - accuracy: 0.7233 - auc: 0.7882 - loss: 0.5705 - precision: 0.7207 - recall: 0.7276 - val_accuracy: 0.7429 - val_auc: 0.5337 - val_loss: 0.5439 - val_precision: 0.1335 - val_recall: 0.2334\n",
            "Epoch 17/500\n",
            "\u001b[1m3958/3958\u001b[0m \u001b[32m━━━━━━━━━━━━━━━━━━━━\u001b[0m\u001b[37m\u001b[0m \u001b[1m14s\u001b[0m 3ms/step - accuracy: 0.7241 - auc: 0.7868 - loss: 0.5723 - precision: 0.7221 - recall: 0.7250 - val_accuracy: 0.7172 - val_auc: 0.5303 - val_loss: 0.5660 - val_precision: 0.1283 - val_recall: 0.2604\n",
            "Epoch 18/500\n",
            "\u001b[1m3958/3958\u001b[0m \u001b[32m━━━━━━━━━━━━━━━━━━━━\u001b[0m\u001b[37m\u001b[0m \u001b[1m12s\u001b[0m 3ms/step - accuracy: 0.7233 - auc: 0.7875 - loss: 0.5714 - precision: 0.7214 - recall: 0.7265 - val_accuracy: 0.6702 - val_auc: 0.5351 - val_loss: 0.6277 - val_precision: 0.1255 - val_recall: 0.3226\n",
            "Epoch 19/500\n",
            "\u001b[1m3958/3958\u001b[0m \u001b[32m━━━━━━━━━━━━━━━━━━━━\u001b[0m\u001b[37m\u001b[0m \u001b[1m12s\u001b[0m 3ms/step - accuracy: 0.7230 - auc: 0.7877 - loss: 0.5695 - precision: 0.7206 - recall: 0.7259 - val_accuracy: 0.5646 - val_auc: 0.5418 - val_loss: 0.7469 - val_precision: 0.1241 - val_recall: 0.4725\n",
            "Epoch 20/500\n",
            "\u001b[1m3958/3958\u001b[0m \u001b[32m━━━━━━━━━━━━━━━━━━━━\u001b[0m\u001b[37m\u001b[0m \u001b[1m20s\u001b[0m 3ms/step - accuracy: 0.7240 - auc: 0.7892 - loss: 0.5692 - precision: 0.7207 - recall: 0.7298 - val_accuracy: 0.7914 - val_auc: 0.5322 - val_loss: 0.5001 - val_precision: 0.1485 - val_recall: 0.1796\n",
            "Epoch 21/500\n",
            "\u001b[1m3958/3958\u001b[0m \u001b[32m━━━━━━━━━━━━━━━━━━━━\u001b[0m\u001b[37m\u001b[0m \u001b[1m21s\u001b[0m 3ms/step - accuracy: 0.7207 - auc: 0.7849 - loss: 0.5735 - precision: 0.7190 - recall: 0.7248 - val_accuracy: 0.7030 - val_auc: 0.5324 - val_loss: 0.5874 - val_precision: 0.1257 - val_recall: 0.2746\n",
            "Epoch 21: early stopping\n",
            "Restoring model weights from the end of the best epoch: 1.\n"
          ]
        }
      ]
    },
    {
      "cell_type": "code",
      "execution_count": 68,
      "metadata": {
        "id": "VJTB8tnWvmA9",
        "colab": {
          "base_uri": "https://localhost:8080/",
          "height": 394
        },
        "outputId": "e714a3e3-b6b6-4f35-dcb8-a9152f6c989f"
      },
      "outputs": [
        {
          "output_type": "execute_result",
          "data": {
            "text/plain": [
              "           Metric   Value\n",
              "0        accuracy  0.6790\n",
              "1             auc  0.7397\n",
              "2            loss  0.6270\n",
              "3       precision  0.6782\n",
              "4          recall  0.6813\n",
              "5    val_accuracy  0.5016\n",
              "6         val_auc  0.5514\n",
              "7        val_loss  0.8452\n",
              "8   val_precision  0.1259\n",
              "9      val_recall  0.5757\n",
              "10     best_epoch       1"
            ],
            "text/html": [
              "\n",
              "  <div id=\"df-b1ea478b-8990-4037-adf2-bc5ea22d6228\" class=\"colab-df-container\">\n",
              "    <div>\n",
              "<style scoped>\n",
              "    .dataframe tbody tr th:only-of-type {\n",
              "        vertical-align: middle;\n",
              "    }\n",
              "\n",
              "    .dataframe tbody tr th {\n",
              "        vertical-align: top;\n",
              "    }\n",
              "\n",
              "    .dataframe thead th {\n",
              "        text-align: right;\n",
              "    }\n",
              "</style>\n",
              "<table border=\"1\" class=\"dataframe\">\n",
              "  <thead>\n",
              "    <tr style=\"text-align: right;\">\n",
              "      <th></th>\n",
              "      <th>Metric</th>\n",
              "      <th>Value</th>\n",
              "    </tr>\n",
              "  </thead>\n",
              "  <tbody>\n",
              "    <tr>\n",
              "      <th>0</th>\n",
              "      <td>accuracy</td>\n",
              "      <td>0.6790</td>\n",
              "    </tr>\n",
              "    <tr>\n",
              "      <th>1</th>\n",
              "      <td>auc</td>\n",
              "      <td>0.7397</td>\n",
              "    </tr>\n",
              "    <tr>\n",
              "      <th>2</th>\n",
              "      <td>loss</td>\n",
              "      <td>0.6270</td>\n",
              "    </tr>\n",
              "    <tr>\n",
              "      <th>3</th>\n",
              "      <td>precision</td>\n",
              "      <td>0.6782</td>\n",
              "    </tr>\n",
              "    <tr>\n",
              "      <th>4</th>\n",
              "      <td>recall</td>\n",
              "      <td>0.6813</td>\n",
              "    </tr>\n",
              "    <tr>\n",
              "      <th>5</th>\n",
              "      <td>val_accuracy</td>\n",
              "      <td>0.5016</td>\n",
              "    </tr>\n",
              "    <tr>\n",
              "      <th>6</th>\n",
              "      <td>val_auc</td>\n",
              "      <td>0.5514</td>\n",
              "    </tr>\n",
              "    <tr>\n",
              "      <th>7</th>\n",
              "      <td>val_loss</td>\n",
              "      <td>0.8452</td>\n",
              "    </tr>\n",
              "    <tr>\n",
              "      <th>8</th>\n",
              "      <td>val_precision</td>\n",
              "      <td>0.1259</td>\n",
              "    </tr>\n",
              "    <tr>\n",
              "      <th>9</th>\n",
              "      <td>val_recall</td>\n",
              "      <td>0.5757</td>\n",
              "    </tr>\n",
              "    <tr>\n",
              "      <th>10</th>\n",
              "      <td>best_epoch</td>\n",
              "      <td>1</td>\n",
              "    </tr>\n",
              "  </tbody>\n",
              "</table>\n",
              "</div>\n",
              "    <div class=\"colab-df-buttons\">\n",
              "\n",
              "  <div class=\"colab-df-container\">\n",
              "    <button class=\"colab-df-convert\" onclick=\"convertToInteractive('df-b1ea478b-8990-4037-adf2-bc5ea22d6228')\"\n",
              "            title=\"Convert this dataframe to an interactive table.\"\n",
              "            style=\"display:none;\">\n",
              "\n",
              "  <svg xmlns=\"http://www.w3.org/2000/svg\" height=\"24px\" viewBox=\"0 -960 960 960\">\n",
              "    <path d=\"M120-120v-720h720v720H120Zm60-500h600v-160H180v160Zm220 220h160v-160H400v160Zm0 220h160v-160H400v160ZM180-400h160v-160H180v160Zm440 0h160v-160H620v160ZM180-180h160v-160H180v160Zm440 0h160v-160H620v160Z\"/>\n",
              "  </svg>\n",
              "    </button>\n",
              "\n",
              "  <style>\n",
              "    .colab-df-container {\n",
              "      display:flex;\n",
              "      gap: 12px;\n",
              "    }\n",
              "\n",
              "    .colab-df-convert {\n",
              "      background-color: #E8F0FE;\n",
              "      border: none;\n",
              "      border-radius: 50%;\n",
              "      cursor: pointer;\n",
              "      display: none;\n",
              "      fill: #1967D2;\n",
              "      height: 32px;\n",
              "      padding: 0 0 0 0;\n",
              "      width: 32px;\n",
              "    }\n",
              "\n",
              "    .colab-df-convert:hover {\n",
              "      background-color: #E2EBFA;\n",
              "      box-shadow: 0px 1px 2px rgba(60, 64, 67, 0.3), 0px 1px 3px 1px rgba(60, 64, 67, 0.15);\n",
              "      fill: #174EA6;\n",
              "    }\n",
              "\n",
              "    .colab-df-buttons div {\n",
              "      margin-bottom: 4px;\n",
              "    }\n",
              "\n",
              "    [theme=dark] .colab-df-convert {\n",
              "      background-color: #3B4455;\n",
              "      fill: #D2E3FC;\n",
              "    }\n",
              "\n",
              "    [theme=dark] .colab-df-convert:hover {\n",
              "      background-color: #434B5C;\n",
              "      box-shadow: 0px 1px 3px 1px rgba(0, 0, 0, 0.15);\n",
              "      filter: drop-shadow(0px 1px 2px rgba(0, 0, 0, 0.3));\n",
              "      fill: #FFFFFF;\n",
              "    }\n",
              "  </style>\n",
              "\n",
              "    <script>\n",
              "      const buttonEl =\n",
              "        document.querySelector('#df-b1ea478b-8990-4037-adf2-bc5ea22d6228 button.colab-df-convert');\n",
              "      buttonEl.style.display =\n",
              "        google.colab.kernel.accessAllowed ? 'block' : 'none';\n",
              "\n",
              "      async function convertToInteractive(key) {\n",
              "        const element = document.querySelector('#df-b1ea478b-8990-4037-adf2-bc5ea22d6228');\n",
              "        const dataTable =\n",
              "          await google.colab.kernel.invokeFunction('convertToInteractive',\n",
              "                                                    [key], {});\n",
              "        if (!dataTable) return;\n",
              "\n",
              "        const docLinkHtml = 'Like what you see? Visit the ' +\n",
              "          '<a target=\"_blank\" href=https://colab.research.google.com/notebooks/data_table.ipynb>data table notebook</a>'\n",
              "          + ' to learn more about interactive tables.';\n",
              "        element.innerHTML = '';\n",
              "        dataTable['output_type'] = 'display_data';\n",
              "        await google.colab.output.renderOutput(dataTable, element);\n",
              "        const docLink = document.createElement('div');\n",
              "        docLink.innerHTML = docLinkHtml;\n",
              "        element.appendChild(docLink);\n",
              "      }\n",
              "    </script>\n",
              "  </div>\n",
              "\n",
              "\n",
              "<div id=\"df-3e2e25ba-6299-4ef7-8b9f-0afb304991d0\">\n",
              "  <button class=\"colab-df-quickchart\" onclick=\"quickchart('df-3e2e25ba-6299-4ef7-8b9f-0afb304991d0')\"\n",
              "            title=\"Suggest charts\"\n",
              "            style=\"display:none;\">\n",
              "\n",
              "<svg xmlns=\"http://www.w3.org/2000/svg\" height=\"24px\"viewBox=\"0 0 24 24\"\n",
              "     width=\"24px\">\n",
              "    <g>\n",
              "        <path d=\"M19 3H5c-1.1 0-2 .9-2 2v14c0 1.1.9 2 2 2h14c1.1 0 2-.9 2-2V5c0-1.1-.9-2-2-2zM9 17H7v-7h2v7zm4 0h-2V7h2v10zm4 0h-2v-4h2v4z\"/>\n",
              "    </g>\n",
              "</svg>\n",
              "  </button>\n",
              "\n",
              "<style>\n",
              "  .colab-df-quickchart {\n",
              "      --bg-color: #E8F0FE;\n",
              "      --fill-color: #1967D2;\n",
              "      --hover-bg-color: #E2EBFA;\n",
              "      --hover-fill-color: #174EA6;\n",
              "      --disabled-fill-color: #AAA;\n",
              "      --disabled-bg-color: #DDD;\n",
              "  }\n",
              "\n",
              "  [theme=dark] .colab-df-quickchart {\n",
              "      --bg-color: #3B4455;\n",
              "      --fill-color: #D2E3FC;\n",
              "      --hover-bg-color: #434B5C;\n",
              "      --hover-fill-color: #FFFFFF;\n",
              "      --disabled-bg-color: #3B4455;\n",
              "      --disabled-fill-color: #666;\n",
              "  }\n",
              "\n",
              "  .colab-df-quickchart {\n",
              "    background-color: var(--bg-color);\n",
              "    border: none;\n",
              "    border-radius: 50%;\n",
              "    cursor: pointer;\n",
              "    display: none;\n",
              "    fill: var(--fill-color);\n",
              "    height: 32px;\n",
              "    padding: 0;\n",
              "    width: 32px;\n",
              "  }\n",
              "\n",
              "  .colab-df-quickchart:hover {\n",
              "    background-color: var(--hover-bg-color);\n",
              "    box-shadow: 0 1px 2px rgba(60, 64, 67, 0.3), 0 1px 3px 1px rgba(60, 64, 67, 0.15);\n",
              "    fill: var(--button-hover-fill-color);\n",
              "  }\n",
              "\n",
              "  .colab-df-quickchart-complete:disabled,\n",
              "  .colab-df-quickchart-complete:disabled:hover {\n",
              "    background-color: var(--disabled-bg-color);\n",
              "    fill: var(--disabled-fill-color);\n",
              "    box-shadow: none;\n",
              "  }\n",
              "\n",
              "  .colab-df-spinner {\n",
              "    border: 2px solid var(--fill-color);\n",
              "    border-color: transparent;\n",
              "    border-bottom-color: var(--fill-color);\n",
              "    animation:\n",
              "      spin 1s steps(1) infinite;\n",
              "  }\n",
              "\n",
              "  @keyframes spin {\n",
              "    0% {\n",
              "      border-color: transparent;\n",
              "      border-bottom-color: var(--fill-color);\n",
              "      border-left-color: var(--fill-color);\n",
              "    }\n",
              "    20% {\n",
              "      border-color: transparent;\n",
              "      border-left-color: var(--fill-color);\n",
              "      border-top-color: var(--fill-color);\n",
              "    }\n",
              "    30% {\n",
              "      border-color: transparent;\n",
              "      border-left-color: var(--fill-color);\n",
              "      border-top-color: var(--fill-color);\n",
              "      border-right-color: var(--fill-color);\n",
              "    }\n",
              "    40% {\n",
              "      border-color: transparent;\n",
              "      border-right-color: var(--fill-color);\n",
              "      border-top-color: var(--fill-color);\n",
              "    }\n",
              "    60% {\n",
              "      border-color: transparent;\n",
              "      border-right-color: var(--fill-color);\n",
              "    }\n",
              "    80% {\n",
              "      border-color: transparent;\n",
              "      border-right-color: var(--fill-color);\n",
              "      border-bottom-color: var(--fill-color);\n",
              "    }\n",
              "    90% {\n",
              "      border-color: transparent;\n",
              "      border-bottom-color: var(--fill-color);\n",
              "    }\n",
              "  }\n",
              "</style>\n",
              "\n",
              "  <script>\n",
              "    async function quickchart(key) {\n",
              "      const quickchartButtonEl =\n",
              "        document.querySelector('#' + key + ' button');\n",
              "      quickchartButtonEl.disabled = true;  // To prevent multiple clicks.\n",
              "      quickchartButtonEl.classList.add('colab-df-spinner');\n",
              "      try {\n",
              "        const charts = await google.colab.kernel.invokeFunction(\n",
              "            'suggestCharts', [key], {});\n",
              "      } catch (error) {\n",
              "        console.error('Error during call to suggestCharts:', error);\n",
              "      }\n",
              "      quickchartButtonEl.classList.remove('colab-df-spinner');\n",
              "      quickchartButtonEl.classList.add('colab-df-quickchart-complete');\n",
              "    }\n",
              "    (() => {\n",
              "      let quickchartButtonEl =\n",
              "        document.querySelector('#df-3e2e25ba-6299-4ef7-8b9f-0afb304991d0 button');\n",
              "      quickchartButtonEl.style.display =\n",
              "        google.colab.kernel.accessAllowed ? 'block' : 'none';\n",
              "    })();\n",
              "  </script>\n",
              "</div>\n",
              "\n",
              "    </div>\n",
              "  </div>\n"
            ],
            "application/vnd.google.colaboratory.intrinsic+json": {
              "type": "dataframe",
              "summary": "{\n  \"name\": \"get_best_epoch_details(base_model_history, metric=\\\"val_auc\\\", mode=max)\",\n  \"rows\": 11,\n  \"fields\": [\n    {\n      \"column\": \"Metric\",\n      \"properties\": {\n        \"dtype\": \"string\",\n        \"num_unique_values\": 11,\n        \"samples\": [\n          \"val_accuracy\",\n          \"accuracy\",\n          \"val_recall\"\n        ],\n        \"semantic_type\": \"\",\n        \"description\": \"\"\n      }\n    },\n    {\n      \"column\": \"Value\",\n      \"properties\": {\n        \"dtype\": \"string\",\n        \"num_unique_values\": 11,\n        \"samples\": [\n          \"0.5016\",\n          \"0.6790\",\n          \"0.5757\"\n        ],\n        \"semantic_type\": \"\",\n        \"description\": \"\"\n      }\n    }\n  ]\n}"
            }
          },
          "metadata": {},
          "execution_count": 68
        }
      ],
      "source": [
        "def get_best_epoch_details(history, metric=\"val_loss\", mode=min):\n",
        "    metric_values = history.history[metric]\n",
        "    min_metric_value_index = metric_values.index(mode(metric_values))\n",
        "    best_epoch = min_metric_value_index + 1\n",
        "\n",
        "    metrics = []\n",
        "    values = []\n",
        "\n",
        "    for key, value in history.history.items():\n",
        "        metrics.append(key)\n",
        "        values.append(value[min_metric_value_index])\n",
        "\n",
        "    data = {'Metric': metrics, 'Value': values}\n",
        "    df = pd.DataFrame(data)\n",
        "    df['Value'] = df['Value'].map('{:.4f}'.format)\n",
        "    best_epoch_data = pd.DataFrame({'Metric': ['best_epoch'], 'Value': [str(best_epoch)]})\n",
        "    df = pd.concat([df, best_epoch_data], ignore_index=True)\n",
        "    return df\n",
        "\n",
        "get_best_epoch_details(base_model_history, metric=\"val_auc\", mode=max)"
      ]
    },
    {
      "cell_type": "code",
      "source": [
        "val_loss, val_accuracy, val_precision, val_recall, val_auc = base_model.evaluate(val_ds, verbose=0)\n",
        "f1_score = 2 * (val_precision * val_recall) / (val_precision + val_recall)\n",
        "print(f\"Validation Loss: {val_loss}\")\n",
        "print(f\"Validation Accuracy: {val_accuracy}\")\n",
        "print(f\"Validation AUC: {val_auc}\")\n",
        "print(f\"Validation Precision: {val_precision}\")\n",
        "print(f\"Validation Recall: {val_recall}\")\n",
        "print(f\"Validation F1-Score: {f1_score}\")"
      ],
      "metadata": {
        "colab": {
          "base_uri": "https://localhost:8080/"
        },
        "id": "jnXBySNvBGoP",
        "outputId": "b21b2123-03da-4370-b3ce-739c8ab991f4"
      },
      "execution_count": 69,
      "outputs": [
        {
          "output_type": "stream",
          "name": "stdout",
          "text": [
            "Validation Loss: 0.8451578617095947\n",
            "Validation Accuracy: 0.5015559196472168\n",
            "Validation AUC: 0.5514279007911682\n",
            "Validation Precision: 0.12587368488311768\n",
            "Validation Recall: 0.5757047533988953\n",
            "Validation F1-Score: 0.20658011923084893\n"
          ]
        }
      ]
    },
    {
      "cell_type": "code",
      "source": [
        "# Step 7: Make predictions\n",
        "y_pred = base_model.predict(X_val)\n",
        "# Convert probabilities to binary predictions (default threshold 0.5)\n",
        "y_pred_binary = (y_pred >= 0.5).astype(int)\n",
        "\n",
        "# Compute confusion matrix\n",
        "cm = confusion_matrix(y_val, y_pred_binary)\n",
        "class_names = [0,1]\n",
        "plt.figure()\n",
        "plot_confusion_matrix(cm,\n",
        "                      classes = class_names, )\n",
        "plt.savefig('2.xgb_cfl_confusion_matrix.png')\n",
        "plt.show()\n",
        "\n",
        "show_metrics(cm)"
      ],
      "metadata": {
        "colab": {
          "base_uri": "https://localhost:8080/",
          "height": 588
        },
        "id": "qHyFwGWDBlI5",
        "outputId": "b7b54728-18ef-463b-c729-0d307fbd7146"
      },
      "execution_count": 74,
      "outputs": [
        {
          "output_type": "stream",
          "name": "stdout",
          "text": [
            "\u001b[1m955/955\u001b[0m \u001b[32m━━━━━━━━━━━━━━━━━━━━\u001b[0m\u001b[37m\u001b[0m \u001b[1m2s\u001b[0m 2ms/step\n"
          ]
        },
        {
          "output_type": "display_data",
          "data": {
            "text/plain": [
              "<Figure size 1800x820 with 0 Axes>"
            ]
          },
          "metadata": {}
        },
        {
          "output_type": "display_data",
          "data": {
            "text/plain": [
              "<Figure size 500x500 with 2 Axes>"
            ],
            "image/png": "[encoded data removed]"
          },
          "metadata": {}
        },
        {
          "output_type": "stream",
          "name": "stdout",
          "text": [
            "Precision =     0.126\n",
            "Recall    =     0.576\n",
            "F1_score  =     0.207\n"
          ]
        }
      ]
    },
    {
      "cell_type": "code",
      "source": [],
      "metadata": {
        "id": "-3-8xQxlCaNa"
      },
      "execution_count": null,
      "outputs": []
    }
  ],
  "metadata": {
    "colab": {
      "provenance": []
    },
    "kernelspec": {
      "display_name": "Python 3",
      "name": "python3"
    },
    "language_info": {
      "name": "python"
    }
  },
  "nbformat": 4,
  "nbformat_minor": 0
}